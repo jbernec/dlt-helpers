{
 "cells": [
  {
   "cell_type": "code",
   "execution_count": 0,
   "metadata": {
    "application/vnd.databricks.v1+cell": {
     "cellMetadata": {
      "byteLimit": 2048000,
      "rowLimit": 10000
     },
     "inputWidgets": {},
     "nuid": "ae449cf1-de07-4e37-b1a7-23c8afe3a3af",
     "showTitle": false,
     "tableResultSettingsMap": {},
     "title": ""
    }
   },
   "outputs": [],
   "source": [
    "# dbutils.widgets.text(\"functional_test\", \"retail\")\n",
    "dbutils.widgets.dropdown(\"functional_test\", \"farmers\", [\"farmers\", \"retail\"])"
   ]
  },
  {
   "cell_type": "code",
   "execution_count": 0,
   "metadata": {
    "application/vnd.databricks.v1+cell": {
     "cellMetadata": {
      "byteLimit": 2048000,
      "rowLimit": 10000
     },
     "inputWidgets": {},
     "nuid": "cf7a0e8c-59f7-4609-bea3-e3d323a8c1f9",
     "showTitle": false,
     "tableResultSettingsMap": {},
     "title": ""
    }
   },
   "outputs": [],
   "source": [
    "import requests\n",
    "import json\n",
    "\n",
    "def start_job_run(job_id, parameters):\n",
    "    url = f\"https://adb-362282074994262.2.azuredatabricks.net/api/2.0/jobs/run-now\"\n",
    "    headers = {\n",
    "        \"Authorization\": f\"Bearer {dbutils.secrets.get('myscope', 'databricks-token')}\",\n",
    "        \"Content-Type\": \"application/json\"\n",
    "    }\n",
    "    data = {\n",
    "        \"job_id\": job_id,\n",
    "        \"job_parameters\": parameters\n",
    "    }\n",
    "    response = requests.post(url, headers=headers, data=json.dumps(data))\n",
    "    if response.status_code == 200:\n",
    "        print(\"Job run started successfully\")\n",
    "        return response.json()\n",
    "    else:\n",
    "        print(f\"Failed to start job run: {response.text}\")\n",
    "        return None\n",
    "\n",
    "selected_value = dbutils.widgets.get(\"functional_test\")\n",
    "if selected_value == \"farmers\":\n",
    "    job_id = \"979897659230918\"\n",
    "    parameters = {\"functional_test\": \"farmers\"}\n",
    "    status = start_job_run(job_id, parameters)\n",
    "elif selected_value == \"retail\":\n",
    "    job_id = \"460851111844889\"\n",
    "    parameters = {\"functional_test\": \"retail\"}\n",
    "    status = start_job_run(job_id, parameters)"
   ]
  },
  {
   "cell_type": "code",
   "execution_count": 0,
   "metadata": {
    "application/vnd.databricks.v1+cell": {
     "cellMetadata": {
      "byteLimit": 2048000,
      "rowLimit": 10000
     },
     "inputWidgets": {},
     "nuid": "226bd6bd-7589-4d59-bbd9-ff19532bfcab",
     "showTitle": false,
     "tableResultSettingsMap": {},
     "title": ""
    }
   },
   "outputs": [],
   "source": [
    "# import requests\n",
    "# import json\n",
    "\n",
    "\n",
    "\n",
    "# def start_dlt_pipeline(pipeline_id):\n",
    "#     url = f\"https://adb-362282074994262.2.azuredatabricks.net/api/2.0/pipelines/{pipeline_id}/updates\"\n",
    "#     headers = {\n",
    "#         \"Authorization\": f\"Bearer {dbutils.secrets.get('myscope', 'databricks-token')}\",\n",
    "#         \"Content-Type\": \"application/json\"\n",
    "#     }\n",
    "#     response = requests.post(url, headers=headers)\n",
    "#     if response.status_code == 200:\n",
    "#         print(\"Pipeline started successfully\")\n",
    "#     else:\n",
    "#         print(f\"Failed to start pipeline: {response.text}\")\n",
    "\n",
    "# if dbutils.widgets.get(\"functional-test\") == \"okta\":\n",
    "#     pipeline_id = \"1e3765b1-79a4-47e7-82b9-885c037d2fde\"\n",
    "#     status = start_dlt_pipeline(pipeline_id)"
   ]
  }
 ],
 "metadata": {
  "application/vnd.databricks.v1+notebook": {
   "computePreferences": null,
   "dashboards": [],
   "environmentMetadata": {
    "base_environment": "",
    "client": "1"
   },
   "language": "python",
   "notebookMetadata": {
    "pythonIndentUnit": 4
   },
   "notebookName": "controller_notebook",
   "widgets": {
    "functional_test": {
     "currentValue": "retail",
     "nuid": "13742d40-b56f-4e37-b561-869dded03fb7",
     "typedWidgetInfo": {
      "autoCreated": false,
      "defaultValue": "farmers",
      "label": null,
      "name": "functional_test",
      "options": {
       "widgetDisplayType": "Dropdown",
       "choices": [
        "farmers",
        "retail"
       ],
       "fixedDomain": true,
       "multiselect": false
      },
      "parameterDataType": "String"
     },
     "widgetInfo": {
      "widgetType": "dropdown",
      "defaultValue": "farmers",
      "label": null,
      "name": "functional_test",
      "options": {
       "widgetType": "dropdown",
       "autoCreated": null,
       "choices": [
        "farmers",
        "retail"
       ]
      }
     }
    }
   }
  },
  "language_info": {
   "name": "python"
  }
 },
 "nbformat": 4,
 "nbformat_minor": 0
}
