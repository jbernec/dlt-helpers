{
 "cells": [
  {
   "cell_type": "code",
   "execution_count": 0,
   "metadata": {
    "application/vnd.databricks.v1+cell": {
     "cellMetadata": {
      "byteLimit": 2048000,
      "implicitDf": true,
      "rowLimit": 10000
     },
     "inputWidgets": {},
     "nuid": "6ecd065f-b459-42ec-911b-4c361472dbd2",
     "showTitle": false,
     "tableResultSettingsMap": {},
     "title": ""
    }
   },
   "outputs": [],
   "source": [
    "%sql\n",
    "\n",
    "USE CATALOG dlt_catalog;\n",
    "USE SCHEMA dlt_schema;\n",
    "CREATE or Replace VIEW event_log_raw AS SELECT * FROM event_log(TABLE(dlt_catalog.dlt_schema.raw_farmers_market));"
   ]
  },
  {
   "cell_type": "code",
   "execution_count": 0,
   "metadata": {
    "application/vnd.databricks.v1+cell": {
     "cellMetadata": {
      "byteLimit": 2048000,
      "rowLimit": 10000
     },
     "inputWidgets": {},
     "nuid": "d60b0f0b-f171-4770-a998-8d17006fd7b5",
     "showTitle": false,
     "tableResultSettingsMap": {},
     "title": ""
    }
   },
   "outputs": [],
   "source": [
    "df_events = spark.sql(\"\"\"\n",
    "          SELECT * FROM event_log(TABLE(dlt_catalog.dlt_schema.raw_farmers_market))\n",
    "          \"\"\")"
   ]
  },
  {
   "cell_type": "code",
   "execution_count": 0,
   "metadata": {
    "application/vnd.databricks.v1+cell": {
     "cellMetadata": {
      "byteLimit": 2048000,
      "rowLimit": 10000
     },
     "inputWidgets": {},
     "nuid": "91a4cead-2570-4e04-8913-077be80f71e5",
     "showTitle": false,
     "tableResultSettingsMap": {},
     "title": ""
    }
   },
   "outputs": [
    {
     "output_type": "display_data",
     "data": {
      "text/html": [
       "<style scoped>\n",
       "  .table-result-container {\n",
       "    max-height: 300px;\n",
       "    overflow: auto;\n",
       "  }\n",
       "  table, th, td {\n",
       "    border: 1px solid black;\n",
       "    border-collapse: collapse;\n",
       "  }\n",
       "  th, td {\n",
       "    padding: 5px;\n",
       "  }\n",
       "  th {\n",
       "    text-align: left;\n",
       "  }\n",
       "</style><div class='table-result-container'><table class='table-result'><thead style='background-color: white'><tr><th>id</th><th>sequence</th><th>origin</th><th>timestamp</th><th>message</th><th>level</th><th>maturity_level</th><th>error</th><th>details</th><th>event_type</th></tr></thead><tbody><tr><td>3c21d8c0-ade2-11ef-8457-00163e3daa30</td><td>List(List(execution, 1732837264208001), null)</td><td>List(Azure, centralus, 362282074994262, null, 6fb47b49-ba9a-465d-8f7c-95f423557b9d, WORKSPACE, farmers market dlt pipeline, 1128-233914-fkcnmatm, 66dbe11f-96db-4bec-9366-125e631cb906, null, null, null, null, null, null, 66dbe11f-96db-4bec-9366-125e631cb906, null)</td><td>2024-11-28T23:41:05.484Z</td><td>Update 66dbe1 is INITIALIZING.</td><td>INFO</td><td>STABLE</td><td>null</td><td>{\"update_progress\":{\"state\":\"INITIALIZING\"}}</td><td>update_progress</td></tr><tr><td>f6871730-ade1-11ef-8fb2-92c611654b16</td><td>List(List(execution, 1732837264208002), 1732837148708001)</td><td>List(Azure, centralus, 362282074994262, null, 6fb47b49-ba9a-465d-8f7c-95f423557b9d, WORKSPACE, farmers market dlt pipeline, null, null, null, null, null, null, null, null, null, null)</td><td>2024-11-28T23:39:08.707Z</td><td>User admin@mngenvmcap374485.onmicrosoft.com created pipeline.</td><td>INFO</td><td>STABLE</td><td>null</td><td>{\"user_action\":{\"action\":\"CREATE\",\"user_name\":\"admin@mngenvmcap374485.onmicrosoft.com\",\"user_id\":2830541782567654,\"request\":{\"create_request\":{\"id\":\"6fb47b49-ba9a-465d-8f7c-95f423557b9d\",\"pipeline_type\":\"WORKSPACE\",\"name\":\"farmers market dlt pipeline\",\"clusters\":[{\"label\":\"default\",\"node_type_id\":\"Standard_DS3_v2\",\"autoscale\":{\"min_workers\":1,\"max_workers\":2,\"mode\":\"ENHANCED\"}}],\"libraries\":[{\"notebook\":{\"path\":\"/Users/admin@mngenvmcap374485.onmicrosoft.com/dlt-helpers/integration-testing/dlt_integration_pipeline\"}}],\"target\":\"dlt_schema\",\"continuous\":false,\"development\":true,\"photon\":false,\"edition\":\"ADVANCED\",\"channel\":\"CURRENT\",\"catalog\":\"dlt_catalog\",\"data_sampling\":false}}}}</td><td>user_action</td></tr><tr><td>f9eb29c0-ade1-11ef-8fb2-92c611654b16</td><td>List(List(execution, 1732837264208003), 1732837154396001)</td><td>List(Azure, centralus, 362282074994262, null, 6fb47b49-ba9a-465d-8f7c-95f423557b9d, WORKSPACE, farmers market dlt pipeline, null, 66dbe11f-96db-4bec-9366-125e631cb906, null, null, null, null, null, null, 66dbe11f-96db-4bec-9366-125e631cb906, null)</td><td>2024-11-28T23:39:14.396Z</td><td>User admin@mngenvmcap374485.onmicrosoft.com started an update.</td><td>INFO</td><td>STABLE</td><td>null</td><td>{\"user_action\":{\"action\":\"START\",\"user_name\":\"admin@mngenvmcap374485.onmicrosoft.com\",\"user_id\":2830541782567654,\"request\":{\"start_request\":{\"full_refresh\":false,\"validate_only\":false}}}}</td><td>user_action</td></tr><tr><td>f9f42a70-ade1-11ef-8fb2-92c611654b16</td><td>List(List(execution, 1732837264208004), 1732837154456001)</td><td>List(Azure, centralus, 362282074994262, null, 6fb47b49-ba9a-465d-8f7c-95f423557b9d, WORKSPACE, farmers market dlt pipeline, null, 66dbe11f-96db-4bec-9366-125e631cb906, null, null, null, null, null, null, 66dbe11f-96db-4bec-9366-125e631cb906, null)</td><td>2024-11-28T23:39:14.455Z</td><td>Update 66dbe1 started by API_CALL.</td><td>INFO</td><td>STABLE</td><td>null</td><td>{\"create_update\":{\"cause\":\"API_CALL\",\"config\":{\"id\":\"6fb47b49-ba9a-465d-8f7c-95f423557b9d\",\"pipeline_type\":\"WORKSPACE\",\"name\":\"farmers market dlt pipeline\",\"configuration\":{\"pipelines.allowClearingTableComment\":\"true\",\"pipelines.alterViewsInHMS.enabled\":\"true\",\"pipelines.analysis.maybeResolveFlowsParallely\":\"true\",\"pipelines.analysis.maybeResolvePureSQLPipelinesParallely\":\"true\",\"pipelines.applyChanges.viewMetrics.enabled\":\"true\",\"pipelines.applyChangesFromSnapshot.analyzeLambdaSourceWithoutPipelineContext\":\"true\",\"pipelines.applyChangesFromSnapshot.castSnapshotToTargetSchema\":\"true\",\"pipelines.applyChangesFromSnapshot.stateStoreFormat\":\"proto\",\"pipelines.changeDataFeed.enabled\":\"true\",\"pipelines.dataPlaneStructuredLogging.enabled\":\"true\",\"pipelines.decomposition.enableOnSnapshotFlow\":\"true\",\"pipelines.decomposition.enabled\":\"true\",\"pipelines.dltDebugger.enableNodeStatusReporter\":\"true\",\"pipelines.dltDebugger.nodeStatusEventLoggingEnabled\":\"false\",\"pipelines.enableApplyChangesLineage.enabled\":\"true\",\"pipelines.enableBlockListReconciliationQueryDefinition\":\"true\",\"pipelines.enableContinuousPipelineTriggerValidation\":\"false\",\"pipelines.enableCyclicDependencyDetection\":\"true\",\"pipelines.enableEventLogTableIdWrites\":\"true\",\"pipelines.enableLiveSchemaUsageValidation\":\"true\",\"pipelines.enableNewFlowTypes\":\"false\",\"pipelines.enableUpdateWarmPoolManager\":\"true\",\"pipelines.enzyme.classic.action\":\"Block\",\"pipelines.enzyme.decomposeAggExpr.enabled\":\"true\",\"pipelines.enzyme.enableAggOverJoin\":\"true\",\"pipelines.enzyme.enableAggOverJoinFallback\":\"true\",\"pipelines.enzyme.enableJoinComposition\":\"true\",\"pipelines.enzyme.enableRowId\":\"true\",\"pipelines.enzyme.enableSPUJFullOuterJoinIncrementalization\":\"true\",\"pipelines.enzyme.enableSPUJIncrementalization\":\"true\",\"pipelines.enzyme.enableSPUJInnerJoinIncrementalization\":\"true\",\"pipelines.enzyme.enableSPUJLeftAntiJoinIncrementalization\":\"true\",\"pipelines.enzyme.enableSPUJLeftJoinIncrementalization\":\"true\",\"pipelines.enzyme.enableSPUJRightJoinIncrementalization\":\"true\",\"pipelines.enzyme.enableTableChangeSizeV3\":\"true\",\"pipelines.enzyme.enableWindowFunctionWithDiffPartitioning\":\"true\",\"pipelines.enzyme.enabled\":\"true\",\"pipelines.enzyme.enzymeEnableTableChangeSizeV2\":\"true\",\"pipelines.enzyme.expectation.fallbackToClassic\":\"true\",\"pipelines.enzyme.expectation.fallbackToClassicPerFlow\":\"true\",\"pipelines.enzyme.fileActionCountThreshold\":\"2000000000\",\"pipelines.enzyme.fileActionPruningInCdf.enabled\":\"true\",\"pipelines.enzyme.genericAggregationTechnique.enabled\":\"true\",\"pipelines.enzyme.mode\":\"Basic\",\"pipelines.enzyme.windowFunctionTechniqueEnabled.enabled\":\"true\",\"pipelines.eventLevelDataFrameCollectUsage\":\"warn\",\"pipelines.eventLevelDataFrameSaveAsTableUsage\":\"warn\",\"pipelines.eventLevelDataFrameSaveUsage\":\"warn\",\"pipelines.eventLevelDataStreamWriterStartUsage\":\"warn\",\"pipelines.eventLevelPivotUsage\":\"warn\",\"pipelines.events.enableSourceCodePosition\":\"true\",\"pipelines.initResourceAllocationBeforeEventLog\":\"true\",\"pipelines.instrumentLoadInSparkReader\":\"false\",\"pipelines.lazyInitializeUpdateWarmPoolManager\":\"true\",\"pipelines.lineageEmission.enabled\":\"true\",\"pipelines.maxDatasetsPerPipeline\":\"1000\",\"pipelines.metrics.clusterResources.enabled\":\"true\",\"pipelines.metrics.flowProgressAdditionalBacklogMetricsEnabled\":\"true\",\"pipelines.metrics.flowTimeReporter.enabled\":\"true\",\"pipelines.mv.partitionUpdate.enabled\":\"true\",\"pipelines.numPythonREPLsToWarmPerUpdate\":\"1\",\"pipelines.parallelPythonReplInitialization\":\"true\",\"pipelines.parallelUCContextInitialization\":\"true\",\"pipelines.parallelizeCreateMatzPaths\":\"true\",\"pipelines.parallelizeMaterializeTables\":\"true\",\"pipelines.partitioning.clusterBy.enabled\":\"true\",\"pipelines.publishPrivateTableInOldArchitecture\":\"false\",\"pipelines.schemaStorageLocations.enabled\":\"true\",\"pipelines.streamingFlowReadOptionsEnabled\":\"true\",\"pipelines.throwOnUnexpectedMaterializationCreation\":\"true\",\"pipelines.topologicalOrderForStreamingFlowsUponFullRefresh.enabled\":\"true\",\"pipelines.updateSnapshot.enabled\":\"true\",\"pipelines.updateSnapshot.incrementalEventSummaries.enabled\":\"true\",\"pipelines.updateSnapshot.incrementalTimeSeries.enabled\":\"true\",\"pipelines.updateSnapshot.timeSeriesSummaryGeneratorEnabled\":\"true\",\"pipelines.updateSnapshot.timeSeriesSummarySourceMetricsEnabled\":\"false\",\"pipelines.updateWarmPoolManagerSize\":\"1\",\"pipelines.useCacheForMVPlanning.enabled\":\"true\",\"pipelines.useNewReadInputApi\":\"true\",\"pipelines.useUCMetadataCache\":\"true\",\"pipelines.useViewsInReconciliationFlowQueries\":\"true\",\"spark.databricks.dataLineage.mergeIntoV2Enabled\":\"false\",\"spark.databricks.delta.clone.es1281016.useFullDVPathForDiff\":\"false\",\"spark.databricks.delta.tableFeatures.improvedProtocolTransitions.enabled\":\"false\",\"spark.databricks.photon.photonizeRegexpUsingFallback\":\"false\",\"spark.databricks.photon.scan.distinctFilter.enabled\":\"false\",\"spark.databricks.photon.timestampNTZ.enabled\":\"false\",\"spark.databricks.sql.expression.aiFunctions.repartition\":\"0\",\"spark.databricks.sql.functions.aiFunctions.adaptiveThreadPool.clusterSizeBasedGlobalParallelism.scaleFactor\":\"32.0\",\"spark.databricks.sql.functions.aiFunctions.adaptiveThreadPool.debugLogEnabled\":\"true\",\"spark.databricks.sql.functions.aiFunctions.adaptiveThreadPool.enabled\":\"true\",\"spark.databricks.sql.functions.aiFunctions.adaptiveThreadPool.maxPoolSize\":\"2048\",\"spark.databricks.sql.functions.aiFunctions.adaptiveThreadPool.maxPoolSizeForBatch\":\"512\",\"spark.databricks.sql.functions.aiFunctions.adaptiveThreadPool.scaleUpThresholdCurrentQpsIncreaseRatio\":\"0.0\",\"spark.databricks.sql.functions.aiFunctions.adaptiveThreadPool.scaleUpThresholdSuccessRatio\":\"0.95\",\"spark.databricks.sql.functions.aiFunctions.adaptiveThreadPool.scaleUpThresholdTotalQpsIncreaseRatio\":\"0.0\",\"spark.databricks.sql.functions.aiFunctions.adaptiveThreadPool.taskWaitTimeInSeconds\":\"1000\",\"spark.databricks.sql.functions.aiFunctions.adaptiveThreadPool.threadKeepAliveTimeInSeconds\":\"600\",\"spark.databricks.sql.functions.aiFunctions.batch.aiQuery.embedding.request.size\":\"4\",\"spark.databricks.sql.functions.aiFunctions.batch.execution.size\":\"2048\",\"spark.databricks.sql.functions.aiFunctions.decimal.dataType.enabled\":\"true\",\"spark.databricks.sql.functions.aiFunctions.model.parameters.enabled\":\"true\",\"spark.databricks.sql.functions.aiFunctions.modelEndpointTypeParsing.enabled\":\"true\",\"spark.databricks.sql.functions.aiFunctions.remoteHttpClient.maxConnections\":\"2048\",\"spark.databricks.sql.functions.aiFunctions.remoteHttpClient.timeoutInSeconds\":\"300\",\"spark.databricks.sql.functions.aiFunctions.safe.inference.enabled\":\"true\",\"spark.databricks.sql.functions.aiFunctions.useDedicatedHttpClient\":\"true\",\"spark.databricks.sql.functions.aiGen.endpointName\":\"databricks-meta-llama-3-1-70b-instruct\",\"spark.databricks.sql.rowColumnAccess.mvst.enabled\":\"true\",\"spark.databricks.unityCatalog.dbfs.enabled\":\"false\",\"spark.databricks.unityCatalog.glue.federation.enabled\":\"true\",\"spark.databricks.unityCatalog.hms.federation.enableDbfsSupport\":\"true\",\"spark.databricks.unityCatalog.hms.federation.enabled\":\"false\",\"spark.databricks.unityCatalog.lakehouseFederation.writes.enabled\":\"true\",\"spark.sql.functions.remoteHttpClient.retryOn400TimeoutError\":\"true\",\"spark.sql.functions.remoteHttpClient.retryOnSocketTimeoutException\":\"true\",\"spark.sql.optimizer.optimizeCsvJsonExprs.useSchemaField\":\"false\",\"pipelines.maxFlowRetryAttempts\":\"0\"},\"clusters\":[{\"label\":\"default\",\"node_type_id\":\"Standard_DS3_v2\",\"autoscale\":{\"min_workers\":1,\"max_workers\":2,\"mode\":\"ENHANCED\"}}],\"libraries\":[{\"notebook\":{\"path\":\"/Users/admin@mngenvmcap374485.onmicrosoft.com/dlt-helpers/integration-testing/dlt_integration_pipeline\"}}],\"target\":\"dlt_schema\",\"continuous\":false,\"development\":true,\"photon\":false,\"edition\":\"ADVANCED\",\"channel\":\"CURRENT\",\"catalog\":\"dlt_catalog\",\"serverless\":false,\"data_sampling\":false},\"failed_attempts\":0,\"full_refresh\":false,\"run_as_user_id\":2830541782567654,\"runtime_version\":{\"dbr_version\":\"14.1\",\"universe_commit\":\"21538f05cc0269526d9d89015b7841796a58c7b7\",\"runtime_commit\":\"8ccb015d21fd3a340aea328e5985206ca39263aa\",\"channel\":\"CURRENT\",\"image_key\":\"dlt:14.1.23-delta-pipelines-dlt-release-dp-2024.46-rc0-commit-f2385ad-image-30e4e22\"},\"validate_only\":false}}</td><td>create_update</td></tr><tr><td>fa58dfb0-ade1-11ef-8fb2-92c611654b16</td><td>List(List(execution, 1732837264208005), 1732837155117001)</td><td>List(Azure, centralus, 362282074994262, null, 6fb47b49-ba9a-465d-8f7c-95f423557b9d, WORKSPACE, farmers market dlt pipeline, 1128-233914-fkcnmatm, 66dbe11f-96db-4bec-9366-125e631cb906, null, null, null, null, null, null, 66dbe11f-96db-4bec-9366-125e631cb906, null)</td><td>2024-11-28T23:39:15.115Z</td><td>Update 66dbe1 is WAITING_FOR_RESOURCES.</td><td>INFO</td><td>STABLE</td><td>null</td><td>{\"update_progress\":{\"state\":\"WAITING_FOR_RESOURCES\"}}</td><td>update_progress</td></tr><tr><td>48e38860-ade2-11ef-8457-00163e3daa30</td><td>List(List(execution, 1732837264208006), null)</td><td>List(Azure, centralus, 362282074994262, null, 6fb47b49-ba9a-465d-8f7c-95f423557b9d, WORKSPACE, farmers market dlt pipeline, 1128-233914-fkcnmatm, 66dbe11f-96db-4bec-9366-125e631cb906, null, null, null, null, null, null, 66dbe11f-96db-4bec-9366-125e631cb906, null)</td><td>2024-11-28T23:41:26.886Z</td><td>Update 66dbe1 is SETTING_UP_TABLES.</td><td>INFO</td><td>STABLE</td><td>null</td><td>{\"update_progress\":{\"state\":\"SETTING_UP_TABLES\"}}</td><td>update_progress</td></tr><tr><td>4b50dee0-ade2-11ef-8457-00163e3daa30</td><td>List(List(execution, 1732837264208007), null)</td><td>List(Azure, centralus, 362282074994262, null, 6fb47b49-ba9a-465d-8f7c-95f423557b9d, WORKSPACE, farmers market dlt pipeline, 1128-233914-fkcnmatm, 66dbe11f-96db-4bec-9366-125e631cb906, null, null, null, null, null, null, 66dbe11f-96db-4bec-9366-125e631cb906, null)</td><td>2024-11-28T23:41:30.958Z</td><td>STREAMING_TABLE `dlt_catalog`.`dlt_schema`.`raw_farmers_market` has been created.</td><td>INFO</td><td>EVOLVING</td><td>null</td><td>{\"dataset_life_cycle\":{\"state\":\"CREATED\",\"dataset_type\":\"STREAMING_TABLE\"}}</td><td>dataset_life_cycle</td></tr><tr><td>4c4ca400-ade2-11ef-8457-00163e3daa30</td><td>List(List(execution, 1732837264208008), null)</td><td>List(Azure, centralus, 362282074994262, null, 6fb47b49-ba9a-465d-8f7c-95f423557b9d, WORKSPACE, farmers market dlt pipeline, 1128-233914-fkcnmatm, 66dbe11f-96db-4bec-9366-125e631cb906, null, null, null, null, null, null, 66dbe11f-96db-4bec-9366-125e631cb906, null)</td><td>2024-11-28T23:41:32.608Z</td><td>Reported cluster resources metrics.</td><td>METRICS</td><td>STABLE</td><td>null</td><td>{\"cluster_resources\":{\"summary_duration_ms\":60000,\"num_task_slots\":4,\"avg_num_task_slots\":3.9967332788879815,\"num_executors\":1,\"avg_num_queued_tasks\":0.0,\"state\":\"CLUSTER_AT_DESIRED_SIZE\",\"optimal_num_executors\":1}}</td><td>cluster_resources</td></tr><tr><td>4c847ce0-ade2-11ef-8457-00163e3daa30</td><td>List(List(execution, 1732837264208009), null)</td><td>List(Azure, centralus, 362282074994262, null, 6fb47b49-ba9a-465d-8f7c-95f423557b9d, WORKSPACE, farmers market dlt pipeline, 1128-233914-fkcnmatm, 66dbe11f-96db-4bec-9366-125e631cb906, null, null, null, null, raw_farmers_market, null, 66dbe11f-96db-4bec-9366-125e631cb906, null)</td><td>2024-11-28T23:41:32.974Z</td><td>Flow 'raw_farmers_market' defined as INCREMENTAL.</td><td>INFO</td><td>STABLE</td><td>null</td><td>{\"flow_definition\":{\"output_dataset\":\"raw_farmers_market\",\"explain_text\":\"~StreamingRelation DataSource(org.apache.spark.sql.SparkSession@51806d13,cloudFiles,List(),None,List(),None,Map(cloudFiles.inferColumnTypes -> true, path -> /tmp/delta/concat, cloudFiles.schemaEvolutionMode -> rescue, cloudFiles.format -> parquet, cloudFiles.schemaLocation -> abfss://unity-catalog@adls04.dfs.core.windows.net/csvdata/_schematracking, cloudFiles.inferSchema -> true),None), cloudFiles, [FMID#1000, MarketName#1001, website#1002, Facebook#1003, Twitter#1004, Youtube#1005, OtherMedia#1006, street#1007, city#1008, County#1009, State#1010, zip#1011, Season1Date#1012, Season1Time#1013, Season2Date#1014, Season2Time#1015, Season3Date#1016, Season3Time#1017, Season4Date#1018, Season4Time#1019, x#1020, y#1021, Location#1022, Credit#1023, ... 36 more fields]\",\"schema_json\":\"{\\\"type\\\":\\\"struct\\\",\\\"fields\\\":[{\\\"name\\\":\\\"FMID\\\",\\\"type\\\":\\\"string\\\",\\\"nullable\\\":true,\\\"metadata\\\":{}},{\\\"name\\\":\\\"MarketName\\\",\\\"type\\\":\\\"string\\\",\\\"nullable\\\":true,\\\"metadata\\\":{}},{\\\"name\\\":\\\"website\\\",\\\"type\\\":\\\"string\\\",\\\"nullable\\\":true,\\\"metadata\\\":{}},{\\\"name\\\":\\\"Facebook\\\",\\\"type\\\":\\\"string\\\",\\\"nullable\\\":true,\\\"metadata\\\":{}},{\\\"name\\\":\\\"Twitter\\\",\\\"type\\\":\\\"string\\\",\\\"nullable\\\":true,\\\"metadata\\\":{}},{\\\"name\\\":\\\"Youtube\\\",\\\"type\\\":\\\"string\\\",\\\"nullable\\\":true,\\\"metadata\\\":{}},{\\\"name\\\":\\\"OtherMedia\\\",\\\"type\\\":\\\"string\\\",\\\"nullable\\\":true,\\\"metadata\\\":{}},{\\\"name\\\":\\\"street\\\",\\\"type\\\":\\\"string\\\",\\\"nullable\\\":true,\\\"metadata\\\":{}},{\\\"name\\\":\\\"city\\\",\\\"type\\\":\\\"string\\\",\\\"nullable\\\":true,\\\"metadata\\\":{}},{\\\"name\\\":\\\"County\\\",\\\"type\\\":\\\"string\\\",\\\"nullable\\\":true,\\\"metadata\\\":{}},{\\\"name\\\":\\\"State\\\",\\\"type\\\":\\\"string\\\",\\\"nullable\\\":true,\\\"metadata\\\":{}},{\\\"name\\\":\\\"zip\\\",\\\"type\\\":\\\"string\\\",\\\"nullable\\\":true,\\\"metadata\\\":{}},{\\\"name\\\":\\\"Season1Date\\\",\\\"type\\\":\\\"string\\\",\\\"nullable\\\":true,\\\"metadata\\\":{}},{\\\"name\\\":\\\"Season1Time\\\",\\\"type\\\":\\\"string\\\",\\\"nullable\\\":true,\\\"metadata\\\":{}},{\\\"name\\\":\\\"Season2Date\\\",\\\"type\\\":\\\"string\\\",\\\"nullable\\\":true,\\\"metadata\\\":{}},{\\\"name\\\":\\\"Season2Time\\\",\\\"type\\\":\\\"string\\\",\\\"nullable\\\":true,\\\"metadata\\\":{}},{\\\"name\\\":\\\"Season3Date\\\",\\\"type\\\":\\\"string\\\",\\\"nullable\\\":true,\\\"metadata\\\":{}},{\\\"name\\\":\\\"Season3Time\\\",\\\"type\\\":\\\"string\\\",\\\"nullable\\\":true,\\\"metadata\\\":{}},{\\\"name\\\":\\\"Season4Date\\\",\\\"type\\\":\\\"string\\\",\\\"nullable\\\":true,\\\"metadata\\\":{}},{\\\"name\\\":\\\"Season4Time\\\",\\\"type\\\":\\\"string\\\",\\\"nullable\\\":true,\\\"metadata\\\":{}},{\\\"name\\\":\\\"x\\\",\\\"type\\\":\\\"string\\\",\\\"nullable\\\":true,\\\"metadata\\\":{}},{\\\"name\\\":\\\"y\\\",\\\"type\\\":\\\"string\\\",\\\"nullable\\\":true,\\\"metadata\\\":{}},{\\\"name\\\":\\\"Location\\\",\\\"type\\\":\\\"string\\\",\\\"nullable\\\":true,\\\"metadata\\\":{}},{\\\"name\\\":\\\"Credit\\\",\\\"type\\\":\\\"string\\\",\\\"nullable\\\":true,\\\"metadata\\\":{}},{\\\"name\\\":\\\"WIC\\\",\\\"type\\\":\\\"string\\\",\\\"nullable\\\":true,\\\"metadata\\\":{}},{\\\"name\\\":\\\"WICcash\\\",\\\"type\\\":\\\"string\\\",\\\"nullable\\\":true,\\\"metadata\\\":{}},{\\\"name\\\":\\\"SFMNP\\\",\\\"type\\\":\\\"string\\\",\\\"nullable\\\":true,\\\"metadata\\\":{}},{\\\"name\\\":\\\"SNAP\\\",\\\"type\\\":\\\"string\\\",\\\"nullable\\\":true,\\\"metadata\\\":{}},{\\\"name\\\":\\\"Organic\\\",\\\"type\\\":\\\"string\\\",\\\"nullable\\\":true,\\\"metadata\\\":{}},{\\\"name\\\":\\\"Bakedgoods\\\",\\\"type\\\":\\\"string\\\",\\\"nullable\\\":true,\\\"metadata\\\":{}},{\\\"name\\\":\\\"Cheese\\\",\\\"type\\\":\\\"string\\\",\\\"nullable\\\":true,\\\"metadata\\\":{}},{\\\"name\\\":\\\"Crafts\\\",\\\"type\\\":\\\"string\\\",\\\"nullable\\\":true,\\\"metadata\\\":{}},{\\\"name\\\":\\\"Flowers\\\",\\\"type\\\":\\\"string\\\",\\\"nullable\\\":true,\\\"metadata\\\":{}},{\\\"name\\\":\\\"Eggs\\\",\\\"type\\\":\\\"string\\\",\\\"nullable\\\":true,\\\"metadata\\\":{}},{\\\"name\\\":\\\"Seafood\\\",\\\"type\\\":\\\"string\\\",\\\"nullable\\\":true,\\\"metadata\\\":{}},{\\\"name\\\":\\\"Herbs\\\",\\\"type\\\":\\\"string\\\",\\\"nullable\\\":true,\\\"metadata\\\":{}},{\\\"name\\\":\\\"Vegetables\\\",\\\"type\\\":\\\"string\\\",\\\"nullable\\\":true,\\\"metadata\\\":{}},{\\\"name\\\":\\\"Honey\\\",\\\"type\\\":\\\"string\\\",\\\"nullable\\\":true,\\\"metadata\\\":{}},{\\\"name\\\":\\\"Jams\\\",\\\"type\\\":\\\"string\\\",\\\"nullable\\\":true,\\\"metadata\\\":{}},{\\\"name\\\":\\\"Maple\\\",\\\"type\\\":\\\"string\\\",\\\"nullable\\\":true,\\\"metadata\\\":{}},{\\\"name\\\":\\\"Meat\\\",\\\"type\\\":\\\"string\\\",\\\"nullable\\\":true,\\\"metadata\\\":{}},{\\\"name\\\":\\\"Nursery\\\",\\\"type\\\":\\\"string\\\",\\\"nullable\\\":true,\\\"metadata\\\":{}},{\\\"name\\\":\\\"Nuts\\\",\\\"type\\\":\\\"string\\\",\\\"nullable\\\":true,\\\"metadata\\\":{}},{\\\"name\\\":\\\"Plants\\\",\\\"type\\\":\\\"string\\\",\\\"nullable\\\":true,\\\"metadata\\\":{}},{\\\"name\\\":\\\"Poultry\\\",\\\"type\\\":\\\"string\\\",\\\"nullable\\\":true,\\\"metadata\\\":{}},{\\\"name\\\":\\\"Prepared\\\",\\\"type\\\":\\\"string\\\",\\\"nullable\\\":true,\\\"metadata\\\":{}},{\\\"name\\\":\\\"Soap\\\",\\\"type\\\":\\\"string\\\",\\\"nullable\\\":true,\\\"metadata\\\":{}},{\\\"name\\\":\\\"Trees\\\",\\\"type\\\":\\\"string\\\",\\\"nullable\\\":true,\\\"metadata\\\":{}},{\\\"name\\\":\\\"Wine\\\",\\\"type\\\":\\\"string\\\",\\\"nullable\\\":true,\\\"metadata\\\":{}},{\\\"name\\\":\\\"Coffee\\\",\\\"type\\\":\\\"string\\\",\\\"nullable\\\":true,\\\"metadata\\\":{}},{\\\"name\\\":\\\"Beans\\\",\\\"type\\\":\\\"string\\\",\\\"nullable\\\":true,\\\"metadata\\\":{}},{\\\"name\\\":\\\"Fruits\\\",\\\"type\\\":\\\"string\\\",\\\"nullable\\\":true,\\\"metadata\\\":{}},{\\\"name\\\":\\\"Grains\\\",\\\"type\\\":\\\"string\\\",\\\"nullable\\\":true,\\\"metadata\\\":{}},{\\\"name\\\":\\\"Juices\\\",\\\"type\\\":\\\"string\\\",\\\"nullable\\\":true,\\\"metadata\\\":{}},{\\\"name\\\":\\\"Mushrooms\\\",\\\"type\\\":\\\"string\\\",\\\"nullable\\\":true,\\\"metadata\\\":{}},{\\\"name\\\":\\\"PetFood\\\",\\\"type\\\":\\\"string\\\",\\\"nullable\\\":true,\\\"metadata\\\":{}},{\\\"name\\\":\\\"Tofu\\\",\\\"type\\\":\\\"string\\\",\\\"nullable\\\":true,\\\"metadata\\\":{}},{\\\"name\\\":\\\"WildHarvested\\\",\\\"type\\\":\\\"string\\\",\\\"nullable\\\":true,\\\"metadata\\\":{}},{\\\"name\\\":\\\"updateTime\\\",\\\"type\\\":\\\"string\\\",\\\"nullable\\\":true,\\\"metadata\\\":{}},{\\\"name\\\":\\\"_rescued_data\\\",\\\"type\\\":\\\"string\\\",\\\"nullable\\\":true,\\\"metadata\\\":{}}]}\",\"schema\":[{\"name\":\"FMID\",\"path\":[\"FMID\"],\"data_type\":\"STRING\"},{\"name\":\"MarketName\",\"path\":[\"MarketName\"],\"data_type\":\"STRING\"},{\"name\":\"website\",\"path\":[\"website\"],\"data_type\":\"STRING\"},{\"name\":\"Facebook\",\"path\":[\"Facebook\"],\"data_type\":\"STRING\"},{\"name\":\"Twitter\",\"path\":[\"Twitter\"],\"data_type\":\"STRING\"},{\"name\":\"Youtube\",\"path\":[\"Youtube\"],\"data_type\":\"STRING\"},{\"name\":\"OtherMedia\",\"path\":[\"OtherMedia\"],\"data_type\":\"STRING\"},{\"name\":\"street\",\"path\":[\"street\"],\"data_type\":\"STRING\"},{\"name\":\"city\",\"path\":[\"city\"],\"data_type\":\"STRING\"},{\"name\":\"County\",\"path\":[\"County\"],\"data_type\":\"STRING\"},{\"name\":\"State\",\"path\":[\"State\"],\"data_type\":\"STRING\"},{\"name\":\"zip\",\"path\":[\"zip\"],\"data_type\":\"STRING\"},{\"name\":\"Season1Date\",\"path\":[\"Season1Date\"],\"data_type\":\"STRING\"},{\"name\":\"Season1Time\",\"path\":[\"Season1Time\"],\"data_type\":\"STRING\"},{\"name\":\"Season2Date\",\"path\":[\"Season2Date\"],\"data_type\":\"STRING\"},{\"name\":\"Season2Time\",\"path\":[\"Season2Time\"],\"data_type\":\"STRING\"},{\"name\":\"Season3Date\",\"path\":[\"Season3Date\"],\"data_type\":\"STRING\"},{\"name\":\"Season3Time\",\"path\":[\"Season3Time\"],\"data_type\":\"STRING\"},{\"name\":\"Season4Date\",\"path\":[\"Season4Date\"],\"data_type\":\"STRING\"},{\"name\":\"Season4Time\",\"path\":[\"Season4Time\"],\"data_type\":\"STRING\"},{\"name\":\"x\",\"path\":[\"x\"],\"data_type\":\"STRING\"},{\"name\":\"y\",\"path\":[\"y\"],\"data_type\":\"STRING\"},{\"name\":\"Location\",\"path\":[\"Location\"],\"data_type\":\"STRING\"},{\"name\":\"Credit\",\"path\":[\"Credit\"],\"data_type\":\"STRING\"},{\"name\":\"WIC\",\"path\":[\"WIC\"],\"data_type\":\"STRING\"},{\"name\":\"WICcash\",\"path\":[\"WICcash\"],\"data_type\":\"STRING\"},{\"name\":\"SFMNP\",\"path\":[\"SFMNP\"],\"data_type\":\"STRING\"},{\"name\":\"SNAP\",\"path\":[\"SNAP\"],\"data_type\":\"STRING\"},{\"name\":\"Organic\",\"path\":[\"Organic\"],\"data_type\":\"STRING\"},{\"name\":\"Bakedgoods\",\"path\":[\"Bakedgoods\"],\"data_type\":\"STRING\"},{\"name\":\"Cheese\",\"path\":[\"Cheese\"],\"data_type\":\"STRING\"},{\"name\":\"Crafts\",\"path\":[\"Crafts\"],\"data_type\":\"STRING\"},{\"name\":\"Flowers\",\"path\":[\"Flowers\"],\"data_type\":\"STRING\"},{\"name\":\"Eggs\",\"path\":[\"Eggs\"],\"data_type\":\"STRING\"},{\"name\":\"Seafood\",\"path\":[\"Seafood\"],\"data_type\":\"STRING\"},{\"name\":\"Herbs\",\"path\":[\"Herbs\"],\"data_type\":\"STRING\"},{\"name\":\"Vegetables\",\"path\":[\"Vegetables\"],\"data_type\":\"STRING\"},{\"name\":\"Honey\",\"path\":[\"Honey\"],\"data_type\":\"STRING\"},{\"name\":\"Jams\",\"path\":[\"Jams\"],\"data_type\":\"STRING\"},{\"name\":\"Maple\",\"path\":[\"Maple\"],\"data_type\":\"STRING\"},{\"name\":\"Meat\",\"path\":[\"Meat\"],\"data_type\":\"STRING\"},{\"name\":\"Nursery\",\"path\":[\"Nursery\"],\"data_type\":\"STRING\"},{\"name\":\"Nuts\",\"path\":[\"Nuts\"],\"data_type\":\"STRING\"},{\"name\":\"Plants\",\"path\":[\"Plants\"],\"data_type\":\"STRING\"},{\"name\":\"Poultry\",\"path\":[\"Poultry\"],\"data_type\":\"STRING\"},{\"name\":\"Prepared\",\"path\":[\"Prepared\"],\"data_type\":\"STRING\"},{\"name\":\"Soap\",\"path\":[\"Soap\"],\"data_type\":\"STRING\"},{\"name\":\"Trees\",\"path\":[\"Trees\"],\"data_type\":\"STRING\"},{\"name\":\"Wine\",\"path\":[\"Wine\"],\"data_type\":\"STRING\"},{\"name\":\"Coffee\",\"path\":[\"Coffee\"],\"data_type\":\"STRING\"},{\"name\":\"Beans\",\"path\":[\"Beans\"],\"data_type\":\"STRING\"},{\"name\":\"Fruits\",\"path\":[\"Fruits\"],\"data_type\":\"STRING\"},{\"name\":\"Grains\",\"path\":[\"Grains\"],\"data_type\":\"STRING\"},{\"name\":\"Juices\",\"path\":[\"Juices\"],\"data_type\":\"STRING\"},{\"name\":\"Mushrooms\",\"path\":[\"Mushrooms\"],\"data_type\":\"STRING\"},{\"name\":\"PetFood\",\"path\":[\"PetFood\"],\"data_type\":\"STRING\"},{\"name\":\"Tofu\",\"path\":[\"Tofu\"],\"data_type\":\"STRING\"},{\"name\":\"WildHarvested\",\"path\":[\"WildHarvested\"],\"data_type\":\"STRING\"},{\"name\":\"updateTime\",\"path\":[\"updateTime\"],\"data_type\":\"STRING\"},{\"name\":\"_rescued_data\",\"path\":[\"_rescued_data\"],\"data_type\":\"STRING\"}],\"flow_type\":\"INCREMENTAL\",\"comment\":\"This table contains raw farmers market data with '@' removed from the website column\",\"language\":\"PYTHON\",\"notebook_path\":\"/Users/admin@mngenvmcap374485.onmicrosoft.com/dlt-helpers/integration-testing/dlt_integration_pipeline\",\"once\":false}}</td><td>flow_definition</td></tr><tr><td>4c923880-ade2-11ef-8457-00163e3daa30</td><td>List(List(execution, 1732837264208010), null)</td><td>List(Azure, centralus, 362282074994262, null, 6fb47b49-ba9a-465d-8f7c-95f423557b9d, WORKSPACE, farmers market dlt pipeline, 1128-233914-fkcnmatm, 66dbe11f-96db-4bec-9366-125e631cb906, null, null, null, null, null, null, 66dbe11f-96db-4bec-9366-125e631cb906, null)</td><td>2024-11-28T23:41:33.064Z</td><td>Dataset 'raw_farmers_market' defined as STREAMING_TABLE.</td><td>INFO</td><td>STABLE</td><td>null</td><td>{\"dataset_definition\":{\"dataset_type\":\"STREAMING_TABLE\",\"table_properties\":[{\"key\":\"quality\",\"value\":\"bronze\"}],\"schema_json\":\"{\\\"type\\\":\\\"struct\\\",\\\"fields\\\":[{\\\"name\\\":\\\"FMID\\\",\\\"type\\\":\\\"string\\\",\\\"nullable\\\":true,\\\"metadata\\\":{}},{\\\"name\\\":\\\"MarketName\\\",\\\"type\\\":\\\"string\\\",\\\"nullable\\\":true,\\\"metadata\\\":{}},{\\\"name\\\":\\\"website\\\",\\\"type\\\":\\\"string\\\",\\\"nullable\\\":true,\\\"metadata\\\":{}},{\\\"name\\\":\\\"Facebook\\\",\\\"type\\\":\\\"string\\\",\\\"nullable\\\":true,\\\"metadata\\\":{}},{\\\"name\\\":\\\"Twitter\\\",\\\"type\\\":\\\"string\\\",\\\"nullable\\\":true,\\\"metadata\\\":{}},{\\\"name\\\":\\\"Youtube\\\",\\\"type\\\":\\\"string\\\",\\\"nullable\\\":true,\\\"metadata\\\":{}},{\\\"name\\\":\\\"OtherMedia\\\",\\\"type\\\":\\\"string\\\",\\\"nullable\\\":true,\\\"metadata\\\":{}},{\\\"name\\\":\\\"street\\\",\\\"type\\\":\\\"string\\\",\\\"nullable\\\":true,\\\"metadata\\\":{}},{\\\"name\\\":\\\"city\\\",\\\"type\\\":\\\"string\\\",\\\"nullable\\\":true,\\\"metadata\\\":{}},{\\\"name\\\":\\\"County\\\",\\\"type\\\":\\\"string\\\",\\\"nullable\\\":true,\\\"metadata\\\":{}},{\\\"name\\\":\\\"State\\\",\\\"type\\\":\\\"string\\\",\\\"nullable\\\":true,\\\"metadata\\\":{}},{\\\"name\\\":\\\"zip\\\",\\\"type\\\":\\\"string\\\",\\\"nullable\\\":true,\\\"metadata\\\":{}},{\\\"name\\\":\\\"Season1Date\\\",\\\"type\\\":\\\"string\\\",\\\"nullable\\\":true,\\\"metadata\\\":{}},{\\\"name\\\":\\\"Season1Time\\\",\\\"type\\\":\\\"string\\\",\\\"nullable\\\":true,\\\"metadata\\\":{}},{\\\"name\\\":\\\"Season2Date\\\",\\\"type\\\":\\\"string\\\",\\\"nullable\\\":true,\\\"metadata\\\":{}},{\\\"name\\\":\\\"Season2Time\\\",\\\"type\\\":\\\"string\\\",\\\"nullable\\\":true,\\\"metadata\\\":{}},{\\\"name\\\":\\\"Season3Date\\\",\\\"type\\\":\\\"string\\\",\\\"nullable\\\":true,\\\"metadata\\\":{}},{\\\"name\\\":\\\"Season3Time\\\",\\\"type\\\":\\\"string\\\",\\\"nullable\\\":true,\\\"metadata\\\":{}},{\\\"name\\\":\\\"Season4Date\\\",\\\"type\\\":\\\"string\\\",\\\"nullable\\\":true,\\\"metadata\\\":{}},{\\\"name\\\":\\\"Season4Time\\\",\\\"type\\\":\\\"string\\\",\\\"nullable\\\":true,\\\"metadata\\\":{}},{\\\"name\\\":\\\"x\\\",\\\"type\\\":\\\"string\\\",\\\"nullable\\\":true,\\\"metadata\\\":{}},{\\\"name\\\":\\\"y\\\",\\\"type\\\":\\\"string\\\",\\\"nullable\\\":true,\\\"metadata\\\":{}},{\\\"name\\\":\\\"Location\\\",\\\"type\\\":\\\"string\\\",\\\"nullable\\\":true,\\\"metadata\\\":{}},{\\\"name\\\":\\\"Credit\\\",\\\"type\\\":\\\"string\\\",\\\"nullable\\\":true,\\\"metadata\\\":{}},{\\\"name\\\":\\\"WIC\\\",\\\"type\\\":\\\"string\\\",\\\"nullable\\\":true,\\\"metadata\\\":{}},{\\\"name\\\":\\\"WICcash\\\",\\\"type\\\":\\\"string\\\",\\\"nullable\\\":true,\\\"metadata\\\":{}},{\\\"name\\\":\\\"SFMNP\\\",\\\"type\\\":\\\"string\\\",\\\"nullable\\\":true,\\\"metadata\\\":{}},{\\\"name\\\":\\\"SNAP\\\",\\\"type\\\":\\\"string\\\",\\\"nullable\\\":true,\\\"metadata\\\":{}},{\\\"name\\\":\\\"Organic\\\",\\\"type\\\":\\\"string\\\",\\\"nullable\\\":true,\\\"metadata\\\":{}},{\\\"name\\\":\\\"Bakedgoods\\\",\\\"type\\\":\\\"string\\\",\\\"nullable\\\":true,\\\"metadata\\\":{}},{\\\"name\\\":\\\"Cheese\\\",\\\"type\\\":\\\"string\\\",\\\"nullable\\\":true,\\\"metadata\\\":{}},{\\\"name\\\":\\\"Crafts\\\",\\\"type\\\":\\\"string\\\",\\\"nullable\\\":true,\\\"metadata\\\":{}},{\\\"name\\\":\\\"Flowers\\\",\\\"type\\\":\\\"string\\\",\\\"nullable\\\":true,\\\"metadata\\\":{}},{\\\"name\\\":\\\"Eggs\\\",\\\"type\\\":\\\"string\\\",\\\"nullable\\\":true,\\\"metadata\\\":{}},{\\\"name\\\":\\\"Seafood\\\",\\\"type\\\":\\\"string\\\",\\\"nullable\\\":true,\\\"metadata\\\":{}},{\\\"name\\\":\\\"Herbs\\\",\\\"type\\\":\\\"string\\\",\\\"nullable\\\":true,\\\"metadata\\\":{}},{\\\"name\\\":\\\"Vegetables\\\",\\\"type\\\":\\\"string\\\",\\\"nullable\\\":true,\\\"metadata\\\":{}},{\\\"name\\\":\\\"Honey\\\",\\\"type\\\":\\\"string\\\",\\\"nullable\\\":true,\\\"metadata\\\":{}},{\\\"name\\\":\\\"Jams\\\",\\\"type\\\":\\\"string\\\",\\\"nullable\\\":true,\\\"metadata\\\":{}},{\\\"name\\\":\\\"Maple\\\",\\\"type\\\":\\\"string\\\",\\\"nullable\\\":true,\\\"metadata\\\":{}},{\\\"name\\\":\\\"Meat\\\",\\\"type\\\":\\\"string\\\",\\\"nullable\\\":true,\\\"metadata\\\":{}},{\\\"name\\\":\\\"Nursery\\\",\\\"type\\\":\\\"string\\\",\\\"nullable\\\":true,\\\"metadata\\\":{}},{\\\"name\\\":\\\"Nuts\\\",\\\"type\\\":\\\"string\\\",\\\"nullable\\\":true,\\\"metadata\\\":{}},{\\\"name\\\":\\\"Plants\\\",\\\"type\\\":\\\"string\\\",\\\"nullable\\\":true,\\\"metadata\\\":{}},{\\\"name\\\":\\\"Poultry\\\",\\\"type\\\":\\\"string\\\",\\\"nullable\\\":true,\\\"metadata\\\":{}},{\\\"name\\\":\\\"Prepared\\\",\\\"type\\\":\\\"string\\\",\\\"nullable\\\":true,\\\"metadata\\\":{}},{\\\"name\\\":\\\"Soap\\\",\\\"type\\\":\\\"string\\\",\\\"nullable\\\":true,\\\"metadata\\\":{}},{\\\"name\\\":\\\"Trees\\\",\\\"type\\\":\\\"string\\\",\\\"nullable\\\":true,\\\"metadata\\\":{}},{\\\"name\\\":\\\"Wine\\\",\\\"type\\\":\\\"string\\\",\\\"nullable\\\":true,\\\"metadata\\\":{}},{\\\"name\\\":\\\"Coffee\\\",\\\"type\\\":\\\"string\\\",\\\"nullable\\\":true,\\\"metadata\\\":{}},{\\\"name\\\":\\\"Beans\\\",\\\"type\\\":\\\"string\\\",\\\"nullable\\\":true,\\\"metadata\\\":{}},{\\\"name\\\":\\\"Fruits\\\",\\\"type\\\":\\\"string\\\",\\\"nullable\\\":true,\\\"metadata\\\":{}},{\\\"name\\\":\\\"Grains\\\",\\\"type\\\":\\\"string\\\",\\\"nullable\\\":true,\\\"metadata\\\":{}},{\\\"name\\\":\\\"Juices\\\",\\\"type\\\":\\\"string\\\",\\\"nullable\\\":true,\\\"metadata\\\":{}},{\\\"name\\\":\\\"Mushrooms\\\",\\\"type\\\":\\\"string\\\",\\\"nullable\\\":true,\\\"metadata\\\":{}},{\\\"name\\\":\\\"PetFood\\\",\\\"type\\\":\\\"string\\\",\\\"nullable\\\":true,\\\"metadata\\\":{}},{\\\"name\\\":\\\"Tofu\\\",\\\"type\\\":\\\"string\\\",\\\"nullable\\\":true,\\\"metadata\\\":{}},{\\\"name\\\":\\\"WildHarvested\\\",\\\"type\\\":\\\"string\\\",\\\"nullable\\\":true,\\\"metadata\\\":{}},{\\\"name\\\":\\\"updateTime\\\",\\\"type\\\":\\\"string\\\",\\\"nullable\\\":true,\\\"metadata\\\":{}},{\\\"name\\\":\\\"_rescued_data\\\",\\\"type\\\":\\\"string\\\",\\\"nullable\\\":true,\\\"metadata\\\":{}}]}\",\"schema\":[{\"name\":\"FMID\",\"path\":[\"FMID\"],\"data_type\":\"STRING\"},{\"name\":\"MarketName\",\"path\":[\"MarketName\"],\"data_type\":\"STRING\"},{\"name\":\"website\",\"path\":[\"website\"],\"data_type\":\"STRING\"},{\"name\":\"Facebook\",\"path\":[\"Facebook\"],\"data_type\":\"STRING\"},{\"name\":\"Twitter\",\"path\":[\"Twitter\"],\"data_type\":\"STRING\"},{\"name\":\"Youtube\",\"path\":[\"Youtube\"],\"data_type\":\"STRING\"},{\"name\":\"OtherMedia\",\"path\":[\"OtherMedia\"],\"data_type\":\"STRING\"},{\"name\":\"street\",\"path\":[\"street\"],\"data_type\":\"STRING\"},{\"name\":\"city\",\"path\":[\"city\"],\"data_type\":\"STRING\"},{\"name\":\"County\",\"path\":[\"County\"],\"data_type\":\"STRING\"},{\"name\":\"State\",\"path\":[\"State\"],\"data_type\":\"STRING\"},{\"name\":\"zip\",\"path\":[\"zip\"],\"data_type\":\"STRING\"},{\"name\":\"Season1Date\",\"path\":[\"Season1Date\"],\"data_type\":\"STRING\"},{\"name\":\"Season1Time\",\"path\":[\"Season1Time\"],\"data_type\":\"STRING\"},{\"name\":\"Season2Date\",\"path\":[\"Season2Date\"],\"data_type\":\"STRING\"},{\"name\":\"Season2Time\",\"path\":[\"Season2Time\"],\"data_type\":\"STRING\"},{\"name\":\"Season3Date\",\"path\":[\"Season3Date\"],\"data_type\":\"STRING\"},{\"name\":\"Season3Time\",\"path\":[\"Season3Time\"],\"data_type\":\"STRING\"},{\"name\":\"Season4Date\",\"path\":[\"Season4Date\"],\"data_type\":\"STRING\"},{\"name\":\"Season4Time\",\"path\":[\"Season4Time\"],\"data_type\":\"STRING\"},{\"name\":\"x\",\"path\":[\"x\"],\"data_type\":\"STRING\"},{\"name\":\"y\",\"path\":[\"y\"],\"data_type\":\"STRING\"},{\"name\":\"Location\",\"path\":[\"Location\"],\"data_type\":\"STRING\"},{\"name\":\"Credit\",\"path\":[\"Credit\"],\"data_type\":\"STRING\"},{\"name\":\"WIC\",\"path\":[\"WIC\"],\"data_type\":\"STRING\"},{\"name\":\"WICcash\",\"path\":[\"WICcash\"],\"data_type\":\"STRING\"},{\"name\":\"SFMNP\",\"path\":[\"SFMNP\"],\"data_type\":\"STRING\"},{\"name\":\"SNAP\",\"path\":[\"SNAP\"],\"data_type\":\"STRING\"},{\"name\":\"Organic\",\"path\":[\"Organic\"],\"data_type\":\"STRING\"},{\"name\":\"Bakedgoods\",\"path\":[\"Bakedgoods\"],\"data_type\":\"STRING\"},{\"name\":\"Cheese\",\"path\":[\"Cheese\"],\"data_type\":\"STRING\"},{\"name\":\"Crafts\",\"path\":[\"Crafts\"],\"data_type\":\"STRING\"},{\"name\":\"Flowers\",\"path\":[\"Flowers\"],\"data_type\":\"STRING\"},{\"name\":\"Eggs\",\"path\":[\"Eggs\"],\"data_type\":\"STRING\"},{\"name\":\"Seafood\",\"path\":[\"Seafood\"],\"data_type\":\"STRING\"},{\"name\":\"Herbs\",\"path\":[\"Herbs\"],\"data_type\":\"STRING\"},{\"name\":\"Vegetables\",\"path\":[\"Vegetables\"],\"data_type\":\"STRING\"},{\"name\":\"Honey\",\"path\":[\"Honey\"],\"data_type\":\"STRING\"},{\"name\":\"Jams\",\"path\":[\"Jams\"],\"data_type\":\"STRING\"},{\"name\":\"Maple\",\"path\":[\"Maple\"],\"data_type\":\"STRING\"},{\"name\":\"Meat\",\"path\":[\"Meat\"],\"data_type\":\"STRING\"},{\"name\":\"Nursery\",\"path\":[\"Nursery\"],\"data_type\":\"STRING\"},{\"name\":\"Nuts\",\"path\":[\"Nuts\"],\"data_type\":\"STRING\"},{\"name\":\"Plants\",\"path\":[\"Plants\"],\"data_type\":\"STRING\"},{\"name\":\"Poultry\",\"path\":[\"Poultry\"],\"data_type\":\"STRING\"},{\"name\":\"Prepared\",\"path\":[\"Prepared\"],\"data_type\":\"STRING\"},{\"name\":\"Soap\",\"path\":[\"Soap\"],\"data_type\":\"STRING\"},{\"name\":\"Trees\",\"path\":[\"Trees\"],\"data_type\":\"STRING\"},{\"name\":\"Wine\",\"path\":[\"Wine\"],\"data_type\":\"STRING\"},{\"name\":\"Coffee\",\"path\":[\"Coffee\"],\"data_type\":\"STRING\"},{\"name\":\"Beans\",\"path\":[\"Beans\"],\"data_type\":\"STRING\"},{\"name\":\"Fruits\",\"path\":[\"Fruits\"],\"data_type\":\"STRING\"},{\"name\":\"Grains\",\"path\":[\"Grains\"],\"data_type\":\"STRING\"},{\"name\":\"Juices\",\"path\":[\"Juices\"],\"data_type\":\"STRING\"},{\"name\":\"Mushrooms\",\"path\":[\"Mushrooms\"],\"data_type\":\"STRING\"},{\"name\":\"PetFood\",\"path\":[\"PetFood\"],\"data_type\":\"STRING\"},{\"name\":\"Tofu\",\"path\":[\"Tofu\"],\"data_type\":\"STRING\"},{\"name\":\"WildHarvested\",\"path\":[\"WildHarvested\"],\"data_type\":\"STRING\"},{\"name\":\"updateTime\",\"path\":[\"updateTime\"],\"data_type\":\"STRING\"},{\"name\":\"_rescued_data\",\"path\":[\"_rescued_data\"],\"data_type\":\"STRING\"}],\"comment\":\"This table contains raw farmers market data with '@' removed from the website column\",\"expectations\":[{\"name\":\"website_not_null\",\"action\":\"ALLOW\"},{\"name\":\"location_not_null\",\"action\":\"ALLOW\"},{\"name\":\"state_not_null\",\"action\":\"ALLOW\"}],\"metastore_name\":\"`dlt_catalog`.`dlt_schema`.`raw_farmers_market`\",\"language\":\"PYTHON\",\"notebook_path\":\"/Users/admin@mngenvmcap374485.onmicrosoft.com/dlt-helpers/integration-testing/dlt_integration_pipeline\",\"num_flows\":1}}</td><td>dataset_definition</td></tr><tr><td>4ca76e30-ade2-11ef-8457-00163e3daa30</td><td>List(List(execution, 1732837264208011), null)</td><td>List(Azure, centralus, 362282074994262, null, 6fb47b49-ba9a-465d-8f7c-95f423557b9d, WORKSPACE, farmers market dlt pipeline, 1128-233914-fkcnmatm, 66dbe11f-96db-4bec-9366-125e631cb906, null, null, null, null, null, null, 66dbe11f-96db-4bec-9366-125e631cb906, null)</td><td>2024-11-28T23:41:33.203Z</td><td>Dataflow graph successfully loaded.</td><td>INFO</td><td>STABLE</td><td>null</td><td>{\"graph_created\":{}}</td><td>graph_created</td></tr><tr><td>4cab3ec0-ade2-11ef-8457-00163e3daa30</td><td>List(List(execution, 1732837264208012), null)</td><td>List(Azure, centralus, 362282074994262, null, 6fb47b49-ba9a-465d-8f7c-95f423557b9d, WORKSPACE, farmers market dlt pipeline, 1128-233914-fkcnmatm, 66dbe11f-96db-4bec-9366-125e631cb906, null, null, null, null, null, null, 66dbe11f-96db-4bec-9366-125e631cb906, null)</td><td>2024-11-28T23:41:33.228Z</td><td>Update 66dbe1 is RUNNING.</td><td>INFO</td><td>STABLE</td><td>null</td><td>{\"update_progress\":{\"state\":\"RUNNING\"}}</td><td>update_progress</td></tr><tr><td>4cad61a0-ade2-11ef-8457-00163e3daa30</td><td>List(List(execution, 1732837264208013), null)</td><td>List(Azure, centralus, 362282074994262, null, 6fb47b49-ba9a-465d-8f7c-95f423557b9d, WORKSPACE, farmers market dlt pipeline, 1128-233914-fkcnmatm, 66dbe11f-96db-4bec-9366-125e631cb906, null, null, null, null, raw_farmers_market, null, 66dbe11f-96db-4bec-9366-125e631cb906, null)</td><td>2024-11-28T23:41:33.242Z</td><td>Flow 'raw_farmers_market' is QUEUED.</td><td>INFO</td><td>STABLE</td><td>null</td><td>{\"flow_progress\":{\"status\":\"QUEUED\"}}</td><td>flow_progress</td></tr><tr><td>4ccd6cc0-ade2-11ef-8457-00163e3daa30</td><td>List(List(execution, 1732837264208014), null)</td><td>List(Azure, centralus, 362282074994262, null, 6fb47b49-ba9a-465d-8f7c-95f423557b9d, WORKSPACE, farmers market dlt pipeline, 1128-233914-fkcnmatm, 66dbe11f-96db-4bec-9366-125e631cb906, null, null, null, null, raw_farmers_market, null, 66dbe11f-96db-4bec-9366-125e631cb906, null)</td><td>2024-11-28T23:41:33.452Z</td><td>Flow 'raw_farmers_market' is STARTING.</td><td>INFO</td><td>STABLE</td><td>null</td><td>{\"flow_progress\":{\"status\":\"STARTING\"}}</td><td>flow_progress</td></tr><tr><td>4de82b90-ade2-11ef-8457-00163e3daa30</td><td>List(List(execution, 1732837264208015), null)</td><td>List(Azure, centralus, 362282074994262, null, 6fb47b49-ba9a-465d-8f7c-95f423557b9d, WORKSPACE, farmers market dlt pipeline, 1128-233914-fkcnmatm, 66dbe11f-96db-4bec-9366-125e631cb906, null, null, null, 7de39c70-282e-42de-b730-b2cfe37be8f1, raw_farmers_market, null, 66dbe11f-96db-4bec-9366-125e631cb906, null)</td><td>2024-11-28T23:41:35.305Z</td><td>Flow 'raw_farmers_market' is RUNNING.</td><td>INFO</td><td>STABLE</td><td>null</td><td>{\"flow_progress\":{\"status\":\"RUNNING\",\"metrics\":{}}}</td><td>flow_progress</td></tr><tr><td>56142670-ade2-11ef-8457-00163e3daa30</td><td>List(List(execution, 1732837264208016), null)</td><td>List(Azure, centralus, 362282074994262, null, 6fb47b49-ba9a-465d-8f7c-95f423557b9d, WORKSPACE, farmers market dlt pipeline, 1128-233914-fkcnmatm, 66dbe11f-96db-4bec-9366-125e631cb906, null, null, null, 7de39c70-282e-42de-b730-b2cfe37be8f1, raw_farmers_market, null, 66dbe11f-96db-4bec-9366-125e631cb906, null)</td><td>2024-11-28T23:41:49.015Z</td><td>Completed a streaming update of 'raw_farmers_market'.</td><td>INFO</td><td>STABLE</td><td>null</td><td>{\"flow_progress\":{\"status\":\"RUNNING\",\"metrics\":{\"num_output_rows\":8518,\"backlog_bytes\":0,\"backlog_files\":0},\"data_quality\":{\"dropped_records\":0,\"expectations\":[{\"name\":\"state_not_null\",\"dataset\":\"raw_farmers_market\",\"passed_records\":8517,\"failed_records\":1},{\"name\":\"website_not_null\",\"dataset\":\"raw_farmers_market\",\"passed_records\":5003,\"failed_records\":3515},{\"name\":\"location_not_null\",\"dataset\":\"raw_farmers_market\",\"passed_records\":3698,\"failed_records\":4820}]}}}</td><td>flow_progress</td></tr><tr><td>561dc360-ade2-11ef-8457-00163e3daa30</td><td>List(List(execution, 1732837264208017), null)</td><td>List(Azure, centralus, 362282074994262, null, 6fb47b49-ba9a-465d-8f7c-95f423557b9d, WORKSPACE, farmers market dlt pipeline, 1128-233914-fkcnmatm, 66dbe11f-96db-4bec-9366-125e631cb906, null, null, null, 7de39c70-282e-42de-b730-b2cfe37be8f1, raw_farmers_market, null, 66dbe11f-96db-4bec-9366-125e631cb906, null)</td><td>2024-11-28T23:41:49.078Z</td><td>Flow 'raw_farmers_market' has COMPLETED.</td><td>INFO</td><td>STABLE</td><td>null</td><td>{\"flow_progress\":{\"status\":\"COMPLETED\"}}</td><td>flow_progress</td></tr><tr><td>57998df0-ade2-11ef-8457-00163e3daa30</td><td>List(List(execution, 1732837264208019), null)</td><td>List(Azure, centralus, 362282074994262, null, 6fb47b49-ba9a-465d-8f7c-95f423557b9d, WORKSPACE, farmers market dlt pipeline, 1128-233914-fkcnmatm, 66dbe11f-96db-4bec-9366-125e631cb906, null, null, null, null, raw_farmers_market, null, 66dbe11f-96db-4bec-9366-125e631cb906, null)</td><td>2024-11-28T23:41:51.567Z</td><td>Reported flow time metrics for flowName: 'raw_farmers_market'.</td><td>METRICS</td><td>STABLE</td><td>null</td><td>{\"flow_progress\":{\"metrics\":{\"executor_time_ms\":4338,\"executor_cpu_time_ms\":2667}}}</td><td>flow_progress</td></tr><tr><td>5799dc10-ade2-11ef-8457-00163e3daa30</td><td>List(List(execution, 1732837264208020), null)</td><td>List(Azure, centralus, 362282074994262, null, 6fb47b49-ba9a-465d-8f7c-95f423557b9d, WORKSPACE, farmers market dlt pipeline, 1128-233914-fkcnmatm, 66dbe11f-96db-4bec-9366-125e631cb906, null, null, null, null, pipelines.flowTimeMetrics.missingFlowName, null, 66dbe11f-96db-4bec-9366-125e631cb906, null)</td><td>2024-11-28T23:41:51.569Z</td><td>Reported flow time metrics for flowName: 'pipelines.flowTimeMetrics.missingFlowName'.</td><td>METRICS</td><td>STABLE</td><td>null</td><td>{\"flow_progress\":{\"metrics\":{\"executor_time_ms\":7109,\"executor_cpu_time_ms\":5355}}}</td><td>flow_progress</td></tr><tr><td>579a7850-ade2-11ef-8457-00163e3daa30</td><td>List(List(execution, 1732837264208021), null)</td><td>List(Azure, centralus, 362282074994262, null, 6fb47b49-ba9a-465d-8f7c-95f423557b9d, WORKSPACE, farmers market dlt pipeline, 1128-233914-fkcnmatm, 66dbe11f-96db-4bec-9366-125e631cb906, null, null, null, null, null, null, 66dbe11f-96db-4bec-9366-125e631cb906, null)</td><td>2024-11-28T23:41:51.573Z</td><td>Update 66dbe1 is COMPLETED.</td><td>INFO</td><td>STABLE</td><td>null</td><td>{\"update_progress\":{\"state\":\"COMPLETED\"}}</td><td>update_progress</td></tr><tr><td>93cb19b0-ade2-11ef-8457-00163e3daa30</td><td>List(List(execution, 1732837264208023), null)</td><td>List(Azure, centralus, 362282074994262, null, 6fb47b49-ba9a-465d-8f7c-95f423557b9d, WORKSPACE, farmers market dlt pipeline, 1128-233914-fkcnmatm, 66dbe11f-96db-4bec-9366-125e631cb906, null, null, null, null, null, null, 66dbe11f-96db-4bec-9366-125e631cb906, null)</td><td>2024-11-28T23:43:32.555Z</td><td>Reported cluster resources metrics.</td><td>METRICS</td><td>STABLE</td><td>null</td><td>{\"cluster_resources\":{\"summary_duration_ms\":60000,\"num_task_slots\":4,\"avg_num_task_slots\":3.999733328888815,\"avg_task_slot_utilization\":0.0,\"num_executors\":1,\"avg_num_queued_tasks\":0.0,\"state\":\"CLUSTER_AT_DESIRED_SIZE\",\"optimal_num_executors\":1}}</td><td>cluster_resources</td></tr><tr><td>7007d3b0-ade2-11ef-8457-00163e3daa30</td><td>List(List(execution, 1732837264208022), null)</td><td>List(Azure, centralus, 362282074994262, null, 6fb47b49-ba9a-465d-8f7c-95f423557b9d, WORKSPACE, farmers market dlt pipeline, 1128-233914-fkcnmatm, 66dbe11f-96db-4bec-9366-125e631cb906, null, null, null, null, null, null, 66dbe11f-96db-4bec-9366-125e631cb906, null)</td><td>2024-11-28T23:42:32.555Z</td><td>Reported cluster resources metrics.</td><td>METRICS</td><td>STABLE</td><td>null</td><td>{\"cluster_resources\":{\"summary_duration_ms\":60000,\"num_task_slots\":4,\"avg_num_task_slots\":3.9996,\"avg_task_slot_utilization\":0.06255,\"num_executors\":1,\"avg_num_queued_tasks\":0.0,\"state\":\"CLUSTER_AT_DESIRED_SIZE\",\"optimal_num_executors\":1}}</td><td>cluster_resources</td></tr></tbody></table></div>"
      ]
     },
     "metadata": {
      "application/vnd.databricks.v1+output": {
       "addedWidgets": {},
       "aggData": [],
       "aggError": "",
       "aggOverflow": false,
       "aggSchema": [],
       "aggSeriesLimitReached": false,
       "aggType": "",
       "arguments": {},
       "columnCustomDisplayInfos": {},
       "data": [
        [
         "3c21d8c0-ade2-11ef-8457-00163e3daa30",
         [
          [
           "execution",
           1732837264208001
          ],
          null
         ],
         [
          "Azure",
          "centralus",
          362282074994262,
          null,
          "6fb47b49-ba9a-465d-8f7c-95f423557b9d",
          "WORKSPACE",
          "farmers market dlt pipeline",
          "1128-233914-fkcnmatm",
          "66dbe11f-96db-4bec-9366-125e631cb906",
          null,
          null,
          null,
          null,
          null,
          null,
          "66dbe11f-96db-4bec-9366-125e631cb906",
          null
         ],
         "2024-11-28T23:41:05.484Z",
         "Update 66dbe1 is INITIALIZING.",
         "INFO",
         "STABLE",
         null,
         "{\"update_progress\":{\"state\":\"INITIALIZING\"}}",
         "update_progress"
        ],
        [
         "f6871730-ade1-11ef-8fb2-92c611654b16",
         [
          [
           "execution",
           1732837264208002
          ],
          1732837148708001
         ],
         [
          "Azure",
          "centralus",
          362282074994262,
          null,
          "6fb47b49-ba9a-465d-8f7c-95f423557b9d",
          "WORKSPACE",
          "farmers market dlt pipeline",
          null,
          null,
          null,
          null,
          null,
          null,
          null,
          null,
          null,
          null
         ],
         "2024-11-28T23:39:08.707Z",
         "User admin@mngenvmcap374485.onmicrosoft.com created pipeline.",
         "INFO",
         "STABLE",
         null,
         "{\"user_action\":{\"action\":\"CREATE\",\"user_name\":\"admin@mngenvmcap374485.onmicrosoft.com\",\"user_id\":2830541782567654,\"request\":{\"create_request\":{\"id\":\"6fb47b49-ba9a-465d-8f7c-95f423557b9d\",\"pipeline_type\":\"WORKSPACE\",\"name\":\"farmers market dlt pipeline\",\"clusters\":[{\"label\":\"default\",\"node_type_id\":\"Standard_DS3_v2\",\"autoscale\":{\"min_workers\":1,\"max_workers\":2,\"mode\":\"ENHANCED\"}}],\"libraries\":[{\"notebook\":{\"path\":\"/Users/admin@mngenvmcap374485.onmicrosoft.com/dlt-helpers/integration-testing/dlt_integration_pipeline\"}}],\"target\":\"dlt_schema\",\"continuous\":false,\"development\":true,\"photon\":false,\"edition\":\"ADVANCED\",\"channel\":\"CURRENT\",\"catalog\":\"dlt_catalog\",\"data_sampling\":false}}}}",
         "user_action"
        ],
        [
         "f9eb29c0-ade1-11ef-8fb2-92c611654b16",
         [
          [
           "execution",
           1732837264208003
          ],
          1732837154396001
         ],
         [
          "Azure",
          "centralus",
          362282074994262,
          null,
          "6fb47b49-ba9a-465d-8f7c-95f423557b9d",
          "WORKSPACE",
          "farmers market dlt pipeline",
          null,
          "66dbe11f-96db-4bec-9366-125e631cb906",
          null,
          null,
          null,
          null,
          null,
          null,
          "66dbe11f-96db-4bec-9366-125e631cb906",
          null
         ],
         "2024-11-28T23:39:14.396Z",
         "User admin@mngenvmcap374485.onmicrosoft.com started an update.",
         "INFO",
         "STABLE",
         null,
         "{\"user_action\":{\"action\":\"START\",\"user_name\":\"admin@mngenvmcap374485.onmicrosoft.com\",\"user_id\":2830541782567654,\"request\":{\"start_request\":{\"full_refresh\":false,\"validate_only\":false}}}}",
         "user_action"
        ],
        [
         "f9f42a70-ade1-11ef-8fb2-92c611654b16",
         [
          [
           "execution",
           1732837264208004
          ],
          1732837154456001
         ],
         [
          "Azure",
          "centralus",
          362282074994262,
          null,
          "6fb47b49-ba9a-465d-8f7c-95f423557b9d",
          "WORKSPACE",
          "farmers market dlt pipeline",
          null,
          "66dbe11f-96db-4bec-9366-125e631cb906",
          null,
          null,
          null,
          null,
          null,
          null,
          "66dbe11f-96db-4bec-9366-125e631cb906",
          null
         ],
         "2024-11-28T23:39:14.455Z",
         "Update 66dbe1 started by API_CALL.",
         "INFO",
         "STABLE",
         null,
         "{\"create_update\":{\"cause\":\"API_CALL\",\"config\":{\"id\":\"6fb47b49-ba9a-465d-8f7c-95f423557b9d\",\"pipeline_type\":\"WORKSPACE\",\"name\":\"farmers market dlt pipeline\",\"configuration\":{\"pipelines.allowClearingTableComment\":\"true\",\"pipelines.alterViewsInHMS.enabled\":\"true\",\"pipelines.analysis.maybeResolveFlowsParallely\":\"true\",\"pipelines.analysis.maybeResolvePureSQLPipelinesParallely\":\"true\",\"pipelines.applyChanges.viewMetrics.enabled\":\"true\",\"pipelines.applyChangesFromSnapshot.analyzeLambdaSourceWithoutPipelineContext\":\"true\",\"pipelines.applyChangesFromSnapshot.castSnapshotToTargetSchema\":\"true\",\"pipelines.applyChangesFromSnapshot.stateStoreFormat\":\"proto\",\"pipelines.changeDataFeed.enabled\":\"true\",\"pipelines.dataPlaneStructuredLogging.enabled\":\"true\",\"pipelines.decomposition.enableOnSnapshotFlow\":\"true\",\"pipelines.decomposition.enabled\":\"true\",\"pipelines.dltDebugger.enableNodeStatusReporter\":\"true\",\"pipelines.dltDebugger.nodeStatusEventLoggingEnabled\":\"false\",\"pipelines.enableApplyChangesLineage.enabled\":\"true\",\"pipelines.enableBlockListReconciliationQueryDefinition\":\"true\",\"pipelines.enableContinuousPipelineTriggerValidation\":\"false\",\"pipelines.enableCyclicDependencyDetection\":\"true\",\"pipelines.enableEventLogTableIdWrites\":\"true\",\"pipelines.enableLiveSchemaUsageValidation\":\"true\",\"pipelines.enableNewFlowTypes\":\"false\",\"pipelines.enableUpdateWarmPoolManager\":\"true\",\"pipelines.enzyme.classic.action\":\"Block\",\"pipelines.enzyme.decomposeAggExpr.enabled\":\"true\",\"pipelines.enzyme.enableAggOverJoin\":\"true\",\"pipelines.enzyme.enableAggOverJoinFallback\":\"true\",\"pipelines.enzyme.enableJoinComposition\":\"true\",\"pipelines.enzyme.enableRowId\":\"true\",\"pipelines.enzyme.enableSPUJFullOuterJoinIncrementalization\":\"true\",\"pipelines.enzyme.enableSPUJIncrementalization\":\"true\",\"pipelines.enzyme.enableSPUJInnerJoinIncrementalization\":\"true\",\"pipelines.enzyme.enableSPUJLeftAntiJoinIncrementalization\":\"true\",\"pipelines.enzyme.enableSPUJLeftJoinIncrementalization\":\"true\",\"pipelines.enzyme.enableSPUJRightJoinIncrementalization\":\"true\",\"pipelines.enzyme.enableTableChangeSizeV3\":\"true\",\"pipelines.enzyme.enableWindowFunctionWithDiffPartitioning\":\"true\",\"pipelines.enzyme.enabled\":\"true\",\"pipelines.enzyme.enzymeEnableTableChangeSizeV2\":\"true\",\"pipelines.enzyme.expectation.fallbackToClassic\":\"true\",\"pipelines.enzyme.expectation.fallbackToClassicPerFlow\":\"true\",\"pipelines.enzyme.fileActionCountThreshold\":\"2000000000\",\"pipelines.enzyme.fileActionPruningInCdf.enabled\":\"true\",\"pipelines.enzyme.genericAggregationTechnique.enabled\":\"true\",\"pipelines.enzyme.mode\":\"Basic\",\"pipelines.enzyme.windowFunctionTechniqueEnabled.enabled\":\"true\",\"pipelines.eventLevelDataFrameCollectUsage\":\"warn\",\"pipelines.eventLevelDataFrameSaveAsTableUsage\":\"warn\",\"pipelines.eventLevelDataFrameSaveUsage\":\"warn\",\"pipelines.eventLevelDataStreamWriterStartUsage\":\"warn\",\"pipelines.eventLevelPivotUsage\":\"warn\",\"pipelines.events.enableSourceCodePosition\":\"true\",\"pipelines.initResourceAllocationBeforeEventLog\":\"true\",\"pipelines.instrumentLoadInSparkReader\":\"false\",\"pipelines.lazyInitializeUpdateWarmPoolManager\":\"true\",\"pipelines.lineageEmission.enabled\":\"true\",\"pipelines.maxDatasetsPerPipeline\":\"1000\",\"pipelines.metrics.clusterResources.enabled\":\"true\",\"pipelines.metrics.flowProgressAdditionalBacklogMetricsEnabled\":\"true\",\"pipelines.metrics.flowTimeReporter.enabled\":\"true\",\"pipelines.mv.partitionUpdate.enabled\":\"true\",\"pipelines.numPythonREPLsToWarmPerUpdate\":\"1\",\"pipelines.parallelPythonReplInitialization\":\"true\",\"pipelines.parallelUCContextInitialization\":\"true\",\"pipelines.parallelizeCreateMatzPaths\":\"true\",\"pipelines.parallelizeMaterializeTables\":\"true\",\"pipelines.partitioning.clusterBy.enabled\":\"true\",\"pipelines.publishPrivateTableInOldArchitecture\":\"false\",\"pipelines.schemaStorageLocations.enabled\":\"true\",\"pipelines.streamingFlowReadOptionsEnabled\":\"true\",\"pipelines.throwOnUnexpectedMaterializationCreation\":\"true\",\"pipelines.topologicalOrderForStreamingFlowsUponFullRefresh.enabled\":\"true\",\"pipelines.updateSnapshot.enabled\":\"true\",\"pipelines.updateSnapshot.incrementalEventSummaries.enabled\":\"true\",\"pipelines.updateSnapshot.incrementalTimeSeries.enabled\":\"true\",\"pipelines.updateSnapshot.timeSeriesSummaryGeneratorEnabled\":\"true\",\"pipelines.updateSnapshot.timeSeriesSummarySourceMetricsEnabled\":\"false\",\"pipelines.updateWarmPoolManagerSize\":\"1\",\"pipelines.useCacheForMVPlanning.enabled\":\"true\",\"pipelines.useNewReadInputApi\":\"true\",\"pipelines.useUCMetadataCache\":\"true\",\"pipelines.useViewsInReconciliationFlowQueries\":\"true\",\"spark.databricks.dataLineage.mergeIntoV2Enabled\":\"false\",\"spark.databricks.delta.clone.es1281016.useFullDVPathForDiff\":\"false\",\"spark.databricks.delta.tableFeatures.improvedProtocolTransitions.enabled\":\"false\",\"spark.databricks.photon.photonizeRegexpUsingFallback\":\"false\",\"spark.databricks.photon.scan.distinctFilter.enabled\":\"false\",\"spark.databricks.photon.timestampNTZ.enabled\":\"false\",\"spark.databricks.sql.expression.aiFunctions.repartition\":\"0\",\"spark.databricks.sql.functions.aiFunctions.adaptiveThreadPool.clusterSizeBasedGlobalParallelism.scaleFactor\":\"32.0\",\"spark.databricks.sql.functions.aiFunctions.adaptiveThreadPool.debugLogEnabled\":\"true\",\"spark.databricks.sql.functions.aiFunctions.adaptiveThreadPool.enabled\":\"true\",\"spark.databricks.sql.functions.aiFunctions.adaptiveThreadPool.maxPoolSize\":\"2048\",\"spark.databricks.sql.functions.aiFunctions.adaptiveThreadPool.maxPoolSizeForBatch\":\"512\",\"spark.databricks.sql.functions.aiFunctions.adaptiveThreadPool.scaleUpThresholdCurrentQpsIncreaseRatio\":\"0.0\",\"spark.databricks.sql.functions.aiFunctions.adaptiveThreadPool.scaleUpThresholdSuccessRatio\":\"0.95\",\"spark.databricks.sql.functions.aiFunctions.adaptiveThreadPool.scaleUpThresholdTotalQpsIncreaseRatio\":\"0.0\",\"spark.databricks.sql.functions.aiFunctions.adaptiveThreadPool.taskWaitTimeInSeconds\":\"1000\",\"spark.databricks.sql.functions.aiFunctions.adaptiveThreadPool.threadKeepAliveTimeInSeconds\":\"600\",\"spark.databricks.sql.functions.aiFunctions.batch.aiQuery.embedding.request.size\":\"4\",\"spark.databricks.sql.functions.aiFunctions.batch.execution.size\":\"2048\",\"spark.databricks.sql.functions.aiFunctions.decimal.dataType.enabled\":\"true\",\"spark.databricks.sql.functions.aiFunctions.model.parameters.enabled\":\"true\",\"spark.databricks.sql.functions.aiFunctions.modelEndpointTypeParsing.enabled\":\"true\",\"spark.databricks.sql.functions.aiFunctions.remoteHttpClient.maxConnections\":\"2048\",\"spark.databricks.sql.functions.aiFunctions.remoteHttpClient.timeoutInSeconds\":\"300\",\"spark.databricks.sql.functions.aiFunctions.safe.inference.enabled\":\"true\",\"spark.databricks.sql.functions.aiFunctions.useDedicatedHttpClient\":\"true\",\"spark.databricks.sql.functions.aiGen.endpointName\":\"databricks-meta-llama-3-1-70b-instruct\",\"spark.databricks.sql.rowColumnAccess.mvst.enabled\":\"true\",\"spark.databricks.unityCatalog.dbfs.enabled\":\"false\",\"spark.databricks.unityCatalog.glue.federation.enabled\":\"true\",\"spark.databricks.unityCatalog.hms.federation.enableDbfsSupport\":\"true\",\"spark.databricks.unityCatalog.hms.federation.enabled\":\"false\",\"spark.databricks.unityCatalog.lakehouseFederation.writes.enabled\":\"true\",\"spark.sql.functions.remoteHttpClient.retryOn400TimeoutError\":\"true\",\"spark.sql.functions.remoteHttpClient.retryOnSocketTimeoutException\":\"true\",\"spark.sql.optimizer.optimizeCsvJsonExprs.useSchemaField\":\"false\",\"pipelines.maxFlowRetryAttempts\":\"0\"},\"clusters\":[{\"label\":\"default\",\"node_type_id\":\"Standard_DS3_v2\",\"autoscale\":{\"min_workers\":1,\"max_workers\":2,\"mode\":\"ENHANCED\"}}],\"libraries\":[{\"notebook\":{\"path\":\"/Users/admin@mngenvmcap374485.onmicrosoft.com/dlt-helpers/integration-testing/dlt_integration_pipeline\"}}],\"target\":\"dlt_schema\",\"continuous\":false,\"development\":true,\"photon\":false,\"edition\":\"ADVANCED\",\"channel\":\"CURRENT\",\"catalog\":\"dlt_catalog\",\"serverless\":false,\"data_sampling\":false},\"failed_attempts\":0,\"full_refresh\":false,\"run_as_user_id\":2830541782567654,\"runtime_version\":{\"dbr_version\":\"14.1\",\"universe_commit\":\"21538f05cc0269526d9d89015b7841796a58c7b7\",\"runtime_commit\":\"8ccb015d21fd3a340aea328e5985206ca39263aa\",\"channel\":\"CURRENT\",\"image_key\":\"dlt:14.1.23-delta-pipelines-dlt-release-dp-2024.46-rc0-commit-f2385ad-image-30e4e22\"},\"validate_only\":false}}",
         "create_update"
        ],
        [
         "fa58dfb0-ade1-11ef-8fb2-92c611654b16",
         [
          [
           "execution",
           1732837264208005
          ],
          1732837155117001
         ],
         [
          "Azure",
          "centralus",
          362282074994262,
          null,
          "6fb47b49-ba9a-465d-8f7c-95f423557b9d",
          "WORKSPACE",
          "farmers market dlt pipeline",
          "1128-233914-fkcnmatm",
          "66dbe11f-96db-4bec-9366-125e631cb906",
          null,
          null,
          null,
          null,
          null,
          null,
          "66dbe11f-96db-4bec-9366-125e631cb906",
          null
         ],
         "2024-11-28T23:39:15.115Z",
         "Update 66dbe1 is WAITING_FOR_RESOURCES.",
         "INFO",
         "STABLE",
         null,
         "{\"update_progress\":{\"state\":\"WAITING_FOR_RESOURCES\"}}",
         "update_progress"
        ],
        [
         "48e38860-ade2-11ef-8457-00163e3daa30",
         [
          [
           "execution",
           1732837264208006
          ],
          null
         ],
         [
          "Azure",
          "centralus",
          362282074994262,
          null,
          "6fb47b49-ba9a-465d-8f7c-95f423557b9d",
          "WORKSPACE",
          "farmers market dlt pipeline",
          "1128-233914-fkcnmatm",
          "66dbe11f-96db-4bec-9366-125e631cb906",
          null,
          null,
          null,
          null,
          null,
          null,
          "66dbe11f-96db-4bec-9366-125e631cb906",
          null
         ],
         "2024-11-28T23:41:26.886Z",
         "Update 66dbe1 is SETTING_UP_TABLES.",
         "INFO",
         "STABLE",
         null,
         "{\"update_progress\":{\"state\":\"SETTING_UP_TABLES\"}}",
         "update_progress"
        ],
        [
         "4b50dee0-ade2-11ef-8457-00163e3daa30",
         [
          [
           "execution",
           1732837264208007
          ],
          null
         ],
         [
          "Azure",
          "centralus",
          362282074994262,
          null,
          "6fb47b49-ba9a-465d-8f7c-95f423557b9d",
          "WORKSPACE",
          "farmers market dlt pipeline",
          "1128-233914-fkcnmatm",
          "66dbe11f-96db-4bec-9366-125e631cb906",
          null,
          null,
          null,
          null,
          null,
          null,
          "66dbe11f-96db-4bec-9366-125e631cb906",
          null
         ],
         "2024-11-28T23:41:30.958Z",
         "STREAMING_TABLE `dlt_catalog`.`dlt_schema`.`raw_farmers_market` has been created.",
         "INFO",
         "EVOLVING",
         null,
         "{\"dataset_life_cycle\":{\"state\":\"CREATED\",\"dataset_type\":\"STREAMING_TABLE\"}}",
         "dataset_life_cycle"
        ],
        [
         "4c4ca400-ade2-11ef-8457-00163e3daa30",
         [
          [
           "execution",
           1732837264208008
          ],
          null
         ],
         [
          "Azure",
          "centralus",
          362282074994262,
          null,
          "6fb47b49-ba9a-465d-8f7c-95f423557b9d",
          "WORKSPACE",
          "farmers market dlt pipeline",
          "1128-233914-fkcnmatm",
          "66dbe11f-96db-4bec-9366-125e631cb906",
          null,
          null,
          null,
          null,
          null,
          null,
          "66dbe11f-96db-4bec-9366-125e631cb906",
          null
         ],
         "2024-11-28T23:41:32.608Z",
         "Reported cluster resources metrics.",
         "METRICS",
         "STABLE",
         null,
         "{\"cluster_resources\":{\"summary_duration_ms\":60000,\"num_task_slots\":4,\"avg_num_task_slots\":3.9967332788879815,\"num_executors\":1,\"avg_num_queued_tasks\":0.0,\"state\":\"CLUSTER_AT_DESIRED_SIZE\",\"optimal_num_executors\":1}}",
         "cluster_resources"
        ],
        [
         "4c847ce0-ade2-11ef-8457-00163e3daa30",
         [
          [
           "execution",
           1732837264208009
          ],
          null
         ],
         [
          "Azure",
          "centralus",
          362282074994262,
          null,
          "6fb47b49-ba9a-465d-8f7c-95f423557b9d",
          "WORKSPACE",
          "farmers market dlt pipeline",
          "1128-233914-fkcnmatm",
          "66dbe11f-96db-4bec-9366-125e631cb906",
          null,
          null,
          null,
          null,
          "raw_farmers_market",
          null,
          "66dbe11f-96db-4bec-9366-125e631cb906",
          null
         ],
         "2024-11-28T23:41:32.974Z",
         "Flow 'raw_farmers_market' defined as INCREMENTAL.",
         "INFO",
         "STABLE",
         null,
         "{\"flow_definition\":{\"output_dataset\":\"raw_farmers_market\",\"explain_text\":\"~StreamingRelation DataSource(org.apache.spark.sql.SparkSession@51806d13,cloudFiles,List(),None,List(),None,Map(cloudFiles.inferColumnTypes -> true, path -> /tmp/delta/concat, cloudFiles.schemaEvolutionMode -> rescue, cloudFiles.format -> parquet, cloudFiles.schemaLocation -> abfss://unity-catalog@adls04.dfs.core.windows.net/csvdata/_schematracking, cloudFiles.inferSchema -> true),None), cloudFiles, [FMID#1000, MarketName#1001, website#1002, Facebook#1003, Twitter#1004, Youtube#1005, OtherMedia#1006, street#1007, city#1008, County#1009, State#1010, zip#1011, Season1Date#1012, Season1Time#1013, Season2Date#1014, Season2Time#1015, Season3Date#1016, Season3Time#1017, Season4Date#1018, Season4Time#1019, x#1020, y#1021, Location#1022, Credit#1023, ... 36 more fields]\",\"schema_json\":\"{\\\"type\\\":\\\"struct\\\",\\\"fields\\\":[{\\\"name\\\":\\\"FMID\\\",\\\"type\\\":\\\"string\\\",\\\"nullable\\\":true,\\\"metadata\\\":{}},{\\\"name\\\":\\\"MarketName\\\",\\\"type\\\":\\\"string\\\",\\\"nullable\\\":true,\\\"metadata\\\":{}},{\\\"name\\\":\\\"website\\\",\\\"type\\\":\\\"string\\\",\\\"nullable\\\":true,\\\"metadata\\\":{}},{\\\"name\\\":\\\"Facebook\\\",\\\"type\\\":\\\"string\\\",\\\"nullable\\\":true,\\\"metadata\\\":{}},{\\\"name\\\":\\\"Twitter\\\",\\\"type\\\":\\\"string\\\",\\\"nullable\\\":true,\\\"metadata\\\":{}},{\\\"name\\\":\\\"Youtube\\\",\\\"type\\\":\\\"string\\\",\\\"nullable\\\":true,\\\"metadata\\\":{}},{\\\"name\\\":\\\"OtherMedia\\\",\\\"type\\\":\\\"string\\\",\\\"nullable\\\":true,\\\"metadata\\\":{}},{\\\"name\\\":\\\"street\\\",\\\"type\\\":\\\"string\\\",\\\"nullable\\\":true,\\\"metadata\\\":{}},{\\\"name\\\":\\\"city\\\",\\\"type\\\":\\\"string\\\",\\\"nullable\\\":true,\\\"metadata\\\":{}},{\\\"name\\\":\\\"County\\\",\\\"type\\\":\\\"string\\\",\\\"nullable\\\":true,\\\"metadata\\\":{}},{\\\"name\\\":\\\"State\\\",\\\"type\\\":\\\"string\\\",\\\"nullable\\\":true,\\\"metadata\\\":{}},{\\\"name\\\":\\\"zip\\\",\\\"type\\\":\\\"string\\\",\\\"nullable\\\":true,\\\"metadata\\\":{}},{\\\"name\\\":\\\"Season1Date\\\",\\\"type\\\":\\\"string\\\",\\\"nullable\\\":true,\\\"metadata\\\":{}},{\\\"name\\\":\\\"Season1Time\\\",\\\"type\\\":\\\"string\\\",\\\"nullable\\\":true,\\\"metadata\\\":{}},{\\\"name\\\":\\\"Season2Date\\\",\\\"type\\\":\\\"string\\\",\\\"nullable\\\":true,\\\"metadata\\\":{}},{\\\"name\\\":\\\"Season2Time\\\",\\\"type\\\":\\\"string\\\",\\\"nullable\\\":true,\\\"metadata\\\":{}},{\\\"name\\\":\\\"Season3Date\\\",\\\"type\\\":\\\"string\\\",\\\"nullable\\\":true,\\\"metadata\\\":{}},{\\\"name\\\":\\\"Season3Time\\\",\\\"type\\\":\\\"string\\\",\\\"nullable\\\":true,\\\"metadata\\\":{}},{\\\"name\\\":\\\"Season4Date\\\",\\\"type\\\":\\\"string\\\",\\\"nullable\\\":true,\\\"metadata\\\":{}},{\\\"name\\\":\\\"Season4Time\\\",\\\"type\\\":\\\"string\\\",\\\"nullable\\\":true,\\\"metadata\\\":{}},{\\\"name\\\":\\\"x\\\",\\\"type\\\":\\\"string\\\",\\\"nullable\\\":true,\\\"metadata\\\":{}},{\\\"name\\\":\\\"y\\\",\\\"type\\\":\\\"string\\\",\\\"nullable\\\":true,\\\"metadata\\\":{}},{\\\"name\\\":\\\"Location\\\",\\\"type\\\":\\\"string\\\",\\\"nullable\\\":true,\\\"metadata\\\":{}},{\\\"name\\\":\\\"Credit\\\",\\\"type\\\":\\\"string\\\",\\\"nullable\\\":true,\\\"metadata\\\":{}},{\\\"name\\\":\\\"WIC\\\",\\\"type\\\":\\\"string\\\",\\\"nullable\\\":true,\\\"metadata\\\":{}},{\\\"name\\\":\\\"WICcash\\\",\\\"type\\\":\\\"string\\\",\\\"nullable\\\":true,\\\"metadata\\\":{}},{\\\"name\\\":\\\"SFMNP\\\",\\\"type\\\":\\\"string\\\",\\\"nullable\\\":true,\\\"metadata\\\":{}},{\\\"name\\\":\\\"SNAP\\\",\\\"type\\\":\\\"string\\\",\\\"nullable\\\":true,\\\"metadata\\\":{}},{\\\"name\\\":\\\"Organic\\\",\\\"type\\\":\\\"string\\\",\\\"nullable\\\":true,\\\"metadata\\\":{}},{\\\"name\\\":\\\"Bakedgoods\\\",\\\"type\\\":\\\"string\\\",\\\"nullable\\\":true,\\\"metadata\\\":{}},{\\\"name\\\":\\\"Cheese\\\",\\\"type\\\":\\\"string\\\",\\\"nullable\\\":true,\\\"metadata\\\":{}},{\\\"name\\\":\\\"Crafts\\\",\\\"type\\\":\\\"string\\\",\\\"nullable\\\":true,\\\"metadata\\\":{}},{\\\"name\\\":\\\"Flowers\\\",\\\"type\\\":\\\"string\\\",\\\"nullable\\\":true,\\\"metadata\\\":{}},{\\\"name\\\":\\\"Eggs\\\",\\\"type\\\":\\\"string\\\",\\\"nullable\\\":true,\\\"metadata\\\":{}},{\\\"name\\\":\\\"Seafood\\\",\\\"type\\\":\\\"string\\\",\\\"nullable\\\":true,\\\"metadata\\\":{}},{\\\"name\\\":\\\"Herbs\\\",\\\"type\\\":\\\"string\\\",\\\"nullable\\\":true,\\\"metadata\\\":{}},{\\\"name\\\":\\\"Vegetables\\\",\\\"type\\\":\\\"string\\\",\\\"nullable\\\":true,\\\"metadata\\\":{}},{\\\"name\\\":\\\"Honey\\\",\\\"type\\\":\\\"string\\\",\\\"nullable\\\":true,\\\"metadata\\\":{}},{\\\"name\\\":\\\"Jams\\\",\\\"type\\\":\\\"string\\\",\\\"nullable\\\":true,\\\"metadata\\\":{}},{\\\"name\\\":\\\"Maple\\\",\\\"type\\\":\\\"string\\\",\\\"nullable\\\":true,\\\"metadata\\\":{}},{\\\"name\\\":\\\"Meat\\\",\\\"type\\\":\\\"string\\\",\\\"nullable\\\":true,\\\"metadata\\\":{}},{\\\"name\\\":\\\"Nursery\\\",\\\"type\\\":\\\"string\\\",\\\"nullable\\\":true,\\\"metadata\\\":{}},{\\\"name\\\":\\\"Nuts\\\",\\\"type\\\":\\\"string\\\",\\\"nullable\\\":true,\\\"metadata\\\":{}},{\\\"name\\\":\\\"Plants\\\",\\\"type\\\":\\\"string\\\",\\\"nullable\\\":true,\\\"metadata\\\":{}},{\\\"name\\\":\\\"Poultry\\\",\\\"type\\\":\\\"string\\\",\\\"nullable\\\":true,\\\"metadata\\\":{}},{\\\"name\\\":\\\"Prepared\\\",\\\"type\\\":\\\"string\\\",\\\"nullable\\\":true,\\\"metadata\\\":{}},{\\\"name\\\":\\\"Soap\\\",\\\"type\\\":\\\"string\\\",\\\"nullable\\\":true,\\\"metadata\\\":{}},{\\\"name\\\":\\\"Trees\\\",\\\"type\\\":\\\"string\\\",\\\"nullable\\\":true,\\\"metadata\\\":{}},{\\\"name\\\":\\\"Wine\\\",\\\"type\\\":\\\"string\\\",\\\"nullable\\\":true,\\\"metadata\\\":{}},{\\\"name\\\":\\\"Coffee\\\",\\\"type\\\":\\\"string\\\",\\\"nullable\\\":true,\\\"metadata\\\":{}},{\\\"name\\\":\\\"Beans\\\",\\\"type\\\":\\\"string\\\",\\\"nullable\\\":true,\\\"metadata\\\":{}},{\\\"name\\\":\\\"Fruits\\\",\\\"type\\\":\\\"string\\\",\\\"nullable\\\":true,\\\"metadata\\\":{}},{\\\"name\\\":\\\"Grains\\\",\\\"type\\\":\\\"string\\\",\\\"nullable\\\":true,\\\"metadata\\\":{}},{\\\"name\\\":\\\"Juices\\\",\\\"type\\\":\\\"string\\\",\\\"nullable\\\":true,\\\"metadata\\\":{}},{\\\"name\\\":\\\"Mushrooms\\\",\\\"type\\\":\\\"string\\\",\\\"nullable\\\":true,\\\"metadata\\\":{}},{\\\"name\\\":\\\"PetFood\\\",\\\"type\\\":\\\"string\\\",\\\"nullable\\\":true,\\\"metadata\\\":{}},{\\\"name\\\":\\\"Tofu\\\",\\\"type\\\":\\\"string\\\",\\\"nullable\\\":true,\\\"metadata\\\":{}},{\\\"name\\\":\\\"WildHarvested\\\",\\\"type\\\":\\\"string\\\",\\\"nullable\\\":true,\\\"metadata\\\":{}},{\\\"name\\\":\\\"updateTime\\\",\\\"type\\\":\\\"string\\\",\\\"nullable\\\":true,\\\"metadata\\\":{}},{\\\"name\\\":\\\"_rescued_data\\\",\\\"type\\\":\\\"string\\\",\\\"nullable\\\":true,\\\"metadata\\\":{}}]}\",\"schema\":[{\"name\":\"FMID\",\"path\":[\"FMID\"],\"data_type\":\"STRING\"},{\"name\":\"MarketName\",\"path\":[\"MarketName\"],\"data_type\":\"STRING\"},{\"name\":\"website\",\"path\":[\"website\"],\"data_type\":\"STRING\"},{\"name\":\"Facebook\",\"path\":[\"Facebook\"],\"data_type\":\"STRING\"},{\"name\":\"Twitter\",\"path\":[\"Twitter\"],\"data_type\":\"STRING\"},{\"name\":\"Youtube\",\"path\":[\"Youtube\"],\"data_type\":\"STRING\"},{\"name\":\"OtherMedia\",\"path\":[\"OtherMedia\"],\"data_type\":\"STRING\"},{\"name\":\"street\",\"path\":[\"street\"],\"data_type\":\"STRING\"},{\"name\":\"city\",\"path\":[\"city\"],\"data_type\":\"STRING\"},{\"name\":\"County\",\"path\":[\"County\"],\"data_type\":\"STRING\"},{\"name\":\"State\",\"path\":[\"State\"],\"data_type\":\"STRING\"},{\"name\":\"zip\",\"path\":[\"zip\"],\"data_type\":\"STRING\"},{\"name\":\"Season1Date\",\"path\":[\"Season1Date\"],\"data_type\":\"STRING\"},{\"name\":\"Season1Time\",\"path\":[\"Season1Time\"],\"data_type\":\"STRING\"},{\"name\":\"Season2Date\",\"path\":[\"Season2Date\"],\"data_type\":\"STRING\"},{\"name\":\"Season2Time\",\"path\":[\"Season2Time\"],\"data_type\":\"STRING\"},{\"name\":\"Season3Date\",\"path\":[\"Season3Date\"],\"data_type\":\"STRING\"},{\"name\":\"Season3Time\",\"path\":[\"Season3Time\"],\"data_type\":\"STRING\"},{\"name\":\"Season4Date\",\"path\":[\"Season4Date\"],\"data_type\":\"STRING\"},{\"name\":\"Season4Time\",\"path\":[\"Season4Time\"],\"data_type\":\"STRING\"},{\"name\":\"x\",\"path\":[\"x\"],\"data_type\":\"STRING\"},{\"name\":\"y\",\"path\":[\"y\"],\"data_type\":\"STRING\"},{\"name\":\"Location\",\"path\":[\"Location\"],\"data_type\":\"STRING\"},{\"name\":\"Credit\",\"path\":[\"Credit\"],\"data_type\":\"STRING\"},{\"name\":\"WIC\",\"path\":[\"WIC\"],\"data_type\":\"STRING\"},{\"name\":\"WICcash\",\"path\":[\"WICcash\"],\"data_type\":\"STRING\"},{\"name\":\"SFMNP\",\"path\":[\"SFMNP\"],\"data_type\":\"STRING\"},{\"name\":\"SNAP\",\"path\":[\"SNAP\"],\"data_type\":\"STRING\"},{\"name\":\"Organic\",\"path\":[\"Organic\"],\"data_type\":\"STRING\"},{\"name\":\"Bakedgoods\",\"path\":[\"Bakedgoods\"],\"data_type\":\"STRING\"},{\"name\":\"Cheese\",\"path\":[\"Cheese\"],\"data_type\":\"STRING\"},{\"name\":\"Crafts\",\"path\":[\"Crafts\"],\"data_type\":\"STRING\"},{\"name\":\"Flowers\",\"path\":[\"Flowers\"],\"data_type\":\"STRING\"},{\"name\":\"Eggs\",\"path\":[\"Eggs\"],\"data_type\":\"STRING\"},{\"name\":\"Seafood\",\"path\":[\"Seafood\"],\"data_type\":\"STRING\"},{\"name\":\"Herbs\",\"path\":[\"Herbs\"],\"data_type\":\"STRING\"},{\"name\":\"Vegetables\",\"path\":[\"Vegetables\"],\"data_type\":\"STRING\"},{\"name\":\"Honey\",\"path\":[\"Honey\"],\"data_type\":\"STRING\"},{\"name\":\"Jams\",\"path\":[\"Jams\"],\"data_type\":\"STRING\"},{\"name\":\"Maple\",\"path\":[\"Maple\"],\"data_type\":\"STRING\"},{\"name\":\"Meat\",\"path\":[\"Meat\"],\"data_type\":\"STRING\"},{\"name\":\"Nursery\",\"path\":[\"Nursery\"],\"data_type\":\"STRING\"},{\"name\":\"Nuts\",\"path\":[\"Nuts\"],\"data_type\":\"STRING\"},{\"name\":\"Plants\",\"path\":[\"Plants\"],\"data_type\":\"STRING\"},{\"name\":\"Poultry\",\"path\":[\"Poultry\"],\"data_type\":\"STRING\"},{\"name\":\"Prepared\",\"path\":[\"Prepared\"],\"data_type\":\"STRING\"},{\"name\":\"Soap\",\"path\":[\"Soap\"],\"data_type\":\"STRING\"},{\"name\":\"Trees\",\"path\":[\"Trees\"],\"data_type\":\"STRING\"},{\"name\":\"Wine\",\"path\":[\"Wine\"],\"data_type\":\"STRING\"},{\"name\":\"Coffee\",\"path\":[\"Coffee\"],\"data_type\":\"STRING\"},{\"name\":\"Beans\",\"path\":[\"Beans\"],\"data_type\":\"STRING\"},{\"name\":\"Fruits\",\"path\":[\"Fruits\"],\"data_type\":\"STRING\"},{\"name\":\"Grains\",\"path\":[\"Grains\"],\"data_type\":\"STRING\"},{\"name\":\"Juices\",\"path\":[\"Juices\"],\"data_type\":\"STRING\"},{\"name\":\"Mushrooms\",\"path\":[\"Mushrooms\"],\"data_type\":\"STRING\"},{\"name\":\"PetFood\",\"path\":[\"PetFood\"],\"data_type\":\"STRING\"},{\"name\":\"Tofu\",\"path\":[\"Tofu\"],\"data_type\":\"STRING\"},{\"name\":\"WildHarvested\",\"path\":[\"WildHarvested\"],\"data_type\":\"STRING\"},{\"name\":\"updateTime\",\"path\":[\"updateTime\"],\"data_type\":\"STRING\"},{\"name\":\"_rescued_data\",\"path\":[\"_rescued_data\"],\"data_type\":\"STRING\"}],\"flow_type\":\"INCREMENTAL\",\"comment\":\"This table contains raw farmers market data with '@' removed from the website column\",\"language\":\"PYTHON\",\"notebook_path\":\"/Users/admin@mngenvmcap374485.onmicrosoft.com/dlt-helpers/integration-testing/dlt_integration_pipeline\",\"once\":false}}",
         "flow_definition"
        ],
        [
         "4c923880-ade2-11ef-8457-00163e3daa30",
         [
          [
           "execution",
           1732837264208010
          ],
          null
         ],
         [
          "Azure",
          "centralus",
          362282074994262,
          null,
          "6fb47b49-ba9a-465d-8f7c-95f423557b9d",
          "WORKSPACE",
          "farmers market dlt pipeline",
          "1128-233914-fkcnmatm",
          "66dbe11f-96db-4bec-9366-125e631cb906",
          null,
          null,
          null,
          null,
          null,
          null,
          "66dbe11f-96db-4bec-9366-125e631cb906",
          null
         ],
         "2024-11-28T23:41:33.064Z",
         "Dataset 'raw_farmers_market' defined as STREAMING_TABLE.",
         "INFO",
         "STABLE",
         null,
         "{\"dataset_definition\":{\"dataset_type\":\"STREAMING_TABLE\",\"table_properties\":[{\"key\":\"quality\",\"value\":\"bronze\"}],\"schema_json\":\"{\\\"type\\\":\\\"struct\\\",\\\"fields\\\":[{\\\"name\\\":\\\"FMID\\\",\\\"type\\\":\\\"string\\\",\\\"nullable\\\":true,\\\"metadata\\\":{}},{\\\"name\\\":\\\"MarketName\\\",\\\"type\\\":\\\"string\\\",\\\"nullable\\\":true,\\\"metadata\\\":{}},{\\\"name\\\":\\\"website\\\",\\\"type\\\":\\\"string\\\",\\\"nullable\\\":true,\\\"metadata\\\":{}},{\\\"name\\\":\\\"Facebook\\\",\\\"type\\\":\\\"string\\\",\\\"nullable\\\":true,\\\"metadata\\\":{}},{\\\"name\\\":\\\"Twitter\\\",\\\"type\\\":\\\"string\\\",\\\"nullable\\\":true,\\\"metadata\\\":{}},{\\\"name\\\":\\\"Youtube\\\",\\\"type\\\":\\\"string\\\",\\\"nullable\\\":true,\\\"metadata\\\":{}},{\\\"name\\\":\\\"OtherMedia\\\",\\\"type\\\":\\\"string\\\",\\\"nullable\\\":true,\\\"metadata\\\":{}},{\\\"name\\\":\\\"street\\\",\\\"type\\\":\\\"string\\\",\\\"nullable\\\":true,\\\"metadata\\\":{}},{\\\"name\\\":\\\"city\\\",\\\"type\\\":\\\"string\\\",\\\"nullable\\\":true,\\\"metadata\\\":{}},{\\\"name\\\":\\\"County\\\",\\\"type\\\":\\\"string\\\",\\\"nullable\\\":true,\\\"metadata\\\":{}},{\\\"name\\\":\\\"State\\\",\\\"type\\\":\\\"string\\\",\\\"nullable\\\":true,\\\"metadata\\\":{}},{\\\"name\\\":\\\"zip\\\",\\\"type\\\":\\\"string\\\",\\\"nullable\\\":true,\\\"metadata\\\":{}},{\\\"name\\\":\\\"Season1Date\\\",\\\"type\\\":\\\"string\\\",\\\"nullable\\\":true,\\\"metadata\\\":{}},{\\\"name\\\":\\\"Season1Time\\\",\\\"type\\\":\\\"string\\\",\\\"nullable\\\":true,\\\"metadata\\\":{}},{\\\"name\\\":\\\"Season2Date\\\",\\\"type\\\":\\\"string\\\",\\\"nullable\\\":true,\\\"metadata\\\":{}},{\\\"name\\\":\\\"Season2Time\\\",\\\"type\\\":\\\"string\\\",\\\"nullable\\\":true,\\\"metadata\\\":{}},{\\\"name\\\":\\\"Season3Date\\\",\\\"type\\\":\\\"string\\\",\\\"nullable\\\":true,\\\"metadata\\\":{}},{\\\"name\\\":\\\"Season3Time\\\",\\\"type\\\":\\\"string\\\",\\\"nullable\\\":true,\\\"metadata\\\":{}},{\\\"name\\\":\\\"Season4Date\\\",\\\"type\\\":\\\"string\\\",\\\"nullable\\\":true,\\\"metadata\\\":{}},{\\\"name\\\":\\\"Season4Time\\\",\\\"type\\\":\\\"string\\\",\\\"nullable\\\":true,\\\"metadata\\\":{}},{\\\"name\\\":\\\"x\\\",\\\"type\\\":\\\"string\\\",\\\"nullable\\\":true,\\\"metadata\\\":{}},{\\\"name\\\":\\\"y\\\",\\\"type\\\":\\\"string\\\",\\\"nullable\\\":true,\\\"metadata\\\":{}},{\\\"name\\\":\\\"Location\\\",\\\"type\\\":\\\"string\\\",\\\"nullable\\\":true,\\\"metadata\\\":{}},{\\\"name\\\":\\\"Credit\\\",\\\"type\\\":\\\"string\\\",\\\"nullable\\\":true,\\\"metadata\\\":{}},{\\\"name\\\":\\\"WIC\\\",\\\"type\\\":\\\"string\\\",\\\"nullable\\\":true,\\\"metadata\\\":{}},{\\\"name\\\":\\\"WICcash\\\",\\\"type\\\":\\\"string\\\",\\\"nullable\\\":true,\\\"metadata\\\":{}},{\\\"name\\\":\\\"SFMNP\\\",\\\"type\\\":\\\"string\\\",\\\"nullable\\\":true,\\\"metadata\\\":{}},{\\\"name\\\":\\\"SNAP\\\",\\\"type\\\":\\\"string\\\",\\\"nullable\\\":true,\\\"metadata\\\":{}},{\\\"name\\\":\\\"Organic\\\",\\\"type\\\":\\\"string\\\",\\\"nullable\\\":true,\\\"metadata\\\":{}},{\\\"name\\\":\\\"Bakedgoods\\\",\\\"type\\\":\\\"string\\\",\\\"nullable\\\":true,\\\"metadata\\\":{}},{\\\"name\\\":\\\"Cheese\\\",\\\"type\\\":\\\"string\\\",\\\"nullable\\\":true,\\\"metadata\\\":{}},{\\\"name\\\":\\\"Crafts\\\",\\\"type\\\":\\\"string\\\",\\\"nullable\\\":true,\\\"metadata\\\":{}},{\\\"name\\\":\\\"Flowers\\\",\\\"type\\\":\\\"string\\\",\\\"nullable\\\":true,\\\"metadata\\\":{}},{\\\"name\\\":\\\"Eggs\\\",\\\"type\\\":\\\"string\\\",\\\"nullable\\\":true,\\\"metadata\\\":{}},{\\\"name\\\":\\\"Seafood\\\",\\\"type\\\":\\\"string\\\",\\\"nullable\\\":true,\\\"metadata\\\":{}},{\\\"name\\\":\\\"Herbs\\\",\\\"type\\\":\\\"string\\\",\\\"nullable\\\":true,\\\"metadata\\\":{}},{\\\"name\\\":\\\"Vegetables\\\",\\\"type\\\":\\\"string\\\",\\\"nullable\\\":true,\\\"metadata\\\":{}},{\\\"name\\\":\\\"Honey\\\",\\\"type\\\":\\\"string\\\",\\\"nullable\\\":true,\\\"metadata\\\":{}},{\\\"name\\\":\\\"Jams\\\",\\\"type\\\":\\\"string\\\",\\\"nullable\\\":true,\\\"metadata\\\":{}},{\\\"name\\\":\\\"Maple\\\",\\\"type\\\":\\\"string\\\",\\\"nullable\\\":true,\\\"metadata\\\":{}},{\\\"name\\\":\\\"Meat\\\",\\\"type\\\":\\\"string\\\",\\\"nullable\\\":true,\\\"metadata\\\":{}},{\\\"name\\\":\\\"Nursery\\\",\\\"type\\\":\\\"string\\\",\\\"nullable\\\":true,\\\"metadata\\\":{}},{\\\"name\\\":\\\"Nuts\\\",\\\"type\\\":\\\"string\\\",\\\"nullable\\\":true,\\\"metadata\\\":{}},{\\\"name\\\":\\\"Plants\\\",\\\"type\\\":\\\"string\\\",\\\"nullable\\\":true,\\\"metadata\\\":{}},{\\\"name\\\":\\\"Poultry\\\",\\\"type\\\":\\\"string\\\",\\\"nullable\\\":true,\\\"metadata\\\":{}},{\\\"name\\\":\\\"Prepared\\\",\\\"type\\\":\\\"string\\\",\\\"nullable\\\":true,\\\"metadata\\\":{}},{\\\"name\\\":\\\"Soap\\\",\\\"type\\\":\\\"string\\\",\\\"nullable\\\":true,\\\"metadata\\\":{}},{\\\"name\\\":\\\"Trees\\\",\\\"type\\\":\\\"string\\\",\\\"nullable\\\":true,\\\"metadata\\\":{}},{\\\"name\\\":\\\"Wine\\\",\\\"type\\\":\\\"string\\\",\\\"nullable\\\":true,\\\"metadata\\\":{}},{\\\"name\\\":\\\"Coffee\\\",\\\"type\\\":\\\"string\\\",\\\"nullable\\\":true,\\\"metadata\\\":{}},{\\\"name\\\":\\\"Beans\\\",\\\"type\\\":\\\"string\\\",\\\"nullable\\\":true,\\\"metadata\\\":{}},{\\\"name\\\":\\\"Fruits\\\",\\\"type\\\":\\\"string\\\",\\\"nullable\\\":true,\\\"metadata\\\":{}},{\\\"name\\\":\\\"Grains\\\",\\\"type\\\":\\\"string\\\",\\\"nullable\\\":true,\\\"metadata\\\":{}},{\\\"name\\\":\\\"Juices\\\",\\\"type\\\":\\\"string\\\",\\\"nullable\\\":true,\\\"metadata\\\":{}},{\\\"name\\\":\\\"Mushrooms\\\",\\\"type\\\":\\\"string\\\",\\\"nullable\\\":true,\\\"metadata\\\":{}},{\\\"name\\\":\\\"PetFood\\\",\\\"type\\\":\\\"string\\\",\\\"nullable\\\":true,\\\"metadata\\\":{}},{\\\"name\\\":\\\"Tofu\\\",\\\"type\\\":\\\"string\\\",\\\"nullable\\\":true,\\\"metadata\\\":{}},{\\\"name\\\":\\\"WildHarvested\\\",\\\"type\\\":\\\"string\\\",\\\"nullable\\\":true,\\\"metadata\\\":{}},{\\\"name\\\":\\\"updateTime\\\",\\\"type\\\":\\\"string\\\",\\\"nullable\\\":true,\\\"metadata\\\":{}},{\\\"name\\\":\\\"_rescued_data\\\",\\\"type\\\":\\\"string\\\",\\\"nullable\\\":true,\\\"metadata\\\":{}}]}\",\"schema\":[{\"name\":\"FMID\",\"path\":[\"FMID\"],\"data_type\":\"STRING\"},{\"name\":\"MarketName\",\"path\":[\"MarketName\"],\"data_type\":\"STRING\"},{\"name\":\"website\",\"path\":[\"website\"],\"data_type\":\"STRING\"},{\"name\":\"Facebook\",\"path\":[\"Facebook\"],\"data_type\":\"STRING\"},{\"name\":\"Twitter\",\"path\":[\"Twitter\"],\"data_type\":\"STRING\"},{\"name\":\"Youtube\",\"path\":[\"Youtube\"],\"data_type\":\"STRING\"},{\"name\":\"OtherMedia\",\"path\":[\"OtherMedia\"],\"data_type\":\"STRING\"},{\"name\":\"street\",\"path\":[\"street\"],\"data_type\":\"STRING\"},{\"name\":\"city\",\"path\":[\"city\"],\"data_type\":\"STRING\"},{\"name\":\"County\",\"path\":[\"County\"],\"data_type\":\"STRING\"},{\"name\":\"State\",\"path\":[\"State\"],\"data_type\":\"STRING\"},{\"name\":\"zip\",\"path\":[\"zip\"],\"data_type\":\"STRING\"},{\"name\":\"Season1Date\",\"path\":[\"Season1Date\"],\"data_type\":\"STRING\"},{\"name\":\"Season1Time\",\"path\":[\"Season1Time\"],\"data_type\":\"STRING\"},{\"name\":\"Season2Date\",\"path\":[\"Season2Date\"],\"data_type\":\"STRING\"},{\"name\":\"Season2Time\",\"path\":[\"Season2Time\"],\"data_type\":\"STRING\"},{\"name\":\"Season3Date\",\"path\":[\"Season3Date\"],\"data_type\":\"STRING\"},{\"name\":\"Season3Time\",\"path\":[\"Season3Time\"],\"data_type\":\"STRING\"},{\"name\":\"Season4Date\",\"path\":[\"Season4Date\"],\"data_type\":\"STRING\"},{\"name\":\"Season4Time\",\"path\":[\"Season4Time\"],\"data_type\":\"STRING\"},{\"name\":\"x\",\"path\":[\"x\"],\"data_type\":\"STRING\"},{\"name\":\"y\",\"path\":[\"y\"],\"data_type\":\"STRING\"},{\"name\":\"Location\",\"path\":[\"Location\"],\"data_type\":\"STRING\"},{\"name\":\"Credit\",\"path\":[\"Credit\"],\"data_type\":\"STRING\"},{\"name\":\"WIC\",\"path\":[\"WIC\"],\"data_type\":\"STRING\"},{\"name\":\"WICcash\",\"path\":[\"WICcash\"],\"data_type\":\"STRING\"},{\"name\":\"SFMNP\",\"path\":[\"SFMNP\"],\"data_type\":\"STRING\"},{\"name\":\"SNAP\",\"path\":[\"SNAP\"],\"data_type\":\"STRING\"},{\"name\":\"Organic\",\"path\":[\"Organic\"],\"data_type\":\"STRING\"},{\"name\":\"Bakedgoods\",\"path\":[\"Bakedgoods\"],\"data_type\":\"STRING\"},{\"name\":\"Cheese\",\"path\":[\"Cheese\"],\"data_type\":\"STRING\"},{\"name\":\"Crafts\",\"path\":[\"Crafts\"],\"data_type\":\"STRING\"},{\"name\":\"Flowers\",\"path\":[\"Flowers\"],\"data_type\":\"STRING\"},{\"name\":\"Eggs\",\"path\":[\"Eggs\"],\"data_type\":\"STRING\"},{\"name\":\"Seafood\",\"path\":[\"Seafood\"],\"data_type\":\"STRING\"},{\"name\":\"Herbs\",\"path\":[\"Herbs\"],\"data_type\":\"STRING\"},{\"name\":\"Vegetables\",\"path\":[\"Vegetables\"],\"data_type\":\"STRING\"},{\"name\":\"Honey\",\"path\":[\"Honey\"],\"data_type\":\"STRING\"},{\"name\":\"Jams\",\"path\":[\"Jams\"],\"data_type\":\"STRING\"},{\"name\":\"Maple\",\"path\":[\"Maple\"],\"data_type\":\"STRING\"},{\"name\":\"Meat\",\"path\":[\"Meat\"],\"data_type\":\"STRING\"},{\"name\":\"Nursery\",\"path\":[\"Nursery\"],\"data_type\":\"STRING\"},{\"name\":\"Nuts\",\"path\":[\"Nuts\"],\"data_type\":\"STRING\"},{\"name\":\"Plants\",\"path\":[\"Plants\"],\"data_type\":\"STRING\"},{\"name\":\"Poultry\",\"path\":[\"Poultry\"],\"data_type\":\"STRING\"},{\"name\":\"Prepared\",\"path\":[\"Prepared\"],\"data_type\":\"STRING\"},{\"name\":\"Soap\",\"path\":[\"Soap\"],\"data_type\":\"STRING\"},{\"name\":\"Trees\",\"path\":[\"Trees\"],\"data_type\":\"STRING\"},{\"name\":\"Wine\",\"path\":[\"Wine\"],\"data_type\":\"STRING\"},{\"name\":\"Coffee\",\"path\":[\"Coffee\"],\"data_type\":\"STRING\"},{\"name\":\"Beans\",\"path\":[\"Beans\"],\"data_type\":\"STRING\"},{\"name\":\"Fruits\",\"path\":[\"Fruits\"],\"data_type\":\"STRING\"},{\"name\":\"Grains\",\"path\":[\"Grains\"],\"data_type\":\"STRING\"},{\"name\":\"Juices\",\"path\":[\"Juices\"],\"data_type\":\"STRING\"},{\"name\":\"Mushrooms\",\"path\":[\"Mushrooms\"],\"data_type\":\"STRING\"},{\"name\":\"PetFood\",\"path\":[\"PetFood\"],\"data_type\":\"STRING\"},{\"name\":\"Tofu\",\"path\":[\"Tofu\"],\"data_type\":\"STRING\"},{\"name\":\"WildHarvested\",\"path\":[\"WildHarvested\"],\"data_type\":\"STRING\"},{\"name\":\"updateTime\",\"path\":[\"updateTime\"],\"data_type\":\"STRING\"},{\"name\":\"_rescued_data\",\"path\":[\"_rescued_data\"],\"data_type\":\"STRING\"}],\"comment\":\"This table contains raw farmers market data with '@' removed from the website column\",\"expectations\":[{\"name\":\"website_not_null\",\"action\":\"ALLOW\"},{\"name\":\"location_not_null\",\"action\":\"ALLOW\"},{\"name\":\"state_not_null\",\"action\":\"ALLOW\"}],\"metastore_name\":\"`dlt_catalog`.`dlt_schema`.`raw_farmers_market`\",\"language\":\"PYTHON\",\"notebook_path\":\"/Users/admin@mngenvmcap374485.onmicrosoft.com/dlt-helpers/integration-testing/dlt_integration_pipeline\",\"num_flows\":1}}",
         "dataset_definition"
        ],
        [
         "4ca76e30-ade2-11ef-8457-00163e3daa30",
         [
          [
           "execution",
           1732837264208011
          ],
          null
         ],
         [
          "Azure",
          "centralus",
          362282074994262,
          null,
          "6fb47b49-ba9a-465d-8f7c-95f423557b9d",
          "WORKSPACE",
          "farmers market dlt pipeline",
          "1128-233914-fkcnmatm",
          "66dbe11f-96db-4bec-9366-125e631cb906",
          null,
          null,
          null,
          null,
          null,
          null,
          "66dbe11f-96db-4bec-9366-125e631cb906",
          null
         ],
         "2024-11-28T23:41:33.203Z",
         "Dataflow graph successfully loaded.",
         "INFO",
         "STABLE",
         null,
         "{\"graph_created\":{}}",
         "graph_created"
        ],
        [
         "4cab3ec0-ade2-11ef-8457-00163e3daa30",
         [
          [
           "execution",
           1732837264208012
          ],
          null
         ],
         [
          "Azure",
          "centralus",
          362282074994262,
          null,
          "6fb47b49-ba9a-465d-8f7c-95f423557b9d",
          "WORKSPACE",
          "farmers market dlt pipeline",
          "1128-233914-fkcnmatm",
          "66dbe11f-96db-4bec-9366-125e631cb906",
          null,
          null,
          null,
          null,
          null,
          null,
          "66dbe11f-96db-4bec-9366-125e631cb906",
          null
         ],
         "2024-11-28T23:41:33.228Z",
         "Update 66dbe1 is RUNNING.",
         "INFO",
         "STABLE",
         null,
         "{\"update_progress\":{\"state\":\"RUNNING\"}}",
         "update_progress"
        ],
        [
         "4cad61a0-ade2-11ef-8457-00163e3daa30",
         [
          [
           "execution",
           1732837264208013
          ],
          null
         ],
         [
          "Azure",
          "centralus",
          362282074994262,
          null,
          "6fb47b49-ba9a-465d-8f7c-95f423557b9d",
          "WORKSPACE",
          "farmers market dlt pipeline",
          "1128-233914-fkcnmatm",
          "66dbe11f-96db-4bec-9366-125e631cb906",
          null,
          null,
          null,
          null,
          "raw_farmers_market",
          null,
          "66dbe11f-96db-4bec-9366-125e631cb906",
          null
         ],
         "2024-11-28T23:41:33.242Z",
         "Flow 'raw_farmers_market' is QUEUED.",
         "INFO",
         "STABLE",
         null,
         "{\"flow_progress\":{\"status\":\"QUEUED\"}}",
         "flow_progress"
        ],
        [
         "4ccd6cc0-ade2-11ef-8457-00163e3daa30",
         [
          [
           "execution",
           1732837264208014
          ],
          null
         ],
         [
          "Azure",
          "centralus",
          362282074994262,
          null,
          "6fb47b49-ba9a-465d-8f7c-95f423557b9d",
          "WORKSPACE",
          "farmers market dlt pipeline",
          "1128-233914-fkcnmatm",
          "66dbe11f-96db-4bec-9366-125e631cb906",
          null,
          null,
          null,
          null,
          "raw_farmers_market",
          null,
          "66dbe11f-96db-4bec-9366-125e631cb906",
          null
         ],
         "2024-11-28T23:41:33.452Z",
         "Flow 'raw_farmers_market' is STARTING.",
         "INFO",
         "STABLE",
         null,
         "{\"flow_progress\":{\"status\":\"STARTING\"}}",
         "flow_progress"
        ],
        [
         "4de82b90-ade2-11ef-8457-00163e3daa30",
         [
          [
           "execution",
           1732837264208015
          ],
          null
         ],
         [
          "Azure",
          "centralus",
          362282074994262,
          null,
          "6fb47b49-ba9a-465d-8f7c-95f423557b9d",
          "WORKSPACE",
          "farmers market dlt pipeline",
          "1128-233914-fkcnmatm",
          "66dbe11f-96db-4bec-9366-125e631cb906",
          null,
          null,
          null,
          "7de39c70-282e-42de-b730-b2cfe37be8f1",
          "raw_farmers_market",
          null,
          "66dbe11f-96db-4bec-9366-125e631cb906",
          null
         ],
         "2024-11-28T23:41:35.305Z",
         "Flow 'raw_farmers_market' is RUNNING.",
         "INFO",
         "STABLE",
         null,
         "{\"flow_progress\":{\"status\":\"RUNNING\",\"metrics\":{}}}",
         "flow_progress"
        ],
        [
         "56142670-ade2-11ef-8457-00163e3daa30",
         [
          [
           "execution",
           1732837264208016
          ],
          null
         ],
         [
          "Azure",
          "centralus",
          362282074994262,
          null,
          "6fb47b49-ba9a-465d-8f7c-95f423557b9d",
          "WORKSPACE",
          "farmers market dlt pipeline",
          "1128-233914-fkcnmatm",
          "66dbe11f-96db-4bec-9366-125e631cb906",
          null,
          null,
          null,
          "7de39c70-282e-42de-b730-b2cfe37be8f1",
          "raw_farmers_market",
          null,
          "66dbe11f-96db-4bec-9366-125e631cb906",
          null
         ],
         "2024-11-28T23:41:49.015Z",
         "Completed a streaming update of 'raw_farmers_market'.",
         "INFO",
         "STABLE",
         null,
         "{\"flow_progress\":{\"status\":\"RUNNING\",\"metrics\":{\"num_output_rows\":8518,\"backlog_bytes\":0,\"backlog_files\":0},\"data_quality\":{\"dropped_records\":0,\"expectations\":[{\"name\":\"state_not_null\",\"dataset\":\"raw_farmers_market\",\"passed_records\":8517,\"failed_records\":1},{\"name\":\"website_not_null\",\"dataset\":\"raw_farmers_market\",\"passed_records\":5003,\"failed_records\":3515},{\"name\":\"location_not_null\",\"dataset\":\"raw_farmers_market\",\"passed_records\":3698,\"failed_records\":4820}]}}}",
         "flow_progress"
        ],
        [
         "561dc360-ade2-11ef-8457-00163e3daa30",
         [
          [
           "execution",
           1732837264208017
          ],
          null
         ],
         [
          "Azure",
          "centralus",
          362282074994262,
          null,
          "6fb47b49-ba9a-465d-8f7c-95f423557b9d",
          "WORKSPACE",
          "farmers market dlt pipeline",
          "1128-233914-fkcnmatm",
          "66dbe11f-96db-4bec-9366-125e631cb906",
          null,
          null,
          null,
          "7de39c70-282e-42de-b730-b2cfe37be8f1",
          "raw_farmers_market",
          null,
          "66dbe11f-96db-4bec-9366-125e631cb906",
          null
         ],
         "2024-11-28T23:41:49.078Z",
         "Flow 'raw_farmers_market' has COMPLETED.",
         "INFO",
         "STABLE",
         null,
         "{\"flow_progress\":{\"status\":\"COMPLETED\"}}",
         "flow_progress"
        ],
        [
         "57998df0-ade2-11ef-8457-00163e3daa30",
         [
          [
           "execution",
           1732837264208019
          ],
          null
         ],
         [
          "Azure",
          "centralus",
          362282074994262,
          null,
          "6fb47b49-ba9a-465d-8f7c-95f423557b9d",
          "WORKSPACE",
          "farmers market dlt pipeline",
          "1128-233914-fkcnmatm",
          "66dbe11f-96db-4bec-9366-125e631cb906",
          null,
          null,
          null,
          null,
          "raw_farmers_market",
          null,
          "66dbe11f-96db-4bec-9366-125e631cb906",
          null
         ],
         "2024-11-28T23:41:51.567Z",
         "Reported flow time metrics for flowName: 'raw_farmers_market'.",
         "METRICS",
         "STABLE",
         null,
         "{\"flow_progress\":{\"metrics\":{\"executor_time_ms\":4338,\"executor_cpu_time_ms\":2667}}}",
         "flow_progress"
        ],
        [
         "5799dc10-ade2-11ef-8457-00163e3daa30",
         [
          [
           "execution",
           1732837264208020
          ],
          null
         ],
         [
          "Azure",
          "centralus",
          362282074994262,
          null,
          "6fb47b49-ba9a-465d-8f7c-95f423557b9d",
          "WORKSPACE",
          "farmers market dlt pipeline",
          "1128-233914-fkcnmatm",
          "66dbe11f-96db-4bec-9366-125e631cb906",
          null,
          null,
          null,
          null,
          "pipelines.flowTimeMetrics.missingFlowName",
          null,
          "66dbe11f-96db-4bec-9366-125e631cb906",
          null
         ],
         "2024-11-28T23:41:51.569Z",
         "Reported flow time metrics for flowName: 'pipelines.flowTimeMetrics.missingFlowName'.",
         "METRICS",
         "STABLE",
         null,
         "{\"flow_progress\":{\"metrics\":{\"executor_time_ms\":7109,\"executor_cpu_time_ms\":5355}}}",
         "flow_progress"
        ],
        [
         "579a7850-ade2-11ef-8457-00163e3daa30",
         [
          [
           "execution",
           1732837264208021
          ],
          null
         ],
         [
          "Azure",
          "centralus",
          362282074994262,
          null,
          "6fb47b49-ba9a-465d-8f7c-95f423557b9d",
          "WORKSPACE",
          "farmers market dlt pipeline",
          "1128-233914-fkcnmatm",
          "66dbe11f-96db-4bec-9366-125e631cb906",
          null,
          null,
          null,
          null,
          null,
          null,
          "66dbe11f-96db-4bec-9366-125e631cb906",
          null
         ],
         "2024-11-28T23:41:51.573Z",
         "Update 66dbe1 is COMPLETED.",
         "INFO",
         "STABLE",
         null,
         "{\"update_progress\":{\"state\":\"COMPLETED\"}}",
         "update_progress"
        ],
        [
         "93cb19b0-ade2-11ef-8457-00163e3daa30",
         [
          [
           "execution",
           1732837264208023
          ],
          null
         ],
         [
          "Azure",
          "centralus",
          362282074994262,
          null,
          "6fb47b49-ba9a-465d-8f7c-95f423557b9d",
          "WORKSPACE",
          "farmers market dlt pipeline",
          "1128-233914-fkcnmatm",
          "66dbe11f-96db-4bec-9366-125e631cb906",
          null,
          null,
          null,
          null,
          null,
          null,
          "66dbe11f-96db-4bec-9366-125e631cb906",
          null
         ],
         "2024-11-28T23:43:32.555Z",
         "Reported cluster resources metrics.",
         "METRICS",
         "STABLE",
         null,
         "{\"cluster_resources\":{\"summary_duration_ms\":60000,\"num_task_slots\":4,\"avg_num_task_slots\":3.999733328888815,\"avg_task_slot_utilization\":0.0,\"num_executors\":1,\"avg_num_queued_tasks\":0.0,\"state\":\"CLUSTER_AT_DESIRED_SIZE\",\"optimal_num_executors\":1}}",
         "cluster_resources"
        ],
        [
         "7007d3b0-ade2-11ef-8457-00163e3daa30",
         [
          [
           "execution",
           1732837264208022
          ],
          null
         ],
         [
          "Azure",
          "centralus",
          362282074994262,
          null,
          "6fb47b49-ba9a-465d-8f7c-95f423557b9d",
          "WORKSPACE",
          "farmers market dlt pipeline",
          "1128-233914-fkcnmatm",
          "66dbe11f-96db-4bec-9366-125e631cb906",
          null,
          null,
          null,
          null,
          null,
          null,
          "66dbe11f-96db-4bec-9366-125e631cb906",
          null
         ],
         "2024-11-28T23:42:32.555Z",
         "Reported cluster resources metrics.",
         "METRICS",
         "STABLE",
         null,
         "{\"cluster_resources\":{\"summary_duration_ms\":60000,\"num_task_slots\":4,\"avg_num_task_slots\":3.9996,\"avg_task_slot_utilization\":0.06255,\"num_executors\":1,\"avg_num_queued_tasks\":0.0,\"state\":\"CLUSTER_AT_DESIRED_SIZE\",\"optimal_num_executors\":1}}",
         "cluster_resources"
        ]
       ],
       "datasetInfos": [],
       "dbfsResultPath": null,
       "isJsonSchema": true,
       "metadata": {},
       "overflow": false,
       "plotOptions": {
        "customPlotOptions": {},
        "displayType": "table",
        "pivotAggregation": null,
        "pivotColumns": null,
        "xColumns": null,
        "yColumns": null
       },
       "removedWidgets": [],
       "schema": [
        {
         "metadata": "{}",
         "name": "id",
         "type": "\"string\""
        },
        {
         "metadata": "{}",
         "name": "sequence",
         "type": "{\"type\":\"struct\",\"fields\":[{\"name\":\"data_plane_id\",\"type\":{\"type\":\"struct\",\"fields\":[{\"name\":\"instance\",\"type\":\"string\",\"nullable\":true,\"metadata\":{}},{\"name\":\"seq_no\",\"type\":\"long\",\"nullable\":true,\"metadata\":{}}]},\"nullable\":true,\"metadata\":{}},{\"name\":\"control_plane_seq_no\",\"type\":\"long\",\"nullable\":true,\"metadata\":{}}]}"
        },
        {
         "metadata": "{}",
         "name": "origin",
         "type": "{\"type\":\"struct\",\"fields\":[{\"name\":\"cloud\",\"type\":\"string\",\"nullable\":true,\"metadata\":{}},{\"name\":\"region\",\"type\":\"string\",\"nullable\":true,\"metadata\":{}},{\"name\":\"org_id\",\"type\":\"long\",\"nullable\":true,\"metadata\":{}},{\"name\":\"user_id\",\"type\":\"long\",\"nullable\":true,\"metadata\":{}},{\"name\":\"pipeline_id\",\"type\":\"string\",\"nullable\":true,\"metadata\":{}},{\"name\":\"pipeline_type\",\"type\":\"string\",\"nullable\":true,\"metadata\":{}},{\"name\":\"pipeline_name\",\"type\":\"string\",\"nullable\":true,\"metadata\":{}},{\"name\":\"cluster_id\",\"type\":\"string\",\"nullable\":true,\"metadata\":{}},{\"name\":\"update_id\",\"type\":\"string\",\"nullable\":true,\"metadata\":{}},{\"name\":\"maintenance_id\",\"type\":\"string\",\"nullable\":true,\"metadata\":{}},{\"name\":\"table_id\",\"type\":\"string\",\"nullable\":true,\"metadata\":{}},{\"name\":\"table_name\",\"type\":\"string\",\"nullable\":true,\"metadata\":{}},{\"name\":\"flow_id\",\"type\":\"string\",\"nullable\":true,\"metadata\":{}},{\"name\":\"flow_name\",\"type\":\"string\",\"nullable\":true,\"metadata\":{}},{\"name\":\"batch_id\",\"type\":\"long\",\"nullable\":true,\"metadata\":{}},{\"name\":\"request_id\",\"type\":\"string\",\"nullable\":true,\"metadata\":{}},{\"name\":\"uc_resource_id\",\"type\":\"string\",\"nullable\":true,\"metadata\":{}}]}"
        },
        {
         "metadata": "{}",
         "name": "timestamp",
         "type": "\"timestamp\""
        },
        {
         "metadata": "{}",
         "name": "message",
         "type": "\"string\""
        },
        {
         "metadata": "{}",
         "name": "level",
         "type": "\"string\""
        },
        {
         "metadata": "{}",
         "name": "maturity_level",
         "type": "\"string\""
        },
        {
         "metadata": "{}",
         "name": "error",
         "type": "{\"type\":\"struct\",\"fields\":[{\"name\":\"fatal\",\"type\":\"boolean\",\"nullable\":true,\"metadata\":{}},{\"name\":\"exceptions\",\"type\":{\"type\":\"array\",\"elementType\":{\"type\":\"struct\",\"fields\":[{\"name\":\"class_name\",\"type\":\"string\",\"nullable\":true,\"metadata\":{}},{\"name\":\"message\",\"type\":\"string\",\"nullable\":true,\"metadata\":{}},{\"name\":\"stack\",\"type\":{\"type\":\"array\",\"elementType\":{\"type\":\"struct\",\"fields\":[{\"name\":\"declaring_class\",\"type\":\"string\",\"nullable\":true,\"metadata\":{}},{\"name\":\"method_name\",\"type\":\"string\",\"nullable\":true,\"metadata\":{}},{\"name\":\"file_name\",\"type\":\"string\",\"nullable\":true,\"metadata\":{}},{\"name\":\"line_number\",\"type\":\"long\",\"nullable\":true,\"metadata\":{}}]},\"containsNull\":true},\"nullable\":true,\"metadata\":{}}]},\"containsNull\":true},\"nullable\":true,\"metadata\":{}}]}"
        },
        {
         "metadata": "{}",
         "name": "details",
         "type": "\"string\""
        },
        {
         "metadata": "{}",
         "name": "event_type",
         "type": "\"string\""
        }
       ],
       "type": "table"
      }
     },
     "output_type": "display_data"
    }
   ],
   "source": [
    "df_events.display()"
   ]
  },
  {
   "cell_type": "code",
   "execution_count": 0,
   "metadata": {
    "application/vnd.databricks.v1+cell": {
     "cellMetadata": {
      "byteLimit": 2048000,
      "implicitDf": true,
      "rowLimit": 10000
     },
     "inputWidgets": {},
     "nuid": "3b83c15e-d5b3-4497-ba76-114686d88314",
     "showTitle": false,
     "tableResultSettingsMap": {},
     "title": ""
    }
   },
   "outputs": [
    {
     "output_type": "display_data",
     "data": {
      "text/html": [
       "<style scoped>\n",
       "  .table-result-container {\n",
       "    max-height: 300px;\n",
       "    overflow: auto;\n",
       "  }\n",
       "  table, th, td {\n",
       "    border: 1px solid black;\n",
       "    border-collapse: collapse;\n",
       "  }\n",
       "  th, td {\n",
       "    padding: 5px;\n",
       "  }\n",
       "  th {\n",
       "    text-align: left;\n",
       "  }\n",
       "</style><div class='table-result-container'><table class='table-result'><thead style='background-color: white'><tr><th>id</th><th>timestamp</th><th>flow_name</th><th>num_output_rows</th><th>status</th><th>dropped_records</th><th>expectations</th><th>id</th><th>sequence</th><th>origin</th><th>timestamp</th><th>message</th><th>level</th><th>maturity_level</th><th>error</th><th>details</th><th>event_type</th></tr></thead><tbody><tr><td>5799dc10-ade2-11ef-8457-00163e3daa30</td><td>2024-11-28T23:41:51.569Z</td><td>pipelines.flowTimeMetrics.missingFlowName</td><td>null</td><td>null</td><td>null</td><td>null</td><td>5799dc10-ade2-11ef-8457-00163e3daa30</td><td>List(List(execution, 1732837264208020), null)</td><td>List(Azure, centralus, 362282074994262, null, 6fb47b49-ba9a-465d-8f7c-95f423557b9d, WORKSPACE, farmers market dlt pipeline, 1128-233914-fkcnmatm, 66dbe11f-96db-4bec-9366-125e631cb906, null, null, null, null, pipelines.flowTimeMetrics.missingFlowName, null, 66dbe11f-96db-4bec-9366-125e631cb906, null)</td><td>2024-11-28T23:41:51.569Z</td><td>Reported flow time metrics for flowName: 'pipelines.flowTimeMetrics.missingFlowName'.</td><td>METRICS</td><td>STABLE</td><td>null</td><td>{\"flow_progress\":{\"metrics\":{\"executor_time_ms\":7109,\"executor_cpu_time_ms\":5355}}}</td><td>flow_progress</td></tr><tr><td>57998df0-ade2-11ef-8457-00163e3daa30</td><td>2024-11-28T23:41:51.567Z</td><td>raw_farmers_market</td><td>null</td><td>null</td><td>null</td><td>null</td><td>57998df0-ade2-11ef-8457-00163e3daa30</td><td>List(List(execution, 1732837264208019), null)</td><td>List(Azure, centralus, 362282074994262, null, 6fb47b49-ba9a-465d-8f7c-95f423557b9d, WORKSPACE, farmers market dlt pipeline, 1128-233914-fkcnmatm, 66dbe11f-96db-4bec-9366-125e631cb906, null, null, null, null, raw_farmers_market, null, 66dbe11f-96db-4bec-9366-125e631cb906, null)</td><td>2024-11-28T23:41:51.567Z</td><td>Reported flow time metrics for flowName: 'raw_farmers_market'.</td><td>METRICS</td><td>STABLE</td><td>null</td><td>{\"flow_progress\":{\"metrics\":{\"executor_time_ms\":4338,\"executor_cpu_time_ms\":2667}}}</td><td>flow_progress</td></tr><tr><td>561dc360-ade2-11ef-8457-00163e3daa30</td><td>2024-11-28T23:41:49.078Z</td><td>raw_farmers_market</td><td>null</td><td>COMPLETED</td><td>null</td><td>null</td><td>561dc360-ade2-11ef-8457-00163e3daa30</td><td>List(List(execution, 1732837264208017), null)</td><td>List(Azure, centralus, 362282074994262, null, 6fb47b49-ba9a-465d-8f7c-95f423557b9d, WORKSPACE, farmers market dlt pipeline, 1128-233914-fkcnmatm, 66dbe11f-96db-4bec-9366-125e631cb906, null, null, null, 7de39c70-282e-42de-b730-b2cfe37be8f1, raw_farmers_market, null, 66dbe11f-96db-4bec-9366-125e631cb906, null)</td><td>2024-11-28T23:41:49.078Z</td><td>Flow 'raw_farmers_market' has COMPLETED.</td><td>INFO</td><td>STABLE</td><td>null</td><td>{\"flow_progress\":{\"status\":\"COMPLETED\"}}</td><td>flow_progress</td></tr><tr><td>56142670-ade2-11ef-8457-00163e3daa30</td><td>2024-11-28T23:41:49.015Z</td><td>raw_farmers_market</td><td>8518</td><td>RUNNING</td><td>0</td><td>[{\"name\":\"state_not_null\",\"dataset\":\"raw_farmers_market\",\"passed_records\":8517,\"failed_records\":1},{\"name\":\"website_not_null\",\"dataset\":\"raw_farmers_market\",\"passed_records\":5003,\"failed_records\":3515},{\"name\":\"location_not_null\",\"dataset\":\"raw_farmers_market\",\"passed_records\":3698,\"failed_records\":4820}]</td><td>56142670-ade2-11ef-8457-00163e3daa30</td><td>List(List(execution, 1732837264208016), null)</td><td>List(Azure, centralus, 362282074994262, null, 6fb47b49-ba9a-465d-8f7c-95f423557b9d, WORKSPACE, farmers market dlt pipeline, 1128-233914-fkcnmatm, 66dbe11f-96db-4bec-9366-125e631cb906, null, null, null, 7de39c70-282e-42de-b730-b2cfe37be8f1, raw_farmers_market, null, 66dbe11f-96db-4bec-9366-125e631cb906, null)</td><td>2024-11-28T23:41:49.015Z</td><td>Completed a streaming update of 'raw_farmers_market'.</td><td>INFO</td><td>STABLE</td><td>null</td><td>{\"flow_progress\":{\"status\":\"RUNNING\",\"metrics\":{\"num_output_rows\":8518,\"backlog_bytes\":0,\"backlog_files\":0},\"data_quality\":{\"dropped_records\":0,\"expectations\":[{\"name\":\"state_not_null\",\"dataset\":\"raw_farmers_market\",\"passed_records\":8517,\"failed_records\":1},{\"name\":\"website_not_null\",\"dataset\":\"raw_farmers_market\",\"passed_records\":5003,\"failed_records\":3515},{\"name\":\"location_not_null\",\"dataset\":\"raw_farmers_market\",\"passed_records\":3698,\"failed_records\":4820}]}}}</td><td>flow_progress</td></tr><tr><td>4de82b90-ade2-11ef-8457-00163e3daa30</td><td>2024-11-28T23:41:35.305Z</td><td>raw_farmers_market</td><td>null</td><td>RUNNING</td><td>null</td><td>null</td><td>4de82b90-ade2-11ef-8457-00163e3daa30</td><td>List(List(execution, 1732837264208015), null)</td><td>List(Azure, centralus, 362282074994262, null, 6fb47b49-ba9a-465d-8f7c-95f423557b9d, WORKSPACE, farmers market dlt pipeline, 1128-233914-fkcnmatm, 66dbe11f-96db-4bec-9366-125e631cb906, null, null, null, 7de39c70-282e-42de-b730-b2cfe37be8f1, raw_farmers_market, null, 66dbe11f-96db-4bec-9366-125e631cb906, null)</td><td>2024-11-28T23:41:35.305Z</td><td>Flow 'raw_farmers_market' is RUNNING.</td><td>INFO</td><td>STABLE</td><td>null</td><td>{\"flow_progress\":{\"status\":\"RUNNING\",\"metrics\":{}}}</td><td>flow_progress</td></tr><tr><td>4ccd6cc0-ade2-11ef-8457-00163e3daa30</td><td>2024-11-28T23:41:33.452Z</td><td>raw_farmers_market</td><td>null</td><td>STARTING</td><td>null</td><td>null</td><td>4ccd6cc0-ade2-11ef-8457-00163e3daa30</td><td>List(List(execution, 1732837264208014), null)</td><td>List(Azure, centralus, 362282074994262, null, 6fb47b49-ba9a-465d-8f7c-95f423557b9d, WORKSPACE, farmers market dlt pipeline, 1128-233914-fkcnmatm, 66dbe11f-96db-4bec-9366-125e631cb906, null, null, null, null, raw_farmers_market, null, 66dbe11f-96db-4bec-9366-125e631cb906, null)</td><td>2024-11-28T23:41:33.452Z</td><td>Flow 'raw_farmers_market' is STARTING.</td><td>INFO</td><td>STABLE</td><td>null</td><td>{\"flow_progress\":{\"status\":\"STARTING\"}}</td><td>flow_progress</td></tr><tr><td>4cad61a0-ade2-11ef-8457-00163e3daa30</td><td>2024-11-28T23:41:33.242Z</td><td>raw_farmers_market</td><td>null</td><td>QUEUED</td><td>null</td><td>null</td><td>4cad61a0-ade2-11ef-8457-00163e3daa30</td><td>List(List(execution, 1732837264208013), null)</td><td>List(Azure, centralus, 362282074994262, null, 6fb47b49-ba9a-465d-8f7c-95f423557b9d, WORKSPACE, farmers market dlt pipeline, 1128-233914-fkcnmatm, 66dbe11f-96db-4bec-9366-125e631cb906, null, null, null, null, raw_farmers_market, null, 66dbe11f-96db-4bec-9366-125e631cb906, null)</td><td>2024-11-28T23:41:33.242Z</td><td>Flow 'raw_farmers_market' is QUEUED.</td><td>INFO</td><td>STABLE</td><td>null</td><td>{\"flow_progress\":{\"status\":\"QUEUED\"}}</td><td>flow_progress</td></tr></tbody></table></div>"
      ]
     },
     "metadata": {
      "application/vnd.databricks.v1+output": {
       "addedWidgets": {},
       "aggData": [],
       "aggError": "",
       "aggOverflow": false,
       "aggSchema": [],
       "aggSeriesLimitReached": false,
       "aggType": "",
       "arguments": {},
       "columnCustomDisplayInfos": {},
       "data": [
        [
         "5799dc10-ade2-11ef-8457-00163e3daa30",
         "2024-11-28T23:41:51.569Z",
         "pipelines.flowTimeMetrics.missingFlowName",
         null,
         null,
         null,
         null,
         "5799dc10-ade2-11ef-8457-00163e3daa30",
         [
          [
           "execution",
           1732837264208020
          ],
          null
         ],
         [
          "Azure",
          "centralus",
          362282074994262,
          null,
          "6fb47b49-ba9a-465d-8f7c-95f423557b9d",
          "WORKSPACE",
          "farmers market dlt pipeline",
          "1128-233914-fkcnmatm",
          "66dbe11f-96db-4bec-9366-125e631cb906",
          null,
          null,
          null,
          null,
          "pipelines.flowTimeMetrics.missingFlowName",
          null,
          "66dbe11f-96db-4bec-9366-125e631cb906",
          null
         ],
         "2024-11-28T23:41:51.569Z",
         "Reported flow time metrics for flowName: 'pipelines.flowTimeMetrics.missingFlowName'.",
         "METRICS",
         "STABLE",
         null,
         "{\"flow_progress\":{\"metrics\":{\"executor_time_ms\":7109,\"executor_cpu_time_ms\":5355}}}",
         "flow_progress"
        ],
        [
         "57998df0-ade2-11ef-8457-00163e3daa30",
         "2024-11-28T23:41:51.567Z",
         "raw_farmers_market",
         null,
         null,
         null,
         null,
         "57998df0-ade2-11ef-8457-00163e3daa30",
         [
          [
           "execution",
           1732837264208019
          ],
          null
         ],
         [
          "Azure",
          "centralus",
          362282074994262,
          null,
          "6fb47b49-ba9a-465d-8f7c-95f423557b9d",
          "WORKSPACE",
          "farmers market dlt pipeline",
          "1128-233914-fkcnmatm",
          "66dbe11f-96db-4bec-9366-125e631cb906",
          null,
          null,
          null,
          null,
          "raw_farmers_market",
          null,
          "66dbe11f-96db-4bec-9366-125e631cb906",
          null
         ],
         "2024-11-28T23:41:51.567Z",
         "Reported flow time metrics for flowName: 'raw_farmers_market'.",
         "METRICS",
         "STABLE",
         null,
         "{\"flow_progress\":{\"metrics\":{\"executor_time_ms\":4338,\"executor_cpu_time_ms\":2667}}}",
         "flow_progress"
        ],
        [
         "561dc360-ade2-11ef-8457-00163e3daa30",
         "2024-11-28T23:41:49.078Z",
         "raw_farmers_market",
         null,
         "COMPLETED",
         null,
         null,
         "561dc360-ade2-11ef-8457-00163e3daa30",
         [
          [
           "execution",
           1732837264208017
          ],
          null
         ],
         [
          "Azure",
          "centralus",
          362282074994262,
          null,
          "6fb47b49-ba9a-465d-8f7c-95f423557b9d",
          "WORKSPACE",
          "farmers market dlt pipeline",
          "1128-233914-fkcnmatm",
          "66dbe11f-96db-4bec-9366-125e631cb906",
          null,
          null,
          null,
          "7de39c70-282e-42de-b730-b2cfe37be8f1",
          "raw_farmers_market",
          null,
          "66dbe11f-96db-4bec-9366-125e631cb906",
          null
         ],
         "2024-11-28T23:41:49.078Z",
         "Flow 'raw_farmers_market' has COMPLETED.",
         "INFO",
         "STABLE",
         null,
         "{\"flow_progress\":{\"status\":\"COMPLETED\"}}",
         "flow_progress"
        ],
        [
         "56142670-ade2-11ef-8457-00163e3daa30",
         "2024-11-28T23:41:49.015Z",
         "raw_farmers_market",
         "8518",
         "RUNNING",
         "0",
         "[{\"name\":\"state_not_null\",\"dataset\":\"raw_farmers_market\",\"passed_records\":8517,\"failed_records\":1},{\"name\":\"website_not_null\",\"dataset\":\"raw_farmers_market\",\"passed_records\":5003,\"failed_records\":3515},{\"name\":\"location_not_null\",\"dataset\":\"raw_farmers_market\",\"passed_records\":3698,\"failed_records\":4820}]",
         "56142670-ade2-11ef-8457-00163e3daa30",
         [
          [
           "execution",
           1732837264208016
          ],
          null
         ],
         [
          "Azure",
          "centralus",
          362282074994262,
          null,
          "6fb47b49-ba9a-465d-8f7c-95f423557b9d",
          "WORKSPACE",
          "farmers market dlt pipeline",
          "1128-233914-fkcnmatm",
          "66dbe11f-96db-4bec-9366-125e631cb906",
          null,
          null,
          null,
          "7de39c70-282e-42de-b730-b2cfe37be8f1",
          "raw_farmers_market",
          null,
          "66dbe11f-96db-4bec-9366-125e631cb906",
          null
         ],
         "2024-11-28T23:41:49.015Z",
         "Completed a streaming update of 'raw_farmers_market'.",
         "INFO",
         "STABLE",
         null,
         "{\"flow_progress\":{\"status\":\"RUNNING\",\"metrics\":{\"num_output_rows\":8518,\"backlog_bytes\":0,\"backlog_files\":0},\"data_quality\":{\"dropped_records\":0,\"expectations\":[{\"name\":\"state_not_null\",\"dataset\":\"raw_farmers_market\",\"passed_records\":8517,\"failed_records\":1},{\"name\":\"website_not_null\",\"dataset\":\"raw_farmers_market\",\"passed_records\":5003,\"failed_records\":3515},{\"name\":\"location_not_null\",\"dataset\":\"raw_farmers_market\",\"passed_records\":3698,\"failed_records\":4820}]}}}",
         "flow_progress"
        ],
        [
         "4de82b90-ade2-11ef-8457-00163e3daa30",
         "2024-11-28T23:41:35.305Z",
         "raw_farmers_market",
         null,
         "RUNNING",
         null,
         null,
         "4de82b90-ade2-11ef-8457-00163e3daa30",
         [
          [
           "execution",
           1732837264208015
          ],
          null
         ],
         [
          "Azure",
          "centralus",
          362282074994262,
          null,
          "6fb47b49-ba9a-465d-8f7c-95f423557b9d",
          "WORKSPACE",
          "farmers market dlt pipeline",
          "1128-233914-fkcnmatm",
          "66dbe11f-96db-4bec-9366-125e631cb906",
          null,
          null,
          null,
          "7de39c70-282e-42de-b730-b2cfe37be8f1",
          "raw_farmers_market",
          null,
          "66dbe11f-96db-4bec-9366-125e631cb906",
          null
         ],
         "2024-11-28T23:41:35.305Z",
         "Flow 'raw_farmers_market' is RUNNING.",
         "INFO",
         "STABLE",
         null,
         "{\"flow_progress\":{\"status\":\"RUNNING\",\"metrics\":{}}}",
         "flow_progress"
        ],
        [
         "4ccd6cc0-ade2-11ef-8457-00163e3daa30",
         "2024-11-28T23:41:33.452Z",
         "raw_farmers_market",
         null,
         "STARTING",
         null,
         null,
         "4ccd6cc0-ade2-11ef-8457-00163e3daa30",
         [
          [
           "execution",
           1732837264208014
          ],
          null
         ],
         [
          "Azure",
          "centralus",
          362282074994262,
          null,
          "6fb47b49-ba9a-465d-8f7c-95f423557b9d",
          "WORKSPACE",
          "farmers market dlt pipeline",
          "1128-233914-fkcnmatm",
          "66dbe11f-96db-4bec-9366-125e631cb906",
          null,
          null,
          null,
          null,
          "raw_farmers_market",
          null,
          "66dbe11f-96db-4bec-9366-125e631cb906",
          null
         ],
         "2024-11-28T23:41:33.452Z",
         "Flow 'raw_farmers_market' is STARTING.",
         "INFO",
         "STABLE",
         null,
         "{\"flow_progress\":{\"status\":\"STARTING\"}}",
         "flow_progress"
        ],
        [
         "4cad61a0-ade2-11ef-8457-00163e3daa30",
         "2024-11-28T23:41:33.242Z",
         "raw_farmers_market",
         null,
         "QUEUED",
         null,
         null,
         "4cad61a0-ade2-11ef-8457-00163e3daa30",
         [
          [
           "execution",
           1732837264208013
          ],
          null
         ],
         [
          "Azure",
          "centralus",
          362282074994262,
          null,
          "6fb47b49-ba9a-465d-8f7c-95f423557b9d",
          "WORKSPACE",
          "farmers market dlt pipeline",
          "1128-233914-fkcnmatm",
          "66dbe11f-96db-4bec-9366-125e631cb906",
          null,
          null,
          null,
          null,
          "raw_farmers_market",
          null,
          "66dbe11f-96db-4bec-9366-125e631cb906",
          null
         ],
         "2024-11-28T23:41:33.242Z",
         "Flow 'raw_farmers_market' is QUEUED.",
         "INFO",
         "STABLE",
         null,
         "{\"flow_progress\":{\"status\":\"QUEUED\"}}",
         "flow_progress"
        ]
       ],
       "datasetInfos": [
        {
         "name": "_sqldf",
         "schema": {
          "fields": [
           {
            "metadata": {},
            "name": "id",
            "nullable": true,
            "type": "string"
           },
           {
            "metadata": {},
            "name": "timestamp",
            "nullable": true,
            "type": "timestamp"
           },
           {
            "metadata": {},
            "name": "flow_name",
            "nullable": true,
            "type": "string"
           },
           {
            "metadata": {},
            "name": "num_output_rows",
            "nullable": true,
            "type": "string"
           },
           {
            "metadata": {},
            "name": "status",
            "nullable": true,
            "type": "string"
           },
           {
            "metadata": {},
            "name": "dropped_records",
            "nullable": true,
            "type": "string"
           },
           {
            "metadata": {},
            "name": "expectations",
            "nullable": true,
            "type": "string"
           },
           {
            "metadata": {},
            "name": "id",
            "nullable": true,
            "type": "string"
           },
           {
            "metadata": {},
            "name": "sequence",
            "nullable": true,
            "type": {
             "fields": [
              {
               "metadata": {},
               "name": "data_plane_id",
               "nullable": true,
               "type": {
                "fields": [
                 {
                  "metadata": {},
                  "name": "instance",
                  "nullable": true,
                  "type": "string"
                 },
                 {
                  "metadata": {},
                  "name": "seq_no",
                  "nullable": true,
                  "type": "long"
                 }
                ],
                "type": "struct"
               }
              },
              {
               "metadata": {},
               "name": "control_plane_seq_no",
               "nullable": true,
               "type": "long"
              }
             ],
             "type": "struct"
            }
           },
           {
            "metadata": {},
            "name": "origin",
            "nullable": true,
            "type": {
             "fields": [
              {
               "metadata": {},
               "name": "cloud",
               "nullable": true,
               "type": "string"
              },
              {
               "metadata": {},
               "name": "region",
               "nullable": true,
               "type": "string"
              },
              {
               "metadata": {},
               "name": "org_id",
               "nullable": true,
               "type": "long"
              },
              {
               "metadata": {},
               "name": "user_id",
               "nullable": true,
               "type": "long"
              },
              {
               "metadata": {},
               "name": "pipeline_id",
               "nullable": true,
               "type": "string"
              },
              {
               "metadata": {},
               "name": "pipeline_type",
               "nullable": true,
               "type": "string"
              },
              {
               "metadata": {},
               "name": "pipeline_name",
               "nullable": true,
               "type": "string"
              },
              {
               "metadata": {},
               "name": "cluster_id",
               "nullable": true,
               "type": "string"
              },
              {
               "metadata": {},
               "name": "update_id",
               "nullable": true,
               "type": "string"
              },
              {
               "metadata": {},
               "name": "maintenance_id",
               "nullable": true,
               "type": "string"
              },
              {
               "metadata": {},
               "name": "table_id",
               "nullable": true,
               "type": "string"
              },
              {
               "metadata": {},
               "name": "table_name",
               "nullable": true,
               "type": "string"
              },
              {
               "metadata": {},
               "name": "flow_id",
               "nullable": true,
               "type": "string"
              },
              {
               "metadata": {},
               "name": "flow_name",
               "nullable": true,
               "type": "string"
              },
              {
               "metadata": {},
               "name": "batch_id",
               "nullable": true,
               "type": "long"
              },
              {
               "metadata": {},
               "name": "request_id",
               "nullable": true,
               "type": "string"
              },
              {
               "metadata": {},
               "name": "uc_resource_id",
               "nullable": true,
               "type": "string"
              }
             ],
             "type": "struct"
            }
           },
           {
            "metadata": {},
            "name": "timestamp",
            "nullable": true,
            "type": "timestamp"
           },
           {
            "metadata": {},
            "name": "message",
            "nullable": true,
            "type": "string"
           },
           {
            "metadata": {},
            "name": "level",
            "nullable": true,
            "type": "string"
           },
           {
            "metadata": {},
            "name": "maturity_level",
            "nullable": true,
            "type": "string"
           },
           {
            "metadata": {},
            "name": "error",
            "nullable": true,
            "type": {
             "fields": [
              {
               "metadata": {},
               "name": "fatal",
               "nullable": true,
               "type": "boolean"
              },
              {
               "metadata": {},
               "name": "exceptions",
               "nullable": true,
               "type": {
                "containsNull": true,
                "elementType": {
                 "fields": [
                  {
                   "metadata": {},
                   "name": "class_name",
                   "nullable": true,
                   "type": "string"
                  },
                  {
                   "metadata": {},
                   "name": "message",
                   "nullable": true,
                   "type": "string"
                  },
                  {
                   "metadata": {},
                   "name": "stack",
                   "nullable": true,
                   "type": {
                    "containsNull": true,
                    "elementType": {
                     "fields": [
                      {
                       "metadata": {},
                       "name": "declaring_class",
                       "nullable": true,
                       "type": "string"
                      },
                      {
                       "metadata": {},
                       "name": "method_name",
                       "nullable": true,
                       "type": "string"
                      },
                      {
                       "metadata": {},
                       "name": "file_name",
                       "nullable": true,
                       "type": "string"
                      },
                      {
                       "metadata": {},
                       "name": "line_number",
                       "nullable": true,
                       "type": "long"
                      }
                     ],
                     "type": "struct"
                    },
                    "type": "array"
                   }
                  }
                 ],
                 "type": "struct"
                },
                "type": "array"
               }
              }
             ],
             "type": "struct"
            }
           },
           {
            "metadata": {},
            "name": "details",
            "nullable": true,
            "type": "string"
           },
           {
            "metadata": {},
            "name": "event_type",
            "nullable": true,
            "type": "string"
           }
          ],
          "type": "struct"
         },
         "tableIdentifier": null,
         "typeStr": "pyspark.sql.connect.dataframe.DataFrame"
        }
       ],
       "dbfsResultPath": null,
       "isJsonSchema": true,
       "metadata": {
        "createTempViewForImplicitDf": true,
        "dataframeName": "_sqldf",
        "executionCount": 4
       },
       "overflow": false,
       "plotOptions": {
        "customPlotOptions": {},
        "displayType": "table",
        "pivotAggregation": null,
        "pivotColumns": null,
        "xColumns": null,
        "yColumns": null
       },
       "removedWidgets": [],
       "schema": [
        {
         "metadata": "{}",
         "name": "id",
         "type": "\"string\""
        },
        {
         "metadata": "{}",
         "name": "timestamp",
         "type": "\"timestamp\""
        },
        {
         "metadata": "{}",
         "name": "flow_name",
         "type": "\"string\""
        },
        {
         "metadata": "{}",
         "name": "num_output_rows",
         "type": "\"string\""
        },
        {
         "metadata": "{}",
         "name": "status",
         "type": "\"string\""
        },
        {
         "metadata": "{}",
         "name": "dropped_records",
         "type": "\"string\""
        },
        {
         "metadata": "{}",
         "name": "expectations",
         "type": "\"string\""
        },
        {
         "metadata": "{}",
         "name": "id",
         "type": "\"string\""
        },
        {
         "metadata": "{}",
         "name": "sequence",
         "type": "{\"type\":\"struct\",\"fields\":[{\"name\":\"data_plane_id\",\"type\":{\"type\":\"struct\",\"fields\":[{\"name\":\"instance\",\"type\":\"string\",\"nullable\":true,\"metadata\":{}},{\"name\":\"seq_no\",\"type\":\"long\",\"nullable\":true,\"metadata\":{}}]},\"nullable\":true,\"metadata\":{}},{\"name\":\"control_plane_seq_no\",\"type\":\"long\",\"nullable\":true,\"metadata\":{}}]}"
        },
        {
         "metadata": "{}",
         "name": "origin",
         "type": "{\"type\":\"struct\",\"fields\":[{\"name\":\"cloud\",\"type\":\"string\",\"nullable\":true,\"metadata\":{}},{\"name\":\"region\",\"type\":\"string\",\"nullable\":true,\"metadata\":{}},{\"name\":\"org_id\",\"type\":\"long\",\"nullable\":true,\"metadata\":{}},{\"name\":\"user_id\",\"type\":\"long\",\"nullable\":true,\"metadata\":{}},{\"name\":\"pipeline_id\",\"type\":\"string\",\"nullable\":true,\"metadata\":{}},{\"name\":\"pipeline_type\",\"type\":\"string\",\"nullable\":true,\"metadata\":{}},{\"name\":\"pipeline_name\",\"type\":\"string\",\"nullable\":true,\"metadata\":{}},{\"name\":\"cluster_id\",\"type\":\"string\",\"nullable\":true,\"metadata\":{}},{\"name\":\"update_id\",\"type\":\"string\",\"nullable\":true,\"metadata\":{}},{\"name\":\"maintenance_id\",\"type\":\"string\",\"nullable\":true,\"metadata\":{}},{\"name\":\"table_id\",\"type\":\"string\",\"nullable\":true,\"metadata\":{}},{\"name\":\"table_name\",\"type\":\"string\",\"nullable\":true,\"metadata\":{}},{\"name\":\"flow_id\",\"type\":\"string\",\"nullable\":true,\"metadata\":{}},{\"name\":\"flow_name\",\"type\":\"string\",\"nullable\":true,\"metadata\":{}},{\"name\":\"batch_id\",\"type\":\"long\",\"nullable\":true,\"metadata\":{}},{\"name\":\"request_id\",\"type\":\"string\",\"nullable\":true,\"metadata\":{}},{\"name\":\"uc_resource_id\",\"type\":\"string\",\"nullable\":true,\"metadata\":{}}]}"
        },
        {
         "metadata": "{}",
         "name": "timestamp",
         "type": "\"timestamp\""
        },
        {
         "metadata": "{}",
         "name": "message",
         "type": "\"string\""
        },
        {
         "metadata": "{}",
         "name": "level",
         "type": "\"string\""
        },
        {
         "metadata": "{}",
         "name": "maturity_level",
         "type": "\"string\""
        },
        {
         "metadata": "{}",
         "name": "error",
         "type": "{\"type\":\"struct\",\"fields\":[{\"name\":\"fatal\",\"type\":\"boolean\",\"nullable\":true,\"metadata\":{}},{\"name\":\"exceptions\",\"type\":{\"type\":\"array\",\"elementType\":{\"type\":\"struct\",\"fields\":[{\"name\":\"class_name\",\"type\":\"string\",\"nullable\":true,\"metadata\":{}},{\"name\":\"message\",\"type\":\"string\",\"nullable\":true,\"metadata\":{}},{\"name\":\"stack\",\"type\":{\"type\":\"array\",\"elementType\":{\"type\":\"struct\",\"fields\":[{\"name\":\"declaring_class\",\"type\":\"string\",\"nullable\":true,\"metadata\":{}},{\"name\":\"method_name\",\"type\":\"string\",\"nullable\":true,\"metadata\":{}},{\"name\":\"file_name\",\"type\":\"string\",\"nullable\":true,\"metadata\":{}},{\"name\":\"line_number\",\"type\":\"long\",\"nullable\":true,\"metadata\":{}}]},\"containsNull\":true},\"nullable\":true,\"metadata\":{}}]},\"containsNull\":true},\"nullable\":true,\"metadata\":{}}]}"
        },
        {
         "metadata": "{}",
         "name": "details",
         "type": "\"string\""
        },
        {
         "metadata": "{}",
         "name": "event_type",
         "type": "\"string\""
        }
       ],
       "type": "table"
      }
     },
     "output_type": "display_data"
    }
   ],
   "source": [
    "%sql\n",
    "--select * from event_log_raw;\n",
    "\n",
    "SELECT id, `timestamp`, origin.flow_name, details:flow_progress.metrics.num_output_rows, details:flow_progress.status, details:flow_progress.data_quality.dropped_records, details:flow_progress.data_quality.expectations, * FROM event_log_raw WHERE event_type = 'flow_progress' ORDER BY timestamp DESC;"
   ]
  },
  {
   "cell_type": "code",
   "execution_count": 0,
   "metadata": {
    "application/vnd.databricks.v1+cell": {
     "cellMetadata": {
      "byteLimit": 2048000,
      "rowLimit": 10000
     },
     "inputWidgets": {},
     "nuid": "7de9d3ec-d45c-401d-935c-159f19ceb7e8",
     "showTitle": false,
     "tableResultSettingsMap": {},
     "title": ""
    }
   },
   "outputs": [
    {
     "output_type": "display_data",
     "data": {
      "text/html": [
       "<style scoped>\n",
       "  .table-result-container {\n",
       "    max-height: 300px;\n",
       "    overflow: auto;\n",
       "  }\n",
       "  table, th, td {\n",
       "    border: 1px solid black;\n",
       "    border-collapse: collapse;\n",
       "  }\n",
       "  th, td {\n",
       "    padding: 5px;\n",
       "  }\n",
       "  th {\n",
       "    text-align: left;\n",
       "  }\n",
       "</style><div class='table-result-container'><table class='table-result'><thead style='background-color: white'><tr><th>id</th><th>timestamp</th><th>flow_name</th><th>num_output_rows</th><th>status</th><th>dropped_records</th><th>expectations</th><th>id</th><th>sequence</th><th>origin</th><th>timestamp</th><th>message</th><th>level</th><th>maturity_level</th><th>error</th><th>details</th><th>event_type</th></tr></thead><tbody><tr><td>561dc360-ade2-11ef-8457-00163e3daa30</td><td>2024-11-28T23:41:49.078Z</td><td>raw_farmers_market</td><td>null</td><td>COMPLETED</td><td>null</td><td>null</td><td>561dc360-ade2-11ef-8457-00163e3daa30</td><td>List(List(execution, 1732837264208017), null)</td><td>List(Azure, centralus, 362282074994262, null, 6fb47b49-ba9a-465d-8f7c-95f423557b9d, WORKSPACE, farmers market dlt pipeline, 1128-233914-fkcnmatm, 66dbe11f-96db-4bec-9366-125e631cb906, null, null, null, 7de39c70-282e-42de-b730-b2cfe37be8f1, raw_farmers_market, null, 66dbe11f-96db-4bec-9366-125e631cb906, null)</td><td>2024-11-28T23:41:49.078Z</td><td>Flow 'raw_farmers_market' has COMPLETED.</td><td>INFO</td><td>STABLE</td><td>null</td><td>{\"flow_progress\":{\"status\":\"COMPLETED\"}}</td><td>flow_progress</td></tr></tbody></table></div>"
      ]
     },
     "metadata": {
      "application/vnd.databricks.v1+output": {
       "addedWidgets": {},
       "aggData": [],
       "aggError": "",
       "aggOverflow": false,
       "aggSchema": [],
       "aggSeriesLimitReached": false,
       "aggType": "",
       "arguments": {},
       "columnCustomDisplayInfos": {},
       "data": [
        [
         "561dc360-ade2-11ef-8457-00163e3daa30",
         "2024-11-28T23:41:49.078Z",
         "raw_farmers_market",
         null,
         "COMPLETED",
         null,
         null,
         "561dc360-ade2-11ef-8457-00163e3daa30",
         [
          [
           "execution",
           1732837264208017
          ],
          null
         ],
         [
          "Azure",
          "centralus",
          362282074994262,
          null,
          "6fb47b49-ba9a-465d-8f7c-95f423557b9d",
          "WORKSPACE",
          "farmers market dlt pipeline",
          "1128-233914-fkcnmatm",
          "66dbe11f-96db-4bec-9366-125e631cb906",
          null,
          null,
          null,
          "7de39c70-282e-42de-b730-b2cfe37be8f1",
          "raw_farmers_market",
          null,
          "66dbe11f-96db-4bec-9366-125e631cb906",
          null
         ],
         "2024-11-28T23:41:49.078Z",
         "Flow 'raw_farmers_market' has COMPLETED.",
         "INFO",
         "STABLE",
         null,
         "{\"flow_progress\":{\"status\":\"COMPLETED\"}}",
         "flow_progress"
        ]
       ],
       "datasetInfos": [],
       "dbfsResultPath": null,
       "isJsonSchema": true,
       "metadata": {},
       "overflow": false,
       "plotOptions": {
        "customPlotOptions": {},
        "displayType": "table",
        "pivotAggregation": null,
        "pivotColumns": null,
        "xColumns": null,
        "yColumns": null
       },
       "removedWidgets": [],
       "schema": [
        {
         "metadata": "{}",
         "name": "id",
         "type": "\"string\""
        },
        {
         "metadata": "{}",
         "name": "timestamp",
         "type": "\"timestamp\""
        },
        {
         "metadata": "{}",
         "name": "flow_name",
         "type": "\"string\""
        },
        {
         "metadata": "{}",
         "name": "num_output_rows",
         "type": "\"string\""
        },
        {
         "metadata": "{}",
         "name": "status",
         "type": "\"string\""
        },
        {
         "metadata": "{}",
         "name": "dropped_records",
         "type": "\"string\""
        },
        {
         "metadata": "{}",
         "name": "expectations",
         "type": "\"string\""
        },
        {
         "metadata": "{}",
         "name": "id",
         "type": "\"string\""
        },
        {
         "metadata": "{}",
         "name": "sequence",
         "type": "{\"type\":\"struct\",\"fields\":[{\"name\":\"data_plane_id\",\"type\":{\"type\":\"struct\",\"fields\":[{\"name\":\"instance\",\"type\":\"string\",\"nullable\":true,\"metadata\":{}},{\"name\":\"seq_no\",\"type\":\"long\",\"nullable\":true,\"metadata\":{}}]},\"nullable\":true,\"metadata\":{}},{\"name\":\"control_plane_seq_no\",\"type\":\"long\",\"nullable\":true,\"metadata\":{}}]}"
        },
        {
         "metadata": "{}",
         "name": "origin",
         "type": "{\"type\":\"struct\",\"fields\":[{\"name\":\"cloud\",\"type\":\"string\",\"nullable\":true,\"metadata\":{}},{\"name\":\"region\",\"type\":\"string\",\"nullable\":true,\"metadata\":{}},{\"name\":\"org_id\",\"type\":\"long\",\"nullable\":true,\"metadata\":{}},{\"name\":\"user_id\",\"type\":\"long\",\"nullable\":true,\"metadata\":{}},{\"name\":\"pipeline_id\",\"type\":\"string\",\"nullable\":true,\"metadata\":{}},{\"name\":\"pipeline_type\",\"type\":\"string\",\"nullable\":true,\"metadata\":{}},{\"name\":\"pipeline_name\",\"type\":\"string\",\"nullable\":true,\"metadata\":{}},{\"name\":\"cluster_id\",\"type\":\"string\",\"nullable\":true,\"metadata\":{}},{\"name\":\"update_id\",\"type\":\"string\",\"nullable\":true,\"metadata\":{}},{\"name\":\"maintenance_id\",\"type\":\"string\",\"nullable\":true,\"metadata\":{}},{\"name\":\"table_id\",\"type\":\"string\",\"nullable\":true,\"metadata\":{}},{\"name\":\"table_name\",\"type\":\"string\",\"nullable\":true,\"metadata\":{}},{\"name\":\"flow_id\",\"type\":\"string\",\"nullable\":true,\"metadata\":{}},{\"name\":\"flow_name\",\"type\":\"string\",\"nullable\":true,\"metadata\":{}},{\"name\":\"batch_id\",\"type\":\"long\",\"nullable\":true,\"metadata\":{}},{\"name\":\"request_id\",\"type\":\"string\",\"nullable\":true,\"metadata\":{}},{\"name\":\"uc_resource_id\",\"type\":\"string\",\"nullable\":true,\"metadata\":{}}]}"
        },
        {
         "metadata": "{}",
         "name": "timestamp",
         "type": "\"timestamp\""
        },
        {
         "metadata": "{}",
         "name": "message",
         "type": "\"string\""
        },
        {
         "metadata": "{}",
         "name": "level",
         "type": "\"string\""
        },
        {
         "metadata": "{}",
         "name": "maturity_level",
         "type": "\"string\""
        },
        {
         "metadata": "{}",
         "name": "error",
         "type": "{\"type\":\"struct\",\"fields\":[{\"name\":\"fatal\",\"type\":\"boolean\",\"nullable\":true,\"metadata\":{}},{\"name\":\"exceptions\",\"type\":{\"type\":\"array\",\"elementType\":{\"type\":\"struct\",\"fields\":[{\"name\":\"class_name\",\"type\":\"string\",\"nullable\":true,\"metadata\":{}},{\"name\":\"message\",\"type\":\"string\",\"nullable\":true,\"metadata\":{}},{\"name\":\"stack\",\"type\":{\"type\":\"array\",\"elementType\":{\"type\":\"struct\",\"fields\":[{\"name\":\"declaring_class\",\"type\":\"string\",\"nullable\":true,\"metadata\":{}},{\"name\":\"method_name\",\"type\":\"string\",\"nullable\":true,\"metadata\":{}},{\"name\":\"file_name\",\"type\":\"string\",\"nullable\":true,\"metadata\":{}},{\"name\":\"line_number\",\"type\":\"long\",\"nullable\":true,\"metadata\":{}}]},\"containsNull\":true},\"nullable\":true,\"metadata\":{}}]},\"containsNull\":true},\"nullable\":true,\"metadata\":{}}]}"
        },
        {
         "metadata": "{}",
         "name": "details",
         "type": "\"string\""
        },
        {
         "metadata": "{}",
         "name": "event_type",
         "type": "\"string\""
        }
       ],
       "type": "table"
      }
     },
     "output_type": "display_data"
    }
   ],
   "source": [
    "df_events.selectExpr(\n",
    "    \"id\",\n",
    "    \"timestamp\",\n",
    "    \"origin.flow_name\",\n",
    "    \"details:flow_progress.metrics.num_output_rows\",\n",
    "    \"details:flow_progress.status\",\n",
    "    \"details:flow_progress.data_quality.dropped_records\",\n",
    "    \"details:flow_progress.data_quality.expectations\",\n",
    "    \"*\",\n",
    ").filter(\"event_type = 'flow_progress' and details:flow_progress.status = 'COMPLETED'\").display()"
   ]
  },
  {
   "cell_type": "code",
   "execution_count": 0,
   "metadata": {
    "application/vnd.databricks.v1+cell": {
     "cellMetadata": {
      "byteLimit": 2048000,
      "rowLimit": 10000
     },
     "inputWidgets": {},
     "nuid": "0d4a6dca-f520-4cfd-826c-b0ca80a4b620",
     "showTitle": false,
     "tableResultSettingsMap": {},
     "title": ""
    }
   },
   "outputs": [
    {
     "output_type": "display_data",
     "data": {
      "text/html": [
       "<style scoped>\n",
       "  .table-result-container {\n",
       "    max-height: 300px;\n",
       "    overflow: auto;\n",
       "  }\n",
       "  table, th, td {\n",
       "    border: 1px solid black;\n",
       "    border-collapse: collapse;\n",
       "  }\n",
       "  th, td {\n",
       "    padding: 5px;\n",
       "  }\n",
       "  th {\n",
       "    text-align: left;\n",
       "  }\n",
       "</style><div class='table-result-container'><table class='table-result'><thead style='background-color: white'><tr><th>id</th><th>expectations</th></tr></thead><tbody><tr><td>4de82b90-ade2-11ef-8457-00163e3daa30</td><td>null</td></tr><tr><td>56142670-ade2-11ef-8457-00163e3daa30</td><td>[{\"name\":\"state_not_null\",\"dataset\":\"raw_farmers_market\",\"passed_records\":8517,\"failed_records\":1},{\"name\":\"website_not_null\",\"dataset\":\"raw_farmers_market\",\"passed_records\":5003,\"failed_records\":3515},{\"name\":\"location_not_null\",\"dataset\":\"raw_farmers_market\",\"passed_records\":3698,\"failed_records\":4820}]</td></tr></tbody></table></div>"
      ]
     },
     "metadata": {
      "application/vnd.databricks.v1+output": {
       "addedWidgets": {},
       "aggData": [],
       "aggError": "",
       "aggOverflow": false,
       "aggSchema": [],
       "aggSeriesLimitReached": false,
       "aggType": "",
       "arguments": {},
       "columnCustomDisplayInfos": {},
       "data": [
        [
         "4de82b90-ade2-11ef-8457-00163e3daa30",
         null
        ],
        [
         "56142670-ade2-11ef-8457-00163e3daa30",
         "[{\"name\":\"state_not_null\",\"dataset\":\"raw_farmers_market\",\"passed_records\":8517,\"failed_records\":1},{\"name\":\"website_not_null\",\"dataset\":\"raw_farmers_market\",\"passed_records\":5003,\"failed_records\":3515},{\"name\":\"location_not_null\",\"dataset\":\"raw_farmers_market\",\"passed_records\":3698,\"failed_records\":4820}]"
        ]
       ],
       "datasetInfos": [],
       "dbfsResultPath": null,
       "isJsonSchema": true,
       "metadata": {},
       "overflow": false,
       "plotOptions": {
        "customPlotOptions": {},
        "displayType": "table",
        "pivotAggregation": null,
        "pivotColumns": null,
        "xColumns": null,
        "yColumns": null
       },
       "removedWidgets": [],
       "schema": [
        {
         "metadata": "{}",
         "name": "id",
         "type": "\"string\""
        },
        {
         "metadata": "{}",
         "name": "expectations",
         "type": "\"string\""
        }
       ],
       "type": "table"
      }
     },
     "output_type": "display_data"
    }
   ],
   "source": [
    "df_expectations = df_events.selectExpr(\"id\", \"details:flow_progress.data_quality.expectations\").filter(\"event_type = 'flow_progress' and details:flow_progress.status = 'RUNNING'\")\n",
    "\n",
    "df_expectations.display()"
   ]
  },
  {
   "cell_type": "code",
   "execution_count": 0,
   "metadata": {
    "application/vnd.databricks.v1+cell": {
     "cellMetadata": {
      "byteLimit": 2048000,
      "rowLimit": 10000
     },
     "inputWidgets": {},
     "nuid": "afe2ff1d-2ccc-4308-94ed-4d75fe4f41a4",
     "showTitle": false,
     "tableResultSettingsMap": {},
     "title": ""
    }
   },
   "outputs": [
    {
     "output_type": "display_data",
     "data": {
      "text/html": [
       "<style scoped>\n",
       "  .table-result-container {\n",
       "    max-height: 300px;\n",
       "    overflow: auto;\n",
       "  }\n",
       "  table, th, td {\n",
       "    border: 1px solid black;\n",
       "    border-collapse: collapse;\n",
       "  }\n",
       "  th, td {\n",
       "    padding: 5px;\n",
       "  }\n",
       "  th {\n",
       "    text-align: left;\n",
       "  }\n",
       "</style><div class='table-result-container'><table class='table-result'><thead style='background-color: white'><tr><th>id</th><th>name</th><th>dataset</th><th>passed_records</th><th>failed_records</th></tr></thead><tbody><tr><td>56142670-ade2-11ef-8457-00163e3daa30</td><td>state_not_null</td><td>raw_farmers_market</td><td>8517</td><td>1</td></tr><tr><td>56142670-ade2-11ef-8457-00163e3daa30</td><td>website_not_null</td><td>raw_farmers_market</td><td>5003</td><td>3515</td></tr><tr><td>56142670-ade2-11ef-8457-00163e3daa30</td><td>location_not_null</td><td>raw_farmers_market</td><td>3698</td><td>4820</td></tr></tbody></table></div>"
      ]
     },
     "metadata": {
      "application/vnd.databricks.v1+output": {
       "addedWidgets": {},
       "aggData": [],
       "aggError": "",
       "aggOverflow": false,
       "aggSchema": [],
       "aggSeriesLimitReached": false,
       "aggType": "",
       "arguments": {},
       "columnCustomDisplayInfos": {},
       "data": [
        [
         "56142670-ade2-11ef-8457-00163e3daa30",
         "state_not_null",
         "raw_farmers_market",
         8517,
         1
        ],
        [
         "56142670-ade2-11ef-8457-00163e3daa30",
         "website_not_null",
         "raw_farmers_market",
         5003,
         3515
        ],
        [
         "56142670-ade2-11ef-8457-00163e3daa30",
         "location_not_null",
         "raw_farmers_market",
         3698,
         4820
        ]
       ],
       "datasetInfos": [],
       "dbfsResultPath": null,
       "isJsonSchema": true,
       "metadata": {},
       "overflow": false,
       "plotOptions": {
        "customPlotOptions": {},
        "displayType": "table",
        "pivotAggregation": null,
        "pivotColumns": null,
        "xColumns": null,
        "yColumns": null
       },
       "removedWidgets": [],
       "schema": [
        {
         "metadata": "{}",
         "name": "id",
         "type": "\"string\""
        },
        {
         "metadata": "{}",
         "name": "name",
         "type": "\"string\""
        },
        {
         "metadata": "{}",
         "name": "dataset",
         "type": "\"string\""
        },
        {
         "metadata": "{}",
         "name": "passed_records",
         "type": "\"integer\""
        },
        {
         "metadata": "{}",
         "name": "failed_records",
         "type": "\"integer\""
        }
       ],
       "type": "table"
      }
     },
     "output_type": "display_data"
    }
   ],
   "source": [
    "from pyspark.sql.types import (\n",
    "    ArrayType,\n",
    "    StructType,\n",
    "    StructField,\n",
    "    StringType,\n",
    "    IntegerType,\n",
    ")\n",
    "from pyspark.sql.functions import explode, from_json\n",
    "\n",
    "schema = ArrayType(\n",
    "    StructType(\n",
    "        [\n",
    "            StructField(\"name\", StringType()),\n",
    "            StructField(\"dataset\", StringType()),\n",
    "            StructField(\"passed_records\", IntegerType()),\n",
    "            StructField(\"failed_records\", IntegerType()),\n",
    "        ]\n",
    "    )\n",
    ")\n",
    "\n",
    "df_expectations = df_expectations.withColumn(\"expectations\", explode(from_json(df_expectations.expectations, schema)))\n",
    "df_expectations = df_expectations.selectExpr(\"id\", \"expectations.name\",  \"expectations.dataset\", \"expectations.passed_records\", \"expectations.failed_records\")\n",
    "\n",
    "df_expectations.display()"
   ]
  },
  {
   "cell_type": "markdown",
   "metadata": {
    "application/vnd.databricks.v1+cell": {
     "cellMetadata": {
      "byteLimit": 2048000,
      "rowLimit": 10000
     },
     "inputWidgets": {},
     "nuid": "85bb1a93-a001-47b8-a973-e8d6f7497878",
     "showTitle": false,
     "tableResultSettingsMap": {},
     "title": ""
    }
   },
   "source": [
    "### Explorations"
   ]
  },
  {
   "cell_type": "code",
   "execution_count": 0,
   "metadata": {
    "application/vnd.databricks.v1+cell": {
     "cellMetadata": {
      "byteLimit": 2048000,
      "implicitDf": true,
      "rowLimit": 10000
     },
     "inputWidgets": {},
     "nuid": "6fc8ec0a-5039-408c-8a92-4b4d7af24a53",
     "showTitle": false,
     "tableResultSettingsMap": {},
     "title": ""
    }
   },
   "outputs": [
    {
     "output_type": "display_data",
     "data": {
      "text/html": [
       "<style scoped>\n",
       "  .table-result-container {\n",
       "    max-height: 300px;\n",
       "    overflow: auto;\n",
       "  }\n",
       "  table, th, td {\n",
       "    border: 1px solid black;\n",
       "    border-collapse: collapse;\n",
       "  }\n",
       "  th, td {\n",
       "    padding: 5px;\n",
       "  }\n",
       "  th {\n",
       "    text-align: left;\n",
       "  }\n",
       "</style><div class='table-result-container'><table class='table-result'><thead style='background-color: white'><tr></tr></thead><tbody></tbody></table></div>"
      ]
     },
     "metadata": {
      "application/vnd.databricks.v1+output": {
       "addedWidgets": {},
       "aggData": [],
       "aggError": "",
       "aggOverflow": false,
       "aggSchema": [],
       "aggSeriesLimitReached": false,
       "aggType": "",
       "arguments": {},
       "columnCustomDisplayInfos": {},
       "data": [],
       "datasetInfos": [],
       "dbfsResultPath": null,
       "isJsonSchema": true,
       "metadata": {},
       "overflow": false,
       "plotOptions": {
        "customPlotOptions": {},
        "displayType": "table",
        "pivotAggregation": null,
        "pivotColumns": null,
        "xColumns": null,
        "yColumns": null
       },
       "removedWidgets": [],
       "schema": [],
       "type": "table"
      }
     },
     "output_type": "display_data"
    }
   ],
   "source": [
    "spark.sql(\"\"\"\n",
    "CREATE OR REPLACE TEMP VIEW latest_update AS SELECT origin.update_id AS id FROM event_log_raw WHERE event_type = 'create_update' ORDER BY timestamp DESC LIMIT 1;\n",
    "\"\"\").display()"
   ]
  },
  {
   "cell_type": "code",
   "execution_count": 0,
   "metadata": {
    "application/vnd.databricks.v1+cell": {
     "cellMetadata": {
      "byteLimit": 2048000,
      "rowLimit": 10000
     },
     "inputWidgets": {},
     "nuid": "bc8977eb-7fce-461d-8443-ac82530fa148",
     "showTitle": false,
     "tableResultSettingsMap": {},
     "title": ""
    }
   },
   "outputs": [
    {
     "output_type": "display_data",
     "data": {
      "text/html": [
       "<style scoped>\n",
       "  .table-result-container {\n",
       "    max-height: 300px;\n",
       "    overflow: auto;\n",
       "  }\n",
       "  table, th, td {\n",
       "    border: 1px solid black;\n",
       "    border-collapse: collapse;\n",
       "  }\n",
       "  th, td {\n",
       "    padding: 5px;\n",
       "  }\n",
       "  th {\n",
       "    text-align: left;\n",
       "  }\n",
       "</style><div class='table-result-container'><table class='table-result'><thead style='background-color: white'><tr><th>id</th></tr></thead><tbody><tr><td>66dbe11f-96db-4bec-9366-125e631cb906</td></tr></tbody></table></div>"
      ]
     },
     "metadata": {
      "application/vnd.databricks.v1+output": {
       "addedWidgets": {},
       "aggData": [],
       "aggError": "",
       "aggOverflow": false,
       "aggSchema": [],
       "aggSeriesLimitReached": false,
       "aggType": "",
       "arguments": {},
       "columnCustomDisplayInfos": {},
       "data": [
        [
         "66dbe11f-96db-4bec-9366-125e631cb906"
        ]
       ],
       "datasetInfos": [],
       "dbfsResultPath": null,
       "isJsonSchema": true,
       "metadata": {},
       "overflow": false,
       "plotOptions": {
        "customPlotOptions": {},
        "displayType": "table",
        "pivotAggregation": null,
        "pivotColumns": null,
        "xColumns": null,
        "yColumns": null
       },
       "removedWidgets": [],
       "schema": [
        {
         "metadata": "{}",
         "name": "id",
         "type": "\"string\""
        }
       ],
       "type": "table"
      }
     },
     "output_type": "display_data"
    }
   ],
   "source": [
    "spark.sql(\"\"\"\n",
    "          select * from latest_update;\n",
    "          \"\"\").display()"
   ]
  },
  {
   "cell_type": "code",
   "execution_count": 0,
   "metadata": {
    "application/vnd.databricks.v1+cell": {
     "cellMetadata": {
      "byteLimit": 2048000,
      "implicitDf": true,
      "rowLimit": 10000
     },
     "inputWidgets": {},
     "nuid": "52b9bf28-546c-499c-831d-c6cacf256e3b",
     "showTitle": false,
     "tableResultSettingsMap": {},
     "title": ""
    }
   },
   "outputs": [
    {
     "output_type": "display_data",
     "data": {
      "text/html": [
       "<style scoped>\n",
       "  .table-result-container {\n",
       "    max-height: 300px;\n",
       "    overflow: auto;\n",
       "  }\n",
       "  table, th, td {\n",
       "    border: 1px solid black;\n",
       "    border-collapse: collapse;\n",
       "  }\n",
       "  th, td {\n",
       "    padding: 5px;\n",
       "  }\n",
       "  th {\n",
       "    text-align: left;\n",
       "  }\n",
       "</style><div class='table-result-container'><table class='table-result'><thead style='background-color: white'><tr><th>dataset</th><th>expectation</th><th>passing_records</th><th>failing_records</th></tr></thead><tbody><tr><td>raw_farmers_market</td><td>location_not_null</td><td>3698</td><td>4820</td></tr><tr><td>raw_farmers_market</td><td>website_not_null</td><td>5003</td><td>3515</td></tr><tr><td>raw_farmers_market</td><td>state_not_null</td><td>8517</td><td>1</td></tr></tbody></table></div>"
      ]
     },
     "metadata": {
      "application/vnd.databricks.v1+output": {
       "addedWidgets": {},
       "aggData": [],
       "aggError": "",
       "aggOverflow": false,
       "aggSchema": [],
       "aggSeriesLimitReached": false,
       "aggType": "",
       "arguments": {},
       "columnCustomDisplayInfos": {},
       "data": [
        [
         "raw_farmers_market",
         "location_not_null",
         3698,
         4820
        ],
        [
         "raw_farmers_market",
         "website_not_null",
         5003,
         3515
        ],
        [
         "raw_farmers_market",
         "state_not_null",
         8517,
         1
        ]
       ],
       "datasetInfos": [],
       "dbfsResultPath": null,
       "isJsonSchema": true,
       "metadata": {},
       "overflow": false,
       "plotOptions": {
        "customPlotOptions": {},
        "displayType": "table",
        "pivotAggregation": null,
        "pivotColumns": null,
        "xColumns": null,
        "yColumns": null
       },
       "removedWidgets": [],
       "schema": [
        {
         "metadata": "{}",
         "name": "dataset",
         "type": "\"string\""
        },
        {
         "metadata": "{}",
         "name": "expectation",
         "type": "\"string\""
        },
        {
         "metadata": "{}",
         "name": "passing_records",
         "type": "\"long\""
        },
        {
         "metadata": "{}",
         "name": "failing_records",
         "type": "\"long\""
        }
       ],
       "type": "table"
      }
     },
     "output_type": "display_data"
    }
   ],
   "source": [
    "df = spark.sql(\"\"\"\n",
    "SELECT\n",
    "  row_expectations.dataset as dataset,\n",
    "  row_expectations.name as expectation,\n",
    "  SUM(row_expectations.passed_records) as passing_records,\n",
    "  SUM(row_expectations.failed_records) as failing_records\n",
    "FROM\n",
    "  (\n",
    "    SELECT\n",
    "      explode(\n",
    "        from_json(\n",
    "          details :flow_progress.data_quality.expectations,\n",
    "          \"array<struct<name: string, dataset: string, passed_records: int, failed_records: int>>\"\n",
    "        )\n",
    "      ) row_expectations\n",
    "    FROM\n",
    "      event_log_raw,\n",
    "      latest_update\n",
    "    WHERE\n",
    "      event_type = 'flow_progress'\n",
    "      AND origin.update_id = latest_update.id\n",
    "  )\n",
    "GROUP BY\n",
    "  row_expectations.dataset,\n",
    "  row_expectations.name\n",
    "  \"\"\")\n",
    "\n",
    "# # Write the DataFrame to a Unity Catalog table\n",
    "# df.write.format(\"delta\").saveAsTable(\"dlt_catalog.dlt_schema.quality_metrics\")\n",
    "\n",
    "display(df)"
   ]
  }
 ],
 "metadata": {
  "application/vnd.databricks.v1+notebook": {
   "dashboards": [],
   "environmentMetadata": {
    "base_environment": "",
    "client": "1"
   },
   "language": "python",
   "notebookMetadata": {
    "mostRecentlyExecutedCommandWithImplicitDF": {
     "commandId": 3140012656321377,
     "dataframes": [
      "_sqldf"
     ]
    },
    "pythonIndentUnit": 4
   },
   "notebookName": "query_expectations_events",
   "widgets": {}
  },
  "language_info": {
   "name": "python"
  }
 },
 "nbformat": 4,
 "nbformat_minor": 0
}
