{
 "cells": [
  {
   "cell_type": "code",
   "execution_count": 0,
   "metadata": {
    "application/vnd.databricks.v1+cell": {
     "cellMetadata": {},
     "inputWidgets": {},
     "nuid": "63bbfb29-7c66-4a2d-9c4f-f53e5ba60216",
     "showTitle": false,
     "title": ""
    }
   },
   "outputs": [],
   "source": [
    "# UC enabled dlt bronze ingestion\n",
    "@dlt.table(table_properties={\"quality\": \"bronze\"})\n",
    "def table_name():\n",
    "  return (\n",
    "     spark.readStream.format(\"cloudFiles\")\n",
    "     .option(\"cloudFiles.format\", \"json\")\n",
    "     .load(f\"{path_to_uc_external_location}\")\n",
    " )\n",
    "\n",
    "# Load files from cloud object storage\n",
    "\n",
    "@dlt.table\n",
    "def customers():\n",
    "  return (\n",
    "    spark.readStream.format(\"cloudFiles\")\n",
    "      .option(\"cloudFiles.format\", \"csv\")\n",
    "      .load(\"/databricks-datasets/retail-org/customers/\")\n",
    "  )\n",
    "\n",
    "@dlt.table\n",
    "def sales_orders_raw():\n",
    "  return (\n",
    "    spark.readStream.format(\"cloudFiles\")\n",
    "      .option(\"cloudFiles.format\", \"json\")\n",
    "      .load(\"/databricks-datasets/retail-org/sales_orders/\")\n",
    "  )\n",
    "\n",
    "# Transform data when reading into silver from streaming bronze layer\n",
    "\n",
    "@dlt.table\n",
    "def streaming_bronze():\n",
    "  return (\n",
    "    # Since this is a streaming source, this table is incremental.\n",
    "    spark.readStream.format(\"cloudFiles\")\n",
    "      .option(\"cloudFiles.format\", \"json\")\n",
    "      .load(\"abfss://path/to/raw/data\")\n",
    "  )\n",
    "\n",
    "@dlt.table\n",
    "def streaming_silver():\n",
    "  # Since we read the bronze table as a stream, this silver table is also\n",
    "  # updated incrementally.\n",
    "  return dlt.read_stream(\"streaming_bronze\").where(...)\n",
    "\n",
    "@dlt.table\n",
    "def live_gold():\n",
    "  # This table will be recomputed completely by reading the whole silver table\n",
    "  # when it is updated.\n",
    "  return dlt.read(\"streaming_silver\").groupBy(\"user_id\").count()"
   ]
  }
 ],
 "metadata": {
  "application/vnd.databricks.v1+notebook": {
   "dashboards": [],
   "environmentMetadata": {
    "base_environment": "",
    "client": "1"
   },
   "language": "python",
   "notebookMetadata": {
    "pythonIndentUnit": 4
   },
   "notebookName": "dlt-sample-helpers",
   "widgets": {}
  }
 },
 "nbformat": 4,
 "nbformat_minor": 0
}
